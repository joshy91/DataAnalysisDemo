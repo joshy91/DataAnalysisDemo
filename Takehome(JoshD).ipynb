{
 "nbformat": 4,
 "nbformat_minor": 0,
 "metadata": {
  "colab": {
   "provenance": []
  },
  "kernelspec": {
   "name": "python3",
   "language": "python",
   "display_name": "Python 3 (ipykernel)"
  },
  "language_info": {
   "name": "python"
  }
 },
 "cells": [
  {
   "cell_type": "markdown",
   "source": [
    "# Problem Statement\n",
    "\n",
    "As a Data Scientist for a renowned sit-down restaurant chain with numerous locations across the United States, you are tasked with reducing the frequency of service-related errors. These errors are caused by various factors, some within the control of waiters (such as order mishandling) and others outside of their control (such as kitchen errors).\n",
    "\n",
    "Your objective is to develop a predictive model to identify waiters who are more prone to making preventable errors. This challenge is unprecedented within the organization, requiring you to establish the data preprocessing steps and conduct exploratory data analysis from scratch. This foundational work will pave the way for creating a robust model aimed at minimizing order errors. In addition to preprocessing the dataset, the manager would like for you share some insights. Some ideas for the insights are data quality issues and statistical properties of potential features for the model.\n",
    "\n",
    "\n"
   ],
   "metadata": {
    "id": "UfZp8N9DktXq"
   }
  },
  {
   "cell_type": "markdown",
   "source": [
    "A junior analyst on your team has pulled 3 datasets for you to use in accomplishing your tasks. Below is a summary for each of the tables.\n",
    "\n",
    "\n",
    "\n",
    "Table: shifts\n",
    "*   Description: Table where each row represents a single shift performed by a waiter. Only covers shifts in 2022.\n",
    "*   Columns\n",
    "  *   EMPLOYEE_ID: An employee's unique identifier\n",
    "  *   START_TIME: A datetime that describes the start of an employee's shift\n",
    "  *   END_TIME: A datetime that describes the end of an employee's shift\n",
    "  *   DURATION: The duration of the shift, in hours\n",
    "\n",
    "Table: hr\n",
    "*   Description: Table that contains information about the waiter's hiring dates and the location that they have been hired at. The analyst told you that waiters can switch locations.\n",
    "*   Columns\n",
    "  *   EMPLOYEE_ID: An employee's unique identifier\n",
    "  *   RESTARAUNT_ID: A restaurant location's unique unique identifier\n",
    "  *   EARLIEST_HIRE_DATE: A date that describes the waiter's first date of employment with the company\n",
    "  *   RESTAURANT_HIRE_DATE: A date that describes the waiter's first date of employment with a particular restaurant location\n",
    "\n",
    "Table: errors\n",
    "*   Description: Table where each row describes an error that has occured.\n",
    "*   Columns\n",
    "  *   EMPLOYEE_ID: An employee's unique identifier\n",
    "  *   RESTARAUNT_ID: A restaurant location's unique unique identifier\n",
    "  *   EVENT_TIME: The time the error occured\n",
    "  *   EVENT_DATE: The date the error occured\n",
    "  *   ERROR_IS_PREVENTABLE: A binary indicator that is set to 1 if the error was preventable."
   ],
   "metadata": {
    "id": "tqrSGiPpJuJZ"
   }
  },
  {
   "cell_type": "markdown",
   "source": [
    "# Deliverables\n",
    "\n",
    "\n",
    "*   Dataset ready to be used for modeling. Call it errors_shift_model. You do not need to save it anywhere external.\n",
    "*   Explorations and insights in the form of comments, tables, and visualizations.\n",
    "*   A model that meets the project's objective.\n",
    "\n"
   ],
   "metadata": {
    "id": "d8Ew2iJhQVT9"
   }
  },
  {
   "cell_type": "markdown",
   "source": [
    "# Guidelines / Helpful Tips\n",
    "\n",
    "\n",
    "*   The datasets provided have not been validated so they may or may not need to be cleaned.\n",
    "*   There are a great deal of ambigious details about the project, you are expected to do your best to handle them. In order to do this, you will need to make assumptions and structure logic as you see fit.\n",
    "*   Please use python as the programming language.\n",
    "*   Please use pandas as your primary tool for data manipulation.\n",
    "*   Please use sklearn/statsmodels/xgboost to perform any modeling.\n",
    "*   Please do **not** use the generative AI functionality in Colab.\n",
    "*   Performance of the model is only a single component of your assessment.\n",
    "*   The purpose of this takehome is to see how you...\n",
    "  * structure your logic and attempt to understand ambigious problems\n",
    "  * display your thought process\n",
    "*   Please do not use more than 3-4 hours on this assignment. The Penske Data Science team understands that given the time constraint, you will most likely not be able to create a perfect solution. Do the best you can, given the limitations set upon you.\n",
    "*   You are free to use the internet\n",
    "\n"
   ],
   "metadata": {
    "id": "UBFfWSS7FExT"
   }
  },
  {
   "cell_type": "markdown",
   "source": [
    "# Notebook Setup"
   ],
   "metadata": {
    "id": "9RUCqAiSSztd"
   }
  },
  {
   "cell_type": "code",
   "source": [
    "# run this cell to initialize the datasets that have been described above\n",
    "# DO NOT MODIFY THIS CELL\n",
    "\n",
    "import pandas as pd\n",
    "\n",
    "shifts = pd.read_csv('https://docs.google.com/spreadsheets/d/e/2PACX-1vQWZCylyYjgQO3MUfQvyB1KppG03P2L2RlXOySSolIYI1Dm3Q0gUYH5N3y5xa1HHSrlvzlQk9HxlQC3/pub?output=csv')\n",
    "hr = pd.read_csv('https://docs.google.com/spreadsheets/d/e/2PACX-1vSMuod6qmnAcvkw7z48d1_XL6GGw8j6_yD5d2Jt7OpJN6Oqd4Fwvu0EPQQD7sITati_0MDrtJy6sUMw/pub?output=csv')\n",
    "errors = pd.read_csv('https://docs.google.com/spreadsheets/d/e/2PACX-1vTntMuVEjUUPzxMUB8y4fR6tfOwfHyXVgtB08oYaM_JfkK3BVzi0DbduRFYhFjFD_XtxhREXZvSHzAX/pub?output=csv')"
   ],
   "metadata": {
    "id": "AyMRuq2sQF4H",
    "ExecuteTime": {
     "end_time": "2024-04-17T21:43:10.592841198Z",
     "start_time": "2024-04-17T21:43:02.528458994Z"
    }
   },
   "execution_count": 90,
   "outputs": []
  },
  {
   "cell_type": "code",
   "source": [
    "shifts.head()"
   ],
   "metadata": {
    "colab": {
     "base_uri": "https://localhost:8080/",
     "height": 206
    },
    "id": "ZSWBXkOWTsLh",
    "outputId": "c523b980-2364-4d13-a0f0-c89a49aa8032",
    "ExecuteTime": {
     "end_time": "2024-04-17T21:43:10.635815909Z",
     "start_time": "2024-04-17T21:43:10.601541237Z"
    }
   },
   "execution_count": 91,
   "outputs": [
    {
     "data": {
      "text/plain": "   EMPLOYEE_ID       START_TIME          END_TIME   DURATION\n0    544477416   7/12/2022 5:38   7/12/2022 16:00  10.366667\n1    544606615  8/11/2022 14:58   8/11/2022 23:30   8.533333\n2    544613149   2/23/2022 1:00   2/23/2022 11:34  10.566667\n3    544679188  12/15/2022 4:30  12/15/2022 15:30  11.000000\n4    544657030   9/20/2022 8:45   9/20/2022 18:02   9.283333",
      "text/html": "<div>\n<style scoped>\n    .dataframe tbody tr th:only-of-type {\n        vertical-align: middle;\n    }\n\n    .dataframe tbody tr th {\n        vertical-align: top;\n    }\n\n    .dataframe thead th {\n        text-align: right;\n    }\n</style>\n<table border=\"1\" class=\"dataframe\">\n  <thead>\n    <tr style=\"text-align: right;\">\n      <th></th>\n      <th>EMPLOYEE_ID</th>\n      <th>START_TIME</th>\n      <th>END_TIME</th>\n      <th>DURATION</th>\n    </tr>\n  </thead>\n  <tbody>\n    <tr>\n      <th>0</th>\n      <td>544477416</td>\n      <td>7/12/2022 5:38</td>\n      <td>7/12/2022 16:00</td>\n      <td>10.366667</td>\n    </tr>\n    <tr>\n      <th>1</th>\n      <td>544606615</td>\n      <td>8/11/2022 14:58</td>\n      <td>8/11/2022 23:30</td>\n      <td>8.533333</td>\n    </tr>\n    <tr>\n      <th>2</th>\n      <td>544613149</td>\n      <td>2/23/2022 1:00</td>\n      <td>2/23/2022 11:34</td>\n      <td>10.566667</td>\n    </tr>\n    <tr>\n      <th>3</th>\n      <td>544679188</td>\n      <td>12/15/2022 4:30</td>\n      <td>12/15/2022 15:30</td>\n      <td>11.000000</td>\n    </tr>\n    <tr>\n      <th>4</th>\n      <td>544657030</td>\n      <td>9/20/2022 8:45</td>\n      <td>9/20/2022 18:02</td>\n      <td>9.283333</td>\n    </tr>\n  </tbody>\n</table>\n</div>"
     },
     "execution_count": 91,
     "metadata": {},
     "output_type": "execute_result"
    }
   ]
  },
  {
   "cell_type": "code",
   "source": [
    "hr.head()"
   ],
   "metadata": {
    "colab": {
     "base_uri": "https://localhost:8080/",
     "height": 206
    },
    "id": "E1T59k4sTsDy",
    "outputId": "a127628a-c70b-490f-c91a-2de23723f3d8",
    "ExecuteTime": {
     "end_time": "2024-04-17T21:43:10.868049378Z",
     "start_time": "2024-04-17T21:43:10.614911913Z"
    }
   },
   "execution_count": 92,
   "outputs": [
    {
     "data": {
      "text/plain": "   EMPLOYEE_ID  RESTAURANT_ID EARLIEST_HIRE_DATE RESTAURANT_HIRE_DATE\n0    544444763         411857          11/8/1999            5/31/2017\n1    544444763         411857          11/8/1999            5/31/2017\n2    544444763         411857          11/8/1999            5/31/2017\n3    544444763         411857          11/8/1999            5/31/2017\n4    544444763         411857          11/8/1999            5/31/2017",
      "text/html": "<div>\n<style scoped>\n    .dataframe tbody tr th:only-of-type {\n        vertical-align: middle;\n    }\n\n    .dataframe tbody tr th {\n        vertical-align: top;\n    }\n\n    .dataframe thead th {\n        text-align: right;\n    }\n</style>\n<table border=\"1\" class=\"dataframe\">\n  <thead>\n    <tr style=\"text-align: right;\">\n      <th></th>\n      <th>EMPLOYEE_ID</th>\n      <th>RESTAURANT_ID</th>\n      <th>EARLIEST_HIRE_DATE</th>\n      <th>RESTAURANT_HIRE_DATE</th>\n    </tr>\n  </thead>\n  <tbody>\n    <tr>\n      <th>0</th>\n      <td>544444763</td>\n      <td>411857</td>\n      <td>11/8/1999</td>\n      <td>5/31/2017</td>\n    </tr>\n    <tr>\n      <th>1</th>\n      <td>544444763</td>\n      <td>411857</td>\n      <td>11/8/1999</td>\n      <td>5/31/2017</td>\n    </tr>\n    <tr>\n      <th>2</th>\n      <td>544444763</td>\n      <td>411857</td>\n      <td>11/8/1999</td>\n      <td>5/31/2017</td>\n    </tr>\n    <tr>\n      <th>3</th>\n      <td>544444763</td>\n      <td>411857</td>\n      <td>11/8/1999</td>\n      <td>5/31/2017</td>\n    </tr>\n    <tr>\n      <th>4</th>\n      <td>544444763</td>\n      <td>411857</td>\n      <td>11/8/1999</td>\n      <td>5/31/2017</td>\n    </tr>\n  </tbody>\n</table>\n</div>"
     },
     "execution_count": 92,
     "metadata": {},
     "output_type": "execute_result"
    }
   ]
  },
  {
   "cell_type": "code",
   "source": [
    "errors.head()"
   ],
   "metadata": {
    "colab": {
     "base_uri": "https://localhost:8080/",
     "height": 206
    },
    "id": "4SCS59oVTr5e",
    "outputId": "7523005b-e4e4-4b8e-817f-91aeaeeab8a1",
    "ExecuteTime": {
     "end_time": "2024-04-17T21:43:10.872166990Z",
     "start_time": "2024-04-17T21:43:10.661536472Z"
    }
   },
   "execution_count": 93,
   "outputs": [
    {
     "data": {
      "text/plain": "   EMPLOYEE_ID  RESTAURANT_ID   EVENT_TIME  EVENT_DATE  ERROR_IS_PREVENTABLE\n0    544669126         480256   4:30:00 PM  12/29/2022                   1.0\n1    544664185         436156  12:20:00 AM   5/24/2022                   1.0\n2    544672153         503156   9:48:00 PM   5/22/2022                   1.0\n3    544480270         241956   7:40:00 PM   5/24/2022                   1.0\n4    544661341         536156   1:00:00 PM   5/31/2022                   1.0",
      "text/html": "<div>\n<style scoped>\n    .dataframe tbody tr th:only-of-type {\n        vertical-align: middle;\n    }\n\n    .dataframe tbody tr th {\n        vertical-align: top;\n    }\n\n    .dataframe thead th {\n        text-align: right;\n    }\n</style>\n<table border=\"1\" class=\"dataframe\">\n  <thead>\n    <tr style=\"text-align: right;\">\n      <th></th>\n      <th>EMPLOYEE_ID</th>\n      <th>RESTAURANT_ID</th>\n      <th>EVENT_TIME</th>\n      <th>EVENT_DATE</th>\n      <th>ERROR_IS_PREVENTABLE</th>\n    </tr>\n  </thead>\n  <tbody>\n    <tr>\n      <th>0</th>\n      <td>544669126</td>\n      <td>480256</td>\n      <td>4:30:00 PM</td>\n      <td>12/29/2022</td>\n      <td>1.0</td>\n    </tr>\n    <tr>\n      <th>1</th>\n      <td>544664185</td>\n      <td>436156</td>\n      <td>12:20:00 AM</td>\n      <td>5/24/2022</td>\n      <td>1.0</td>\n    </tr>\n    <tr>\n      <th>2</th>\n      <td>544672153</td>\n      <td>503156</td>\n      <td>9:48:00 PM</td>\n      <td>5/22/2022</td>\n      <td>1.0</td>\n    </tr>\n    <tr>\n      <th>3</th>\n      <td>544480270</td>\n      <td>241956</td>\n      <td>7:40:00 PM</td>\n      <td>5/24/2022</td>\n      <td>1.0</td>\n    </tr>\n    <tr>\n      <th>4</th>\n      <td>544661341</td>\n      <td>536156</td>\n      <td>1:00:00 PM</td>\n      <td>5/31/2022</td>\n      <td>1.0</td>\n    </tr>\n  </tbody>\n</table>\n</div>"
     },
     "execution_count": 93,
     "metadata": {},
     "output_type": "execute_result"
    }
   ]
  },
  {
   "cell_type": "markdown",
   "source": [
    "# Candidate Starting Point\n",
    "\n",
    "Please write all your code after this cell."
   ],
   "metadata": {
    "id": "W0FIml_hUbL4"
   }
  },
  {
   "cell_type": "markdown",
   "source": [
    "# Outline of Efforts"
   ],
   "metadata": {
    "collapsed": false
   }
  },
  {
   "cell_type": "raw",
   "source": [
    "1. Analyze Data\n",
    "    Basic Shape\n",
    "    Missing Data\n",
    "    Key Columns Min Max\n",
    "\n",
    "\n",
    "2. Determine Table Structure for Modeling Data\n",
    "    Shifts\n",
    "        HR\n",
    "            Errors\n",
    "\n",
    "\n",
    "    Join Data Sets for Modeling\n",
    "\n",
    "3. Create Feature Columns\n",
    "    1. Predict Employee Errors on A Given Shift(?)\n",
    "        Predictors\n",
    "        Index(EmployeeID, RestaurantID, StartTime)\n",
    "        Shift Hour Start (24 values based on Start Date Time hour)\n",
    "        Duration (Duration value for index combination)\n",
    "        TotalWorkHoursToDate (Sum Duration Relative to StartTime Date)\n",
    "        RestaurantWorkHoursToDate (Sum Duration Relative to StartTime Date given Matching RestaurantID)\n",
    "        TotalWorkHoursInPrevious7Days (Sum Duration Relative to StartTime Date and 7 days before Date)\n",
    "        TotalWorkHoursInPrevious3Days (Sum Duration Relative to StartTime Date and 3 days before Date)\n",
    "        EmployeeErrorsToDate (Sum Is in Shift is True given matching EmployeeID, Relative to StartTime Date)\n",
    "        RestaurantTotalErrorsToDate (Sum Is in Shift is True given matching RestaurantID, Relative to StartTime Date)\n",
    "\n",
    "        Response\n",
    "        Is_In_Shift (Error in Shift)\n",
    "\n",
    "\n",
    "4. Modeling\n",
    "    Hypothesis Testing\n",
    "        Mean Difference of Each Feature Columns between\n",
    "            Preventable Error, Non Preventable Error, and Non-Error Shifts\n",
    "\n",
    "    Modeling\n",
    "        Subset Based on Distribution of Any Feature Columns with Rejected Null Hypothesis\n",
    "            Subsample as needed for \"balanced\" classes while maintaining population \"distribution\"\n",
    "                Build Model to Predict\n",
    "\n",
    "                Logistic Regression\n",
    "                XGBoost\n",
    "\n",
    "                *Cross Validation Skipped for time constraints\n",
    "                \n",
    "5. Key Findings"
   ],
   "metadata": {
    "collapsed": false
   }
  },
  {
   "cell_type": "code",
   "outputs": [],
   "source": [],
   "metadata": {
    "id": "2FWljk2EU0PE",
    "ExecuteTime": {
     "end_time": "2024-04-17T21:43:10.925555323Z",
     "start_time": "2024-04-17T21:43:10.661942130Z"
    }
   },
   "execution_count": 93
  },
  {
   "cell_type": "markdown",
   "source": [
    "# 1. Analyze Data"
   ],
   "metadata": {
    "collapsed": false
   }
  },
  {
   "cell_type": "markdown",
   "source": [
    "## Basic Structure of Tables"
   ],
   "metadata": {
    "collapsed": false
   }
  },
  {
   "cell_type": "code",
   "outputs": [],
   "source": [
    "def print_dataframe_info(df):\n",
    "    \"\"\"\n",
    "    Print basic information about a dataframe including its size, column names,\n",
    "    and any columns with missing data.\n",
    "\n",
    "    Parameters:\n",
    "    df (pd.DataFrame): The dataframe to analyze.\n",
    "    \"\"\"\n",
    "    print(f\"Number of rows: {df.shape[0]}\")\n",
    "    print(f\"Number of columns: {df.shape[1]}\")\n",
    "    print(f\"Column names: {df.columns.tolist()}\")\n",
    "    \n",
    "    # Checking for columns with missing data\n",
    "    missing_data = df.isnull().sum()\n",
    "    missing_columns = missing_data[missing_data > 0]\n",
    "    \n",
    "    if not missing_columns.empty:\n",
    "        print(\"Columns with missing data:\")\n",
    "        for column, count in missing_columns.items():\n",
    "            print(f\"{column}: {count} missing entries\")\n",
    "    else:\n",
    "        print(\"No missing data in any column.\")"
   ],
   "metadata": {
    "collapsed": false,
    "ExecuteTime": {
     "end_time": "2024-04-17T21:43:10.976491663Z",
     "start_time": "2024-04-17T21:43:10.664997708Z"
    }
   },
   "execution_count": 94
  },
  {
   "cell_type": "code",
   "outputs": [
    {
     "name": "stdout",
     "output_type": "stream",
     "text": [
      "Number of rows: 128351\n",
      "Number of columns: 4\n",
      "Column names: ['EMPLOYEE_ID', 'RESTAURANT_ID', 'EARLIEST_HIRE_DATE', 'RESTAURANT_HIRE_DATE']\n",
      "No missing data in any column.\n"
     ]
    }
   ],
   "source": [
    "print_dataframe_info(hr)"
   ],
   "metadata": {
    "collapsed": false,
    "ExecuteTime": {
     "end_time": "2024-04-17T21:43:11.112210094Z",
     "start_time": "2024-04-17T21:43:10.679416377Z"
    }
   },
   "execution_count": 95
  },
  {
   "cell_type": "code",
   "outputs": [
    {
     "name": "stdout",
     "output_type": "stream",
     "text": [
      "Number of rows: 77086\n",
      "Number of columns: 4\n",
      "Column names: ['EMPLOYEE_ID', 'START_TIME', 'END_TIME', 'DURATION']\n",
      "No missing data in any column.\n"
     ]
    }
   ],
   "source": [
    "print_dataframe_info(shifts)"
   ],
   "metadata": {
    "collapsed": false,
    "ExecuteTime": {
     "end_time": "2024-04-17T21:43:11.162906473Z",
     "start_time": "2024-04-17T21:43:10.724177098Z"
    }
   },
   "execution_count": 96
  },
  {
   "cell_type": "code",
   "outputs": [
    {
     "name": "stdout",
     "output_type": "stream",
     "text": [
      "Number of rows: 337\n",
      "Number of columns: 5\n",
      "Column names: ['EMPLOYEE_ID', 'RESTAURANT_ID', 'EVENT_TIME', 'EVENT_DATE', 'ERROR_IS_PREVENTABLE']\n",
      "Columns with missing data:\n",
      "ERROR_IS_PREVENTABLE: 1 missing entries\n"
     ]
    }
   ],
   "source": [
    "print_dataframe_info(errors)"
   ],
   "metadata": {
    "collapsed": false,
    "ExecuteTime": {
     "end_time": "2024-04-17T21:43:11.220752505Z",
     "start_time": "2024-04-17T21:43:10.734903164Z"
    }
   },
   "execution_count": 97
  },
  {
   "cell_type": "code",
   "outputs": [
    {
     "name": "stdout",
     "output_type": "stream",
     "text": [
      "     EMPLOYEE_ID  RESTAURANT_ID  EVENT_TIME EVENT_DATE  ERROR_IS_PREVENTABLE\n",
      "134    544667738         548656  2:15:00 PM   2/3/2022                   NaN\n"
     ]
    }
   ],
   "source": [
    "print(errors[errors.isnull().any(axis=1)])"
   ],
   "metadata": {
    "collapsed": false,
    "ExecuteTime": {
     "end_time": "2024-04-17T21:43:11.284080706Z",
     "start_time": "2024-04-17T21:43:10.745915704Z"
    }
   },
   "execution_count": 98
  },
  {
   "cell_type": "code",
   "outputs": [
    {
     "data": {
      "text/plain": "     EMPLOYEE_ID  RESTAURANT_ID   EVENT_TIME  EVENT_DATE  ERROR_IS_PREVENTABLE\n0      544669126         480256   4:30:00 PM  12/29/2022                   1.0\n1      544664185         436156  12:20:00 AM   5/24/2022                   1.0\n2      544672153         503156   9:48:00 PM   5/22/2022                   1.0\n3      544480270         241956   7:40:00 PM   5/24/2022                   1.0\n4      544661341         536156   1:00:00 PM   5/31/2022                   1.0\n..           ...            ...          ...         ...                   ...\n332    544659812         575756   8:50:00 PM  12/12/2022                   1.0\n333    544478027         241956   1:00:00 PM   1/25/2022                   1.0\n334    544656799         575756   9:30:00 PM   5/20/2022                   0.0\n335    544665184         536156   6:50:00 AM    3/7/2022                   1.0\n336    544670468         548156  11:25:00 PM    8/4/2022                   1.0\n\n[337 rows x 5 columns]",
      "text/html": "<div>\n<style scoped>\n    .dataframe tbody tr th:only-of-type {\n        vertical-align: middle;\n    }\n\n    .dataframe tbody tr th {\n        vertical-align: top;\n    }\n\n    .dataframe thead th {\n        text-align: right;\n    }\n</style>\n<table border=\"1\" class=\"dataframe\">\n  <thead>\n    <tr style=\"text-align: right;\">\n      <th></th>\n      <th>EMPLOYEE_ID</th>\n      <th>RESTAURANT_ID</th>\n      <th>EVENT_TIME</th>\n      <th>EVENT_DATE</th>\n      <th>ERROR_IS_PREVENTABLE</th>\n    </tr>\n  </thead>\n  <tbody>\n    <tr>\n      <th>0</th>\n      <td>544669126</td>\n      <td>480256</td>\n      <td>4:30:00 PM</td>\n      <td>12/29/2022</td>\n      <td>1.0</td>\n    </tr>\n    <tr>\n      <th>1</th>\n      <td>544664185</td>\n      <td>436156</td>\n      <td>12:20:00 AM</td>\n      <td>5/24/2022</td>\n      <td>1.0</td>\n    </tr>\n    <tr>\n      <th>2</th>\n      <td>544672153</td>\n      <td>503156</td>\n      <td>9:48:00 PM</td>\n      <td>5/22/2022</td>\n      <td>1.0</td>\n    </tr>\n    <tr>\n      <th>3</th>\n      <td>544480270</td>\n      <td>241956</td>\n      <td>7:40:00 PM</td>\n      <td>5/24/2022</td>\n      <td>1.0</td>\n    </tr>\n    <tr>\n      <th>4</th>\n      <td>544661341</td>\n      <td>536156</td>\n      <td>1:00:00 PM</td>\n      <td>5/31/2022</td>\n      <td>1.0</td>\n    </tr>\n    <tr>\n      <th>...</th>\n      <td>...</td>\n      <td>...</td>\n      <td>...</td>\n      <td>...</td>\n      <td>...</td>\n    </tr>\n    <tr>\n      <th>332</th>\n      <td>544659812</td>\n      <td>575756</td>\n      <td>8:50:00 PM</td>\n      <td>12/12/2022</td>\n      <td>1.0</td>\n    </tr>\n    <tr>\n      <th>333</th>\n      <td>544478027</td>\n      <td>241956</td>\n      <td>1:00:00 PM</td>\n      <td>1/25/2022</td>\n      <td>1.0</td>\n    </tr>\n    <tr>\n      <th>334</th>\n      <td>544656799</td>\n      <td>575756</td>\n      <td>9:30:00 PM</td>\n      <td>5/20/2022</td>\n      <td>0.0</td>\n    </tr>\n    <tr>\n      <th>335</th>\n      <td>544665184</td>\n      <td>536156</td>\n      <td>6:50:00 AM</td>\n      <td>3/7/2022</td>\n      <td>1.0</td>\n    </tr>\n    <tr>\n      <th>336</th>\n      <td>544670468</td>\n      <td>548156</td>\n      <td>11:25:00 PM</td>\n      <td>8/4/2022</td>\n      <td>1.0</td>\n    </tr>\n  </tbody>\n</table>\n<p>337 rows × 5 columns</p>\n</div>"
     },
     "execution_count": 99,
     "metadata": {},
     "output_type": "execute_result"
    }
   ],
   "source": [
    "errors"
   ],
   "metadata": {
    "collapsed": false,
    "ExecuteTime": {
     "end_time": "2024-04-17T21:43:11.285159696Z",
     "start_time": "2024-04-17T21:43:10.765110747Z"
    }
   },
   "execution_count": 99
  },
  {
   "cell_type": "markdown",
   "source": [
    "## Key Column Overlap"
   ],
   "metadata": {
    "collapsed": false
   }
  },
  {
   "cell_type": "code",
   "outputs": [
    {
     "name": "stdout",
     "output_type": "stream",
     "text": [
      "Number of unique employee IDs in errors df: 295\n",
      "Number of unique employee IDs in shifts df: 5763\n",
      "Number of unique employee IDs in hr df: 31493\n",
      "Number of unique employee IDs that overlap: 174\n"
     ]
    }
   ],
   "source": [
    "# Extract unique employee IDs from each dataset\n",
    "error_employee_ids = set(errors['EMPLOYEE_ID'].unique())\n",
    "shift_employee_ids = set(shifts['EMPLOYEE_ID'].unique())\n",
    "hr_employee_ids = set(hr['EMPLOYEE_ID'].unique())\n",
    "\n",
    "# Count unique EMPLOYEE_IDs\n",
    "unique_ids_errors = errors['EMPLOYEE_ID'].nunique()\n",
    "unique_ids_shifts = shifts['EMPLOYEE_ID'].nunique()\n",
    "unique_ids_hr = hr['EMPLOYEE_ID'].nunique()\n",
    "\n",
    "# Print the results\n",
    "print(f\"Number of unique employee IDs in errors df: {unique_ids_errors}\")\n",
    "print(f\"Number of unique employee IDs in shifts df: {unique_ids_shifts}\")\n",
    "print(f\"Number of unique employee IDs in hr df: {unique_ids_hr}\")\n",
    "\n",
    "# Find the intersection of employee IDs in both datasets\n",
    "overlapping_ids = error_employee_ids.intersection(shift_employee_ids)\n",
    "\n",
    "overlapping_ids = overlapping_ids.intersection(hr_employee_ids)\n",
    "\n",
    "# Count the number of overlapping IDs\n",
    "number_of_overlapping_ids = len(overlapping_ids)\n",
    "print(f\"Number of unique employee IDs that overlap: {number_of_overlapping_ids}\")"
   ],
   "metadata": {
    "collapsed": false,
    "ExecuteTime": {
     "end_time": "2024-04-17T21:43:11.320888156Z",
     "start_time": "2024-04-17T21:43:10.805476127Z"
    }
   },
   "execution_count": 100
  },
  {
   "cell_type": "code",
   "outputs": [
    {
     "name": "stdout",
     "output_type": "stream",
     "text": [
      "Number of unique restaurant IDs in errors df: 36\n",
      "Number of unique restaurant IDs in hr df: 242\n",
      "Number of unique restaurant IDs that overlap: 33\n"
     ]
    }
   ],
   "source": [
    "# Extract unique employee IDs from each dataset\n",
    "error_employee_ids = set(errors['RESTAURANT_ID'].unique())\n",
    "hr_employee_ids = set(hr['RESTAURANT_ID'].unique())\n",
    "\n",
    "# Count unique EMPLOYEE_IDs\n",
    "unique_ids_errors = errors['RESTAURANT_ID'].nunique()\n",
    "unique_ids_hr = hr['RESTAURANT_ID'].nunique()\n",
    "\n",
    "# Print the results\n",
    "print(f\"Number of unique restaurant IDs in errors df: {unique_ids_errors}\")\n",
    "print(f\"Number of unique restaurant IDs in hr df: {unique_ids_hr}\")\n",
    "\n",
    "# Find the intersection of employee IDs in both datasets\n",
    "overlapping_ids = error_employee_ids.intersection(hr_employee_ids)\n",
    "\n",
    "# Count the number of overlapping IDs\n",
    "number_of_overlapping_ids = len(overlapping_ids)\n",
    "print(f\"Number of unique restaurant IDs that overlap: {number_of_overlapping_ids}\")"
   ],
   "metadata": {
    "collapsed": false,
    "ExecuteTime": {
     "end_time": "2024-04-17T21:43:11.362312856Z",
     "start_time": "2024-04-17T21:43:10.830318532Z"
    }
   },
   "execution_count": 101
  },
  {
   "cell_type": "markdown",
   "source": [
    "## Determination of Key Column Mins / Maxs"
   ],
   "metadata": {
    "collapsed": false
   }
  },
  {
   "cell_type": "code",
   "outputs": [],
   "source": [
    "def datetime_min_max(df, column_name):\n",
    "    \"\"\"\n",
    "    Calculate and print min and max for a datetime column in a DataFrame.\n",
    "\n",
    "    Parameters:\n",
    "    df (pd.DataFrame): The DataFrame containing the datetime data.\n",
    "    column_name (str): The name of the column to analyze.\n",
    "\n",
    "    Returns:\n",
    "    dict: A dictionary containing the min, max of the datetime column.\n",
    "    \"\"\"\n",
    "    try:\n",
    "        # Ensure the column is in datetime format\n",
    "        df[column_name] = pd.to_datetime(df[column_name])\n",
    "        \n",
    "        # Calculate min, max, and mean\n",
    "        min_date = df[column_name].min()\n",
    "        max_date = df[column_name].max()\n",
    "\n",
    "        stats = {\n",
    "            'Minimum': min_date,\n",
    "            'Maximum': max_date,\n",
    "        }\n",
    "        \n",
    "        # Print the statistics\n",
    "        for key, value in stats.items():\n",
    "            print(f\"{key}: {value}\")\n",
    "\n",
    "        return stats\n",
    "    except Exception as e:\n",
    "        print(f\"Error: {e}\")"
   ],
   "metadata": {
    "collapsed": false,
    "ExecuteTime": {
     "end_time": "2024-04-17T21:43:11.411581827Z",
     "start_time": "2024-04-17T21:43:10.846717949Z"
    }
   },
   "execution_count": 102
  },
  {
   "cell_type": "code",
   "outputs": [
    {
     "name": "stdout",
     "output_type": "stream",
     "text": [
      "Minimum: 2022-01-01 00:00:00\n",
      "Maximum: 2022-12-31 18:41:00\n"
     ]
    },
    {
     "data": {
      "text/plain": "{'Minimum': Timestamp('2022-01-01 00:00:00'),\n 'Maximum': Timestamp('2022-12-31 18:41:00')}"
     },
     "execution_count": 103,
     "metadata": {},
     "output_type": "execute_result"
    }
   ],
   "source": [
    "datetime_min_max(shifts, 'START_TIME')"
   ],
   "metadata": {
    "collapsed": false,
    "ExecuteTime": {
     "end_time": "2024-04-17T21:43:11.993726262Z",
     "start_time": "2024-04-17T21:43:10.859785452Z"
    }
   },
   "execution_count": 103
  },
  {
   "cell_type": "code",
   "outputs": [
    {
     "name": "stdout",
     "output_type": "stream",
     "text": [
      "Minimum: 2022-01-01 10:36:00\n",
      "Maximum: 2023-01-01 07:40:00\n"
     ]
    },
    {
     "data": {
      "text/plain": "{'Minimum': Timestamp('2022-01-01 10:36:00'),\n 'Maximum': Timestamp('2023-01-01 07:40:00')}"
     },
     "execution_count": 104,
     "metadata": {},
     "output_type": "execute_result"
    }
   ],
   "source": [
    "datetime_min_max(shifts, 'END_TIME')"
   ],
   "metadata": {
    "collapsed": false,
    "ExecuteTime": {
     "end_time": "2024-04-17T21:43:12.331544640Z",
     "start_time": "2024-04-17T21:43:11.203381540Z"
    }
   },
   "execution_count": 104
  },
  {
   "cell_type": "code",
   "outputs": [
    {
     "name": "stdout",
     "output_type": "stream",
     "text": [
      "Minimum: 2022-01-03 00:00:00\n",
      "Maximum: 2023-01-01 00:00:00\n"
     ]
    },
    {
     "data": {
      "text/plain": "{'Minimum': Timestamp('2022-01-03 00:00:00'),\n 'Maximum': Timestamp('2023-01-01 00:00:00')}"
     },
     "execution_count": 105,
     "metadata": {},
     "output_type": "execute_result"
    }
   ],
   "source": [
    "datetime_min_max(errors, 'EVENT_DATE')"
   ],
   "metadata": {
    "collapsed": false,
    "ExecuteTime": {
     "end_time": "2024-04-17T21:43:12.398710630Z",
     "start_time": "2024-04-17T21:43:11.560741004Z"
    }
   },
   "execution_count": 105
  },
  {
   "cell_type": "code",
   "outputs": [
    {
     "name": "stdout",
     "output_type": "stream",
     "text": [
      "Minimum: 1984-02-08 00:00:00\n",
      "Maximum: 2024-03-08 00:00:00\n"
     ]
    },
    {
     "data": {
      "text/plain": "{'Minimum': Timestamp('1984-02-08 00:00:00'),\n 'Maximum': Timestamp('2024-03-08 00:00:00')}"
     },
     "execution_count": 106,
     "metadata": {},
     "output_type": "execute_result"
    }
   ],
   "source": [
    "datetime_min_max(hr, 'EARLIEST_HIRE_DATE')"
   ],
   "metadata": {
    "collapsed": false,
    "ExecuteTime": {
     "end_time": "2024-04-17T21:43:12.454518406Z",
     "start_time": "2024-04-17T21:43:11.580736519Z"
    }
   },
   "execution_count": 106
  },
  {
   "cell_type": "code",
   "outputs": [
    {
     "name": "stdout",
     "output_type": "stream",
     "text": [
      "Minimum: 2005-09-19 00:00:00\n",
      "Maximum: 2024-03-09 00:00:00\n"
     ]
    },
    {
     "data": {
      "text/plain": "{'Minimum': Timestamp('2005-09-19 00:00:00'),\n 'Maximum': Timestamp('2024-03-09 00:00:00')}"
     },
     "execution_count": 107,
     "metadata": {},
     "output_type": "execute_result"
    }
   ],
   "source": [
    "datetime_min_max(hr, 'RESTAURANT_HIRE_DATE')"
   ],
   "metadata": {
    "collapsed": false,
    "ExecuteTime": {
     "end_time": "2024-04-17T21:43:12.458350764Z",
     "start_time": "2024-04-17T21:43:11.625927273Z"
    }
   },
   "execution_count": 107
  },
  {
   "cell_type": "code",
   "outputs": [],
   "source": [
    "def col_stats(df, column_name):\n",
    "    \"\"\"\n",
    "    Calculate and print summary statistics for a datetime column in a DataFrame.\n",
    "\n",
    "    Parameters:\n",
    "    df (pd.DataFrame): The DataFrame containing the datetime data.\n",
    "    column_name (str): The name of the column to analyze.\n",
    "\n",
    "    Returns:\n",
    "    dict: A dictionary containing the min, max of the datetime column.\n",
    "    \"\"\"\n",
    "    try:        \n",
    "        # Calculate min, max, and mean\n",
    "        min_date = df[column_name].min()\n",
    "        max_date = df[column_name].max()\n",
    "        mean = df[column_name].mean()\n",
    "        std = df[column_name].std()\n",
    "\n",
    "        stats = {\n",
    "            'Minimum': min_date,\n",
    "            'Maximum': max_date,\n",
    "            'Mean Value': mean,\n",
    "            'Std Value': std\n",
    "        }\n",
    "        \n",
    "        # Print the statistics\n",
    "        for key, value in stats.items():\n",
    "            print(f\"{key}: {value}\")\n",
    "\n",
    "        return stats\n",
    "    except Exception as e:\n",
    "        print(f\"Error: {e}\")"
   ],
   "metadata": {
    "collapsed": false,
    "ExecuteTime": {
     "end_time": "2024-04-17T21:43:12.521338332Z",
     "start_time": "2024-04-17T21:43:11.673737373Z"
    }
   },
   "execution_count": 108
  },
  {
   "cell_type": "code",
   "outputs": [
    {
     "name": "stdout",
     "output_type": "stream",
     "text": [
      "Minimum: 1.0\n",
      "Maximum: 18.0\n",
      "Mean Value: 9.28201337897884\n",
      "Std Value: 1.9052485455667654\n"
     ]
    },
    {
     "data": {
      "text/plain": "{'Minimum': 1.0,\n 'Maximum': 18.0,\n 'Mean Value': 9.28201337897884,\n 'Std Value': 1.9052485455667654}"
     },
     "execution_count": 109,
     "metadata": {},
     "output_type": "execute_result"
    }
   ],
   "source": [
    "col_stats(shifts, 'DURATION')"
   ],
   "metadata": {
    "collapsed": false,
    "ExecuteTime": {
     "end_time": "2024-04-17T21:43:12.524966367Z",
     "start_time": "2024-04-17T21:43:11.684919047Z"
    }
   },
   "execution_count": 109
  },
  {
   "cell_type": "markdown",
   "source": [
    "## 2. Determine Table Structure for Modeling Data"
   ],
   "metadata": {
    "collapsed": false
   }
  },
  {
   "cell_type": "code",
   "outputs": [
    {
     "data": {
      "text/plain": "        EMPLOYEE_ID          START_TIME            END_TIME   DURATION  \\\n242701    544444763 2022-01-28 05:54:00 2022-01-28 18:00:00  12.100000   \n391530    544444763 2022-06-17 05:54:00 2022-06-17 10:01:00   4.116667   \n391544    544444763 2022-06-17 05:54:00 2022-06-17 10:01:00   4.116667   \n80444     544444763 2022-01-29 05:53:00 2022-01-29 17:00:00  11.116667   \n274910    544444763 2022-08-10 05:54:00 2022-08-10 14:10:00   8.266667   \n274924    544444763 2022-08-10 05:54:00 2022-08-10 14:10:00   8.266667   \n427042    544444763 2022-12-19 05:55:00 2022-12-19 18:00:00  12.083333   \n427056    544444763 2022-12-19 05:55:00 2022-12-19 18:00:00  12.083333   \n158379    544444763 2022-10-19 05:54:00 2022-10-19 14:00:00   8.100000   \n158365    544444763 2022-10-19 05:54:00 2022-10-19 14:00:00   8.100000   \n122739    544444763 2022-11-16 05:54:00 2022-11-16 14:01:00   8.116667   \n210449    544444763 2022-01-18 05:54:00 2022-01-18 14:00:00   8.100000   \n210463    544444763 2022-01-18 05:54:00 2022-01-18 14:00:00   8.100000   \n32045     544444763 2022-01-14 00:00:00 2022-01-14 10:00:00  10.000000   \n242687    544444763 2022-01-28 05:54:00 2022-01-28 18:00:00  12.100000   \n423627    544444763 2022-07-29 05:54:00 2022-07-29 16:05:00  10.183333   \n80458     544444763 2022-01-29 05:53:00 2022-01-29 17:00:00  11.116667   \n184506    544444763 2022-08-05 05:54:00 2022-08-05 18:00:00  12.100000   \n184520    544444763 2022-08-05 05:54:00 2022-08-05 18:00:00  12.100000   \n423641    544444763 2022-07-29 05:54:00 2022-07-29 16:05:00  10.183333   \n317400    544444763 2022-10-06 05:54:00 2022-10-06 14:00:00   8.100000   \n122725    544444763 2022-11-16 05:54:00 2022-11-16 14:01:00   8.116667   \n66590     544444763 2022-06-30 04:46:00 2022-06-30 17:00:00  12.233333   \n66604     544444763 2022-06-30 04:46:00 2022-06-30 17:00:00  12.233333   \n317386    544444763 2022-10-06 05:54:00 2022-10-06 14:00:00   8.100000   \n32059     544444763 2022-01-14 00:00:00 2022-01-14 10:00:00  10.000000   \n394396    544444979 2022-11-01 05:00:00 2022-11-01 17:00:00  12.000000   \n37338     544444979 2022-08-08 06:59:00 2022-08-08 15:01:00   8.033333   \n36903     544444979 2022-08-30 06:58:00 2022-08-30 13:00:00   6.033333   \n39180     544444979 2022-12-08 23:00:00 2022-12-09 07:00:00   8.000000   \n399532    544444979 2022-08-19 06:58:00 2022-08-19 14:58:00   8.000000   \n406061    544444979 2022-04-28 06:57:00 2022-04-28 15:01:00   8.066667   \n121685    544444979 2022-10-19 06:58:00 2022-10-19 15:00:00   8.033333   \n378307    544444979 2022-02-18 06:00:00 2022-02-18 17:00:00  11.000000   \n237460    544444979 2022-08-23 04:58:00 2022-08-23 14:58:00  10.000000   \n288078    544444979 2022-06-30 06:58:00 2022-06-30 12:59:00   6.016667   \n283761    544444979 2022-12-15 03:00:00 2022-12-15 13:00:00  10.000000   \n114905    544444979 2022-09-06 06:58:00 2022-09-06 14:58:00   8.000000   \n42928     544444979 2022-07-13 04:57:00 2022-07-13 13:00:00   8.050000   \n245294    544444979 2022-01-21 04:00:00 2022-01-21 15:00:00  11.000000   \n278363    544444979 2022-09-29 07:00:00 2022-09-29 19:00:00  12.000000   \n132934    544444979 2022-12-14 03:00:00 2022-12-14 13:00:00  10.000000   \n115502    544444979 2022-04-04 05:00:00 2022-04-04 15:00:00  10.000000   \n98130     544444979 2022-10-26 05:00:00 2022-10-26 17:00:00  12.000000   \n297350    544444979 2022-04-07 05:00:00 2022-04-07 15:00:00  10.000000   \n164375    544444979 2022-12-06 23:00:00 2022-12-07 10:00:00  11.000000   \n401113    544445037 2022-07-09 07:53:00 2022-07-09 16:04:00   8.183333   \n106377    544445037 2022-08-08 06:53:00 2022-08-08 15:35:00   8.700000   \n108326    544445037 2022-12-18 09:01:00 2022-12-18 16:07:00   7.100000   \n257401    544445037 2022-05-19 06:53:00 2022-05-19 15:38:00   8.750000   \n\n       RESTAURANT_ID EARLIEST_HIRE_DATE RESTAURANT_HIRE_DATE  \n242701        526056         1999-11-08           2021-07-05  \n391530        411857         1999-11-08           2017-05-31  \n391544        526056         1999-11-08           2021-07-05  \n80444         411857         1999-11-08           2017-05-31  \n274910        411857         1999-11-08           2017-05-31  \n274924        526056         1999-11-08           2021-07-05  \n427042        411857         1999-11-08           2017-05-31  \n427056        526056         1999-11-08           2021-07-05  \n158379        526056         1999-11-08           2021-07-05  \n158365        411857         1999-11-08           2017-05-31  \n122739        526056         1999-11-08           2021-07-05  \n210449        411857         1999-11-08           2017-05-31  \n210463        526056         1999-11-08           2021-07-05  \n32045         411857         1999-11-08           2017-05-31  \n242687        411857         1999-11-08           2017-05-31  \n423627        411857         1999-11-08           2017-05-31  \n80458         526056         1999-11-08           2021-07-05  \n184506        411857         1999-11-08           2017-05-31  \n184520        526056         1999-11-08           2021-07-05  \n423641        526056         1999-11-08           2021-07-05  \n317400        526056         1999-11-08           2021-07-05  \n122725        411857         1999-11-08           2017-05-31  \n66590         411857         1999-11-08           2017-05-31  \n66604         526056         1999-11-08           2021-07-05  \n317386        411857         1999-11-08           2017-05-31  \n32059         526056         1999-11-08           2021-07-05  \n394396        313458         1998-08-03           2014-01-13  \n37338         313458         1998-08-03           2014-01-13  \n36903         313458         1998-08-03           2014-01-13  \n39180         313458         1998-08-03           2014-01-13  \n399532        313458         1998-08-03           2014-01-13  \n406061        313458         1998-08-03           2014-01-13  \n121685        313458         1998-08-03           2014-01-13  \n378307        313458         1998-08-03           2014-01-13  \n237460        313458         1998-08-03           2014-01-13  \n288078        313458         1998-08-03           2014-01-13  \n283761        313458         1998-08-03           2014-01-13  \n114905        313458         1998-08-03           2014-01-13  \n42928         313458         1998-08-03           2014-01-13  \n245294        313458         1998-08-03           2014-01-13  \n278363        313458         1998-08-03           2014-01-13  \n132934        313458         1998-08-03           2014-01-13  \n115502        313458         1998-08-03           2014-01-13  \n98130         313458         1998-08-03           2014-01-13  \n297350        313458         1998-08-03           2014-01-13  \n164375        313458         1998-08-03           2014-01-13  \n401113          <NA>                NaT                  NaT  \n106377          <NA>                NaT                  NaT  \n108326          <NA>                NaT                  NaT  \n257401          <NA>                NaT                  NaT  ",
      "text/html": "<div>\n<style scoped>\n    .dataframe tbody tr th:only-of-type {\n        vertical-align: middle;\n    }\n\n    .dataframe tbody tr th {\n        vertical-align: top;\n    }\n\n    .dataframe thead th {\n        text-align: right;\n    }\n</style>\n<table border=\"1\" class=\"dataframe\">\n  <thead>\n    <tr style=\"text-align: right;\">\n      <th></th>\n      <th>EMPLOYEE_ID</th>\n      <th>START_TIME</th>\n      <th>END_TIME</th>\n      <th>DURATION</th>\n      <th>RESTAURANT_ID</th>\n      <th>EARLIEST_HIRE_DATE</th>\n      <th>RESTAURANT_HIRE_DATE</th>\n    </tr>\n  </thead>\n  <tbody>\n    <tr>\n      <th>242701</th>\n      <td>544444763</td>\n      <td>2022-01-28 05:54:00</td>\n      <td>2022-01-28 18:00:00</td>\n      <td>12.100000</td>\n      <td>526056</td>\n      <td>1999-11-08</td>\n      <td>2021-07-05</td>\n    </tr>\n    <tr>\n      <th>391530</th>\n      <td>544444763</td>\n      <td>2022-06-17 05:54:00</td>\n      <td>2022-06-17 10:01:00</td>\n      <td>4.116667</td>\n      <td>411857</td>\n      <td>1999-11-08</td>\n      <td>2017-05-31</td>\n    </tr>\n    <tr>\n      <th>391544</th>\n      <td>544444763</td>\n      <td>2022-06-17 05:54:00</td>\n      <td>2022-06-17 10:01:00</td>\n      <td>4.116667</td>\n      <td>526056</td>\n      <td>1999-11-08</td>\n      <td>2021-07-05</td>\n    </tr>\n    <tr>\n      <th>80444</th>\n      <td>544444763</td>\n      <td>2022-01-29 05:53:00</td>\n      <td>2022-01-29 17:00:00</td>\n      <td>11.116667</td>\n      <td>411857</td>\n      <td>1999-11-08</td>\n      <td>2017-05-31</td>\n    </tr>\n    <tr>\n      <th>274910</th>\n      <td>544444763</td>\n      <td>2022-08-10 05:54:00</td>\n      <td>2022-08-10 14:10:00</td>\n      <td>8.266667</td>\n      <td>411857</td>\n      <td>1999-11-08</td>\n      <td>2017-05-31</td>\n    </tr>\n    <tr>\n      <th>274924</th>\n      <td>544444763</td>\n      <td>2022-08-10 05:54:00</td>\n      <td>2022-08-10 14:10:00</td>\n      <td>8.266667</td>\n      <td>526056</td>\n      <td>1999-11-08</td>\n      <td>2021-07-05</td>\n    </tr>\n    <tr>\n      <th>427042</th>\n      <td>544444763</td>\n      <td>2022-12-19 05:55:00</td>\n      <td>2022-12-19 18:00:00</td>\n      <td>12.083333</td>\n      <td>411857</td>\n      <td>1999-11-08</td>\n      <td>2017-05-31</td>\n    </tr>\n    <tr>\n      <th>427056</th>\n      <td>544444763</td>\n      <td>2022-12-19 05:55:00</td>\n      <td>2022-12-19 18:00:00</td>\n      <td>12.083333</td>\n      <td>526056</td>\n      <td>1999-11-08</td>\n      <td>2021-07-05</td>\n    </tr>\n    <tr>\n      <th>158379</th>\n      <td>544444763</td>\n      <td>2022-10-19 05:54:00</td>\n      <td>2022-10-19 14:00:00</td>\n      <td>8.100000</td>\n      <td>526056</td>\n      <td>1999-11-08</td>\n      <td>2021-07-05</td>\n    </tr>\n    <tr>\n      <th>158365</th>\n      <td>544444763</td>\n      <td>2022-10-19 05:54:00</td>\n      <td>2022-10-19 14:00:00</td>\n      <td>8.100000</td>\n      <td>411857</td>\n      <td>1999-11-08</td>\n      <td>2017-05-31</td>\n    </tr>\n    <tr>\n      <th>122739</th>\n      <td>544444763</td>\n      <td>2022-11-16 05:54:00</td>\n      <td>2022-11-16 14:01:00</td>\n      <td>8.116667</td>\n      <td>526056</td>\n      <td>1999-11-08</td>\n      <td>2021-07-05</td>\n    </tr>\n    <tr>\n      <th>210449</th>\n      <td>544444763</td>\n      <td>2022-01-18 05:54:00</td>\n      <td>2022-01-18 14:00:00</td>\n      <td>8.100000</td>\n      <td>411857</td>\n      <td>1999-11-08</td>\n      <td>2017-05-31</td>\n    </tr>\n    <tr>\n      <th>210463</th>\n      <td>544444763</td>\n      <td>2022-01-18 05:54:00</td>\n      <td>2022-01-18 14:00:00</td>\n      <td>8.100000</td>\n      <td>526056</td>\n      <td>1999-11-08</td>\n      <td>2021-07-05</td>\n    </tr>\n    <tr>\n      <th>32045</th>\n      <td>544444763</td>\n      <td>2022-01-14 00:00:00</td>\n      <td>2022-01-14 10:00:00</td>\n      <td>10.000000</td>\n      <td>411857</td>\n      <td>1999-11-08</td>\n      <td>2017-05-31</td>\n    </tr>\n    <tr>\n      <th>242687</th>\n      <td>544444763</td>\n      <td>2022-01-28 05:54:00</td>\n      <td>2022-01-28 18:00:00</td>\n      <td>12.100000</td>\n      <td>411857</td>\n      <td>1999-11-08</td>\n      <td>2017-05-31</td>\n    </tr>\n    <tr>\n      <th>423627</th>\n      <td>544444763</td>\n      <td>2022-07-29 05:54:00</td>\n      <td>2022-07-29 16:05:00</td>\n      <td>10.183333</td>\n      <td>411857</td>\n      <td>1999-11-08</td>\n      <td>2017-05-31</td>\n    </tr>\n    <tr>\n      <th>80458</th>\n      <td>544444763</td>\n      <td>2022-01-29 05:53:00</td>\n      <td>2022-01-29 17:00:00</td>\n      <td>11.116667</td>\n      <td>526056</td>\n      <td>1999-11-08</td>\n      <td>2021-07-05</td>\n    </tr>\n    <tr>\n      <th>184506</th>\n      <td>544444763</td>\n      <td>2022-08-05 05:54:00</td>\n      <td>2022-08-05 18:00:00</td>\n      <td>12.100000</td>\n      <td>411857</td>\n      <td>1999-11-08</td>\n      <td>2017-05-31</td>\n    </tr>\n    <tr>\n      <th>184520</th>\n      <td>544444763</td>\n      <td>2022-08-05 05:54:00</td>\n      <td>2022-08-05 18:00:00</td>\n      <td>12.100000</td>\n      <td>526056</td>\n      <td>1999-11-08</td>\n      <td>2021-07-05</td>\n    </tr>\n    <tr>\n      <th>423641</th>\n      <td>544444763</td>\n      <td>2022-07-29 05:54:00</td>\n      <td>2022-07-29 16:05:00</td>\n      <td>10.183333</td>\n      <td>526056</td>\n      <td>1999-11-08</td>\n      <td>2021-07-05</td>\n    </tr>\n    <tr>\n      <th>317400</th>\n      <td>544444763</td>\n      <td>2022-10-06 05:54:00</td>\n      <td>2022-10-06 14:00:00</td>\n      <td>8.100000</td>\n      <td>526056</td>\n      <td>1999-11-08</td>\n      <td>2021-07-05</td>\n    </tr>\n    <tr>\n      <th>122725</th>\n      <td>544444763</td>\n      <td>2022-11-16 05:54:00</td>\n      <td>2022-11-16 14:01:00</td>\n      <td>8.116667</td>\n      <td>411857</td>\n      <td>1999-11-08</td>\n      <td>2017-05-31</td>\n    </tr>\n    <tr>\n      <th>66590</th>\n      <td>544444763</td>\n      <td>2022-06-30 04:46:00</td>\n      <td>2022-06-30 17:00:00</td>\n      <td>12.233333</td>\n      <td>411857</td>\n      <td>1999-11-08</td>\n      <td>2017-05-31</td>\n    </tr>\n    <tr>\n      <th>66604</th>\n      <td>544444763</td>\n      <td>2022-06-30 04:46:00</td>\n      <td>2022-06-30 17:00:00</td>\n      <td>12.233333</td>\n      <td>526056</td>\n      <td>1999-11-08</td>\n      <td>2021-07-05</td>\n    </tr>\n    <tr>\n      <th>317386</th>\n      <td>544444763</td>\n      <td>2022-10-06 05:54:00</td>\n      <td>2022-10-06 14:00:00</td>\n      <td>8.100000</td>\n      <td>411857</td>\n      <td>1999-11-08</td>\n      <td>2017-05-31</td>\n    </tr>\n    <tr>\n      <th>32059</th>\n      <td>544444763</td>\n      <td>2022-01-14 00:00:00</td>\n      <td>2022-01-14 10:00:00</td>\n      <td>10.000000</td>\n      <td>526056</td>\n      <td>1999-11-08</td>\n      <td>2021-07-05</td>\n    </tr>\n    <tr>\n      <th>394396</th>\n      <td>544444979</td>\n      <td>2022-11-01 05:00:00</td>\n      <td>2022-11-01 17:00:00</td>\n      <td>12.000000</td>\n      <td>313458</td>\n      <td>1998-08-03</td>\n      <td>2014-01-13</td>\n    </tr>\n    <tr>\n      <th>37338</th>\n      <td>544444979</td>\n      <td>2022-08-08 06:59:00</td>\n      <td>2022-08-08 15:01:00</td>\n      <td>8.033333</td>\n      <td>313458</td>\n      <td>1998-08-03</td>\n      <td>2014-01-13</td>\n    </tr>\n    <tr>\n      <th>36903</th>\n      <td>544444979</td>\n      <td>2022-08-30 06:58:00</td>\n      <td>2022-08-30 13:00:00</td>\n      <td>6.033333</td>\n      <td>313458</td>\n      <td>1998-08-03</td>\n      <td>2014-01-13</td>\n    </tr>\n    <tr>\n      <th>39180</th>\n      <td>544444979</td>\n      <td>2022-12-08 23:00:00</td>\n      <td>2022-12-09 07:00:00</td>\n      <td>8.000000</td>\n      <td>313458</td>\n      <td>1998-08-03</td>\n      <td>2014-01-13</td>\n    </tr>\n    <tr>\n      <th>399532</th>\n      <td>544444979</td>\n      <td>2022-08-19 06:58:00</td>\n      <td>2022-08-19 14:58:00</td>\n      <td>8.000000</td>\n      <td>313458</td>\n      <td>1998-08-03</td>\n      <td>2014-01-13</td>\n    </tr>\n    <tr>\n      <th>406061</th>\n      <td>544444979</td>\n      <td>2022-04-28 06:57:00</td>\n      <td>2022-04-28 15:01:00</td>\n      <td>8.066667</td>\n      <td>313458</td>\n      <td>1998-08-03</td>\n      <td>2014-01-13</td>\n    </tr>\n    <tr>\n      <th>121685</th>\n      <td>544444979</td>\n      <td>2022-10-19 06:58:00</td>\n      <td>2022-10-19 15:00:00</td>\n      <td>8.033333</td>\n      <td>313458</td>\n      <td>1998-08-03</td>\n      <td>2014-01-13</td>\n    </tr>\n    <tr>\n      <th>378307</th>\n      <td>544444979</td>\n      <td>2022-02-18 06:00:00</td>\n      <td>2022-02-18 17:00:00</td>\n      <td>11.000000</td>\n      <td>313458</td>\n      <td>1998-08-03</td>\n      <td>2014-01-13</td>\n    </tr>\n    <tr>\n      <th>237460</th>\n      <td>544444979</td>\n      <td>2022-08-23 04:58:00</td>\n      <td>2022-08-23 14:58:00</td>\n      <td>10.000000</td>\n      <td>313458</td>\n      <td>1998-08-03</td>\n      <td>2014-01-13</td>\n    </tr>\n    <tr>\n      <th>288078</th>\n      <td>544444979</td>\n      <td>2022-06-30 06:58:00</td>\n      <td>2022-06-30 12:59:00</td>\n      <td>6.016667</td>\n      <td>313458</td>\n      <td>1998-08-03</td>\n      <td>2014-01-13</td>\n    </tr>\n    <tr>\n      <th>283761</th>\n      <td>544444979</td>\n      <td>2022-12-15 03:00:00</td>\n      <td>2022-12-15 13:00:00</td>\n      <td>10.000000</td>\n      <td>313458</td>\n      <td>1998-08-03</td>\n      <td>2014-01-13</td>\n    </tr>\n    <tr>\n      <th>114905</th>\n      <td>544444979</td>\n      <td>2022-09-06 06:58:00</td>\n      <td>2022-09-06 14:58:00</td>\n      <td>8.000000</td>\n      <td>313458</td>\n      <td>1998-08-03</td>\n      <td>2014-01-13</td>\n    </tr>\n    <tr>\n      <th>42928</th>\n      <td>544444979</td>\n      <td>2022-07-13 04:57:00</td>\n      <td>2022-07-13 13:00:00</td>\n      <td>8.050000</td>\n      <td>313458</td>\n      <td>1998-08-03</td>\n      <td>2014-01-13</td>\n    </tr>\n    <tr>\n      <th>245294</th>\n      <td>544444979</td>\n      <td>2022-01-21 04:00:00</td>\n      <td>2022-01-21 15:00:00</td>\n      <td>11.000000</td>\n      <td>313458</td>\n      <td>1998-08-03</td>\n      <td>2014-01-13</td>\n    </tr>\n    <tr>\n      <th>278363</th>\n      <td>544444979</td>\n      <td>2022-09-29 07:00:00</td>\n      <td>2022-09-29 19:00:00</td>\n      <td>12.000000</td>\n      <td>313458</td>\n      <td>1998-08-03</td>\n      <td>2014-01-13</td>\n    </tr>\n    <tr>\n      <th>132934</th>\n      <td>544444979</td>\n      <td>2022-12-14 03:00:00</td>\n      <td>2022-12-14 13:00:00</td>\n      <td>10.000000</td>\n      <td>313458</td>\n      <td>1998-08-03</td>\n      <td>2014-01-13</td>\n    </tr>\n    <tr>\n      <th>115502</th>\n      <td>544444979</td>\n      <td>2022-04-04 05:00:00</td>\n      <td>2022-04-04 15:00:00</td>\n      <td>10.000000</td>\n      <td>313458</td>\n      <td>1998-08-03</td>\n      <td>2014-01-13</td>\n    </tr>\n    <tr>\n      <th>98130</th>\n      <td>544444979</td>\n      <td>2022-10-26 05:00:00</td>\n      <td>2022-10-26 17:00:00</td>\n      <td>12.000000</td>\n      <td>313458</td>\n      <td>1998-08-03</td>\n      <td>2014-01-13</td>\n    </tr>\n    <tr>\n      <th>297350</th>\n      <td>544444979</td>\n      <td>2022-04-07 05:00:00</td>\n      <td>2022-04-07 15:00:00</td>\n      <td>10.000000</td>\n      <td>313458</td>\n      <td>1998-08-03</td>\n      <td>2014-01-13</td>\n    </tr>\n    <tr>\n      <th>164375</th>\n      <td>544444979</td>\n      <td>2022-12-06 23:00:00</td>\n      <td>2022-12-07 10:00:00</td>\n      <td>11.000000</td>\n      <td>313458</td>\n      <td>1998-08-03</td>\n      <td>2014-01-13</td>\n    </tr>\n    <tr>\n      <th>401113</th>\n      <td>544445037</td>\n      <td>2022-07-09 07:53:00</td>\n      <td>2022-07-09 16:04:00</td>\n      <td>8.183333</td>\n      <td>&lt;NA&gt;</td>\n      <td>NaT</td>\n      <td>NaT</td>\n    </tr>\n    <tr>\n      <th>106377</th>\n      <td>544445037</td>\n      <td>2022-08-08 06:53:00</td>\n      <td>2022-08-08 15:35:00</td>\n      <td>8.700000</td>\n      <td>&lt;NA&gt;</td>\n      <td>NaT</td>\n      <td>NaT</td>\n    </tr>\n    <tr>\n      <th>108326</th>\n      <td>544445037</td>\n      <td>2022-12-18 09:01:00</td>\n      <td>2022-12-18 16:07:00</td>\n      <td>7.100000</td>\n      <td>&lt;NA&gt;</td>\n      <td>NaT</td>\n      <td>NaT</td>\n    </tr>\n    <tr>\n      <th>257401</th>\n      <td>544445037</td>\n      <td>2022-05-19 06:53:00</td>\n      <td>2022-05-19 15:38:00</td>\n      <td>8.750000</td>\n      <td>&lt;NA&gt;</td>\n      <td>NaT</td>\n      <td>NaT</td>\n    </tr>\n  </tbody>\n</table>\n</div>"
     },
     "execution_count": 110,
     "metadata": {},
     "output_type": "execute_result"
    }
   ],
   "source": [
    "shifts_hr = pd.merge(shifts, hr, how='left', on='EMPLOYEE_ID').drop_duplicates()\n",
    "shifts_hr['RESTAURANT_ID'] = shifts_hr['RESTAURANT_ID'].apply(lambda x: int(x) if pd.notna(x) else pd.NA)\n",
    "\n",
    "shifts_hr.sort_values('EMPLOYEE_ID').head(50)"
   ],
   "metadata": {
    "collapsed": false,
    "ExecuteTime": {
     "end_time": "2024-04-17T21:43:12.998623026Z",
     "start_time": "2024-04-17T21:43:11.717667087Z"
    }
   },
   "execution_count": 110
  },
  {
   "cell_type": "code",
   "outputs": [
    {
     "name": "stdout",
     "output_type": "stream",
     "text": [
      "Number of rows: 89772\n",
      "Number of columns: 7\n",
      "Column names: ['EMPLOYEE_ID', 'START_TIME', 'END_TIME', 'DURATION', 'RESTAURANT_ID', 'EARLIEST_HIRE_DATE', 'RESTAURANT_HIRE_DATE']\n",
      "Columns with missing data:\n",
      "RESTAURANT_ID: 10583 missing entries\n",
      "EARLIEST_HIRE_DATE: 10583 missing entries\n",
      "RESTAURANT_HIRE_DATE: 10583 missing entries\n"
     ]
    }
   ],
   "source": [
    "print_dataframe_info(shifts_hr)"
   ],
   "metadata": {
    "collapsed": false,
    "ExecuteTime": {
     "end_time": "2024-04-17T21:43:13.002171856Z",
     "start_time": "2024-04-17T21:43:12.073417027Z"
    }
   },
   "execution_count": 111
  },
  {
   "cell_type": "code",
   "outputs": [],
   "source": [
    "import datetime"
   ],
   "metadata": {
    "collapsed": false,
    "ExecuteTime": {
     "end_time": "2024-04-17T21:43:13.061680052Z",
     "start_time": "2024-04-17T21:43:12.090515817Z"
    }
   },
   "execution_count": 112
  },
  {
   "cell_type": "code",
   "outputs": [
    {
     "name": "stdout",
     "output_type": "stream",
     "text": [
      "Number of rows: 73702\n",
      "Number of columns: 7\n",
      "Column names: ['EMPLOYEE_ID', 'START_TIME', 'END_TIME', 'DURATION', 'RESTAURANT_ID', 'EARLIEST_HIRE_DATE', 'RESTAURANT_HIRE_DATE']\n",
      "No missing data in any column.\n"
     ]
    },
    {
     "name": "stderr",
     "output_type": "stream",
     "text": [
      "/tmp/ipykernel_340900/593188611.py:2: SettingWithCopyWarning: \n",
      "A value is trying to be set on a copy of a slice from a DataFrame.\n",
      "Try using .loc[row_indexer,col_indexer] = value instead\n",
      "\n",
      "See the caveats in the documentation: https://pandas.pydata.org/pandas-docs/stable/user_guide/indexing.html#returning-a-view-versus-a-copy\n",
      "  clean_shifts_hr['RESTAURANT_HIRE_DATE'] = pd.to_datetime(clean_shifts_hr['RESTAURANT_HIRE_DATE'], errors='coerce')\n"
     ]
    }
   ],
   "source": [
    "clean_shifts_hr = shifts_hr.dropna()\n",
    "clean_shifts_hr['RESTAURANT_HIRE_DATE'] = pd.to_datetime(clean_shifts_hr['RESTAURANT_HIRE_DATE'], errors='coerce')\n",
    "clean_shifts_hr = clean_shifts_hr[clean_shifts_hr['RESTAURANT_HIRE_DATE'].dt.date < datetime.date(2023, 1, 1)]\n",
    "print_dataframe_info(clean_shifts_hr)"
   ],
   "metadata": {
    "collapsed": false,
    "ExecuteTime": {
     "end_time": "2024-04-17T21:43:13.077402701Z",
     "start_time": "2024-04-17T21:43:12.133522334Z"
    }
   },
   "execution_count": 113
  },
  {
   "cell_type": "code",
   "outputs": [
    {
     "data": {
      "text/plain": "        EMPLOYEE_ID          START_TIME            END_TIME   DURATION  \\\n423641    544444763 2022-07-29 05:54:00 2022-07-29 16:05:00  10.183333   \n80458     544444763 2022-01-29 05:53:00 2022-01-29 17:00:00  11.116667   \n274924    544444763 2022-08-10 05:54:00 2022-08-10 14:10:00   8.266667   \n274910    544444763 2022-08-10 05:54:00 2022-08-10 14:10:00   8.266667   \n158365    544444763 2022-10-19 05:54:00 2022-10-19 14:00:00   8.100000   \n...             ...                 ...                 ...        ...   \n436714    544446245 2022-03-30 05:00:00 2022-03-30 15:00:00  10.000000   \n436706    544446245 2022-03-29 05:00:00 2022-03-29 13:00:00   8.000000   \n436698    544446245 2022-03-28 05:00:00 2022-03-28 13:00:00   8.000000   \n436690    544446245 2022-03-26 05:00:00 2022-03-26 11:00:00   6.000000   \n436682    544446245 2022-03-25 06:55:00 2022-03-25 14:58:00   8.050000   \n\n       RESTAURANT_ID EARLIEST_HIRE_DATE RESTAURANT_HIRE_DATE  \n423641        526056         1999-11-08           2021-07-05  \n80458         526056         1999-11-08           2021-07-05  \n274924        526056         1999-11-08           2021-07-05  \n274910        411857         1999-11-08           2017-05-31  \n158365        411857         1999-11-08           2017-05-31  \n...              ...                ...                  ...  \n436714        313458         1996-07-08           2014-09-15  \n436706        313458         1996-07-08           2014-09-15  \n436698        313458         1996-07-08           2014-09-15  \n436690        313458         1996-07-08           2014-09-15  \n436682        313458         1996-07-08           2014-09-15  \n\n[100 rows x 7 columns]",
      "text/html": "<div>\n<style scoped>\n    .dataframe tbody tr th:only-of-type {\n        vertical-align: middle;\n    }\n\n    .dataframe tbody tr th {\n        vertical-align: top;\n    }\n\n    .dataframe thead th {\n        text-align: right;\n    }\n</style>\n<table border=\"1\" class=\"dataframe\">\n  <thead>\n    <tr style=\"text-align: right;\">\n      <th></th>\n      <th>EMPLOYEE_ID</th>\n      <th>START_TIME</th>\n      <th>END_TIME</th>\n      <th>DURATION</th>\n      <th>RESTAURANT_ID</th>\n      <th>EARLIEST_HIRE_DATE</th>\n      <th>RESTAURANT_HIRE_DATE</th>\n    </tr>\n  </thead>\n  <tbody>\n    <tr>\n      <th>423641</th>\n      <td>544444763</td>\n      <td>2022-07-29 05:54:00</td>\n      <td>2022-07-29 16:05:00</td>\n      <td>10.183333</td>\n      <td>526056</td>\n      <td>1999-11-08</td>\n      <td>2021-07-05</td>\n    </tr>\n    <tr>\n      <th>80458</th>\n      <td>544444763</td>\n      <td>2022-01-29 05:53:00</td>\n      <td>2022-01-29 17:00:00</td>\n      <td>11.116667</td>\n      <td>526056</td>\n      <td>1999-11-08</td>\n      <td>2021-07-05</td>\n    </tr>\n    <tr>\n      <th>274924</th>\n      <td>544444763</td>\n      <td>2022-08-10 05:54:00</td>\n      <td>2022-08-10 14:10:00</td>\n      <td>8.266667</td>\n      <td>526056</td>\n      <td>1999-11-08</td>\n      <td>2021-07-05</td>\n    </tr>\n    <tr>\n      <th>274910</th>\n      <td>544444763</td>\n      <td>2022-08-10 05:54:00</td>\n      <td>2022-08-10 14:10:00</td>\n      <td>8.266667</td>\n      <td>411857</td>\n      <td>1999-11-08</td>\n      <td>2017-05-31</td>\n    </tr>\n    <tr>\n      <th>158365</th>\n      <td>544444763</td>\n      <td>2022-10-19 05:54:00</td>\n      <td>2022-10-19 14:00:00</td>\n      <td>8.100000</td>\n      <td>411857</td>\n      <td>1999-11-08</td>\n      <td>2017-05-31</td>\n    </tr>\n    <tr>\n      <th>...</th>\n      <td>...</td>\n      <td>...</td>\n      <td>...</td>\n      <td>...</td>\n      <td>...</td>\n      <td>...</td>\n      <td>...</td>\n    </tr>\n    <tr>\n      <th>436714</th>\n      <td>544446245</td>\n      <td>2022-03-30 05:00:00</td>\n      <td>2022-03-30 15:00:00</td>\n      <td>10.000000</td>\n      <td>313458</td>\n      <td>1996-07-08</td>\n      <td>2014-09-15</td>\n    </tr>\n    <tr>\n      <th>436706</th>\n      <td>544446245</td>\n      <td>2022-03-29 05:00:00</td>\n      <td>2022-03-29 13:00:00</td>\n      <td>8.000000</td>\n      <td>313458</td>\n      <td>1996-07-08</td>\n      <td>2014-09-15</td>\n    </tr>\n    <tr>\n      <th>436698</th>\n      <td>544446245</td>\n      <td>2022-03-28 05:00:00</td>\n      <td>2022-03-28 13:00:00</td>\n      <td>8.000000</td>\n      <td>313458</td>\n      <td>1996-07-08</td>\n      <td>2014-09-15</td>\n    </tr>\n    <tr>\n      <th>436690</th>\n      <td>544446245</td>\n      <td>2022-03-26 05:00:00</td>\n      <td>2022-03-26 11:00:00</td>\n      <td>6.000000</td>\n      <td>313458</td>\n      <td>1996-07-08</td>\n      <td>2014-09-15</td>\n    </tr>\n    <tr>\n      <th>436682</th>\n      <td>544446245</td>\n      <td>2022-03-25 06:55:00</td>\n      <td>2022-03-25 14:58:00</td>\n      <td>8.050000</td>\n      <td>313458</td>\n      <td>1996-07-08</td>\n      <td>2014-09-15</td>\n    </tr>\n  </tbody>\n</table>\n<p>100 rows × 7 columns</p>\n</div>"
     },
     "execution_count": 114,
     "metadata": {},
     "output_type": "execute_result"
    }
   ],
   "source": [
    "clean_shifts_hr.sort_values('EMPLOYEE_ID').head(100)"
   ],
   "metadata": {
    "collapsed": false,
    "ExecuteTime": {
     "end_time": "2024-04-17T21:43:13.156905125Z",
     "start_time": "2024-04-17T21:43:12.184783411Z"
    }
   },
   "execution_count": 114
  },
  {
   "cell_type": "code",
   "outputs": [
    {
     "data": {
      "text/plain": "        EMPLOYEE_ID          START_TIME            END_TIME   DURATION  \\\n32045     544444763 2022-01-14 00:00:00 2022-01-14 10:00:00  10.000000   \n210449    544444763 2022-01-18 05:54:00 2022-01-18 14:00:00   8.100000   \n242687    544444763 2022-01-28 05:54:00 2022-01-28 18:00:00  12.100000   \n80444     544444763 2022-01-29 05:53:00 2022-01-29 17:00:00  11.116667   \n391530    544444763 2022-06-17 05:54:00 2022-06-17 10:01:00   4.116667   \n...             ...                 ...                 ...        ...   \n226686    544684017 2022-12-26 16:00:00 2022-12-27 02:00:00  10.000000   \n205278    544684036 2022-12-28 09:25:00 2022-12-28 18:01:00   8.600000   \n281239    544684066 2022-12-28 15:00:00 2022-12-28 19:00:00   4.000000   \n287765    544684068 2022-12-31 13:57:00 2022-12-31 19:28:00   5.516667   \n211890    544684122 2022-12-28 12:06:00 2022-12-28 19:47:00   7.683333   \n\n       RESTAURANT_ID EARLIEST_HIRE_DATE RESTAURANT_HIRE_DATE  \n32045         411857         1999-11-08           2017-05-31  \n210449        411857         1999-11-08           2017-05-31  \n242687        411857         1999-11-08           2017-05-31  \n80444         411857         1999-11-08           2017-05-31  \n391530        411857         1999-11-08           2017-05-31  \n...              ...                ...                  ...  \n226686        519856         2022-12-26           2022-12-26  \n205278        534056         2022-12-25           2022-12-25  \n281239        523356         2022-12-28           2022-12-28  \n287765        483956         2022-12-28           2022-12-28  \n211890        534056         2022-12-27           2022-12-27  \n\n[66422 rows x 7 columns]",
      "text/html": "<div>\n<style scoped>\n    .dataframe tbody tr th:only-of-type {\n        vertical-align: middle;\n    }\n\n    .dataframe tbody tr th {\n        vertical-align: top;\n    }\n\n    .dataframe thead th {\n        text-align: right;\n    }\n</style>\n<table border=\"1\" class=\"dataframe\">\n  <thead>\n    <tr style=\"text-align: right;\">\n      <th></th>\n      <th>EMPLOYEE_ID</th>\n      <th>START_TIME</th>\n      <th>END_TIME</th>\n      <th>DURATION</th>\n      <th>RESTAURANT_ID</th>\n      <th>EARLIEST_HIRE_DATE</th>\n      <th>RESTAURANT_HIRE_DATE</th>\n    </tr>\n  </thead>\n  <tbody>\n    <tr>\n      <th>32045</th>\n      <td>544444763</td>\n      <td>2022-01-14 00:00:00</td>\n      <td>2022-01-14 10:00:00</td>\n      <td>10.000000</td>\n      <td>411857</td>\n      <td>1999-11-08</td>\n      <td>2017-05-31</td>\n    </tr>\n    <tr>\n      <th>210449</th>\n      <td>544444763</td>\n      <td>2022-01-18 05:54:00</td>\n      <td>2022-01-18 14:00:00</td>\n      <td>8.100000</td>\n      <td>411857</td>\n      <td>1999-11-08</td>\n      <td>2017-05-31</td>\n    </tr>\n    <tr>\n      <th>242687</th>\n      <td>544444763</td>\n      <td>2022-01-28 05:54:00</td>\n      <td>2022-01-28 18:00:00</td>\n      <td>12.100000</td>\n      <td>411857</td>\n      <td>1999-11-08</td>\n      <td>2017-05-31</td>\n    </tr>\n    <tr>\n      <th>80444</th>\n      <td>544444763</td>\n      <td>2022-01-29 05:53:00</td>\n      <td>2022-01-29 17:00:00</td>\n      <td>11.116667</td>\n      <td>411857</td>\n      <td>1999-11-08</td>\n      <td>2017-05-31</td>\n    </tr>\n    <tr>\n      <th>391530</th>\n      <td>544444763</td>\n      <td>2022-06-17 05:54:00</td>\n      <td>2022-06-17 10:01:00</td>\n      <td>4.116667</td>\n      <td>411857</td>\n      <td>1999-11-08</td>\n      <td>2017-05-31</td>\n    </tr>\n    <tr>\n      <th>...</th>\n      <td>...</td>\n      <td>...</td>\n      <td>...</td>\n      <td>...</td>\n      <td>...</td>\n      <td>...</td>\n      <td>...</td>\n    </tr>\n    <tr>\n      <th>226686</th>\n      <td>544684017</td>\n      <td>2022-12-26 16:00:00</td>\n      <td>2022-12-27 02:00:00</td>\n      <td>10.000000</td>\n      <td>519856</td>\n      <td>2022-12-26</td>\n      <td>2022-12-26</td>\n    </tr>\n    <tr>\n      <th>205278</th>\n      <td>544684036</td>\n      <td>2022-12-28 09:25:00</td>\n      <td>2022-12-28 18:01:00</td>\n      <td>8.600000</td>\n      <td>534056</td>\n      <td>2022-12-25</td>\n      <td>2022-12-25</td>\n    </tr>\n    <tr>\n      <th>281239</th>\n      <td>544684066</td>\n      <td>2022-12-28 15:00:00</td>\n      <td>2022-12-28 19:00:00</td>\n      <td>4.000000</td>\n      <td>523356</td>\n      <td>2022-12-28</td>\n      <td>2022-12-28</td>\n    </tr>\n    <tr>\n      <th>287765</th>\n      <td>544684068</td>\n      <td>2022-12-31 13:57:00</td>\n      <td>2022-12-31 19:28:00</td>\n      <td>5.516667</td>\n      <td>483956</td>\n      <td>2022-12-28</td>\n      <td>2022-12-28</td>\n    </tr>\n    <tr>\n      <th>211890</th>\n      <td>544684122</td>\n      <td>2022-12-28 12:06:00</td>\n      <td>2022-12-28 19:47:00</td>\n      <td>7.683333</td>\n      <td>534056</td>\n      <td>2022-12-27</td>\n      <td>2022-12-27</td>\n    </tr>\n  </tbody>\n</table>\n<p>66422 rows × 7 columns</p>\n</div>"
     },
     "execution_count": 115,
     "metadata": {},
     "output_type": "execute_result"
    }
   ],
   "source": [
    "clean_shifts_hr['START_TIME'] = pd.to_datetime(clean_shifts_hr['START_TIME'])\n",
    "clean_shifts_hr['RESTAURANT_HIRE_DATE'] = pd.to_datetime(clean_shifts_hr['RESTAURANT_HIRE_DATE'])\n",
    "\n",
    "# Sort the DataFrame to ensure that the latest hire date for each start time comes last\n",
    "clean_shifts_hr = clean_shifts_hr.sort_values(by=['EMPLOYEE_ID', 'START_TIME', 'RESTAURANT_HIRE_DATE'], ascending=[True, True, False])\n",
    "\n",
    "# Drop duplicates keeping the last entry (which, due to our sorting, is the latest hire date that doesn't exceed the start time)\n",
    "# Assume each employee's hire date must be on or before their shift start date to be valid\n",
    "filtered_clean_shifts_hr = clean_shifts_hr.drop_duplicates(subset=['EMPLOYEE_ID', 'START_TIME'], keep='last')\n",
    "\n",
    "# Further filter to ensure the hire date is less than or equal to the start time\n",
    "filtered_clean_shifts_hr = filtered_clean_shifts_hr[filtered_clean_shifts_hr['RESTAURANT_HIRE_DATE'] <= filtered_clean_shifts_hr['START_TIME']]\n",
    "filtered_clean_shifts_hr"
   ],
   "metadata": {
    "collapsed": false,
    "ExecuteTime": {
     "end_time": "2024-04-17T21:43:13.278162538Z",
     "start_time": "2024-04-17T21:43:12.229445216Z"
    }
   },
   "execution_count": 115
  },
  {
   "cell_type": "code",
   "outputs": [
    {
     "data": {
      "text/plain": "Empty DataFrame\nColumns: [EMPLOYEE_ID, START_TIME, END_TIME, DURATION, RESTAURANT_ID, EARLIEST_HIRE_DATE, RESTAURANT_HIRE_DATE]\nIndex: []",
      "text/html": "<div>\n<style scoped>\n    .dataframe tbody tr th:only-of-type {\n        vertical-align: middle;\n    }\n\n    .dataframe tbody tr th {\n        vertical-align: top;\n    }\n\n    .dataframe thead th {\n        text-align: right;\n    }\n</style>\n<table border=\"1\" class=\"dataframe\">\n  <thead>\n    <tr style=\"text-align: right;\">\n      <th></th>\n      <th>EMPLOYEE_ID</th>\n      <th>START_TIME</th>\n      <th>END_TIME</th>\n      <th>DURATION</th>\n      <th>RESTAURANT_ID</th>\n      <th>EARLIEST_HIRE_DATE</th>\n      <th>RESTAURANT_HIRE_DATE</th>\n    </tr>\n  </thead>\n  <tbody>\n  </tbody>\n</table>\n</div>"
     },
     "execution_count": 116,
     "metadata": {},
     "output_type": "execute_result"
    }
   ],
   "source": [
    "#Check for duplicates\n",
    "duplicates = filtered_clean_shifts_hr.duplicated(subset=['EMPLOYEE_ID', 'START_TIME'], keep=False)\n",
    "\n",
    "# Filter the DataFrame to show only the duplicates\n",
    "duplicate_rows = filtered_clean_shifts_hr[duplicates]\n",
    "duplicate_rows"
   ],
   "metadata": {
    "collapsed": false,
    "ExecuteTime": {
     "end_time": "2024-04-17T21:43:13.288928164Z",
     "start_time": "2024-04-17T21:43:12.344745728Z"
    }
   },
   "execution_count": 116
  },
  {
   "cell_type": "code",
   "outputs": [
    {
     "data": {
      "text/plain": "     EMPLOYEE_ID  RESTAURANT_ID   EVENT_TIME EVENT_DATE  ERROR_IS_PREVENTABLE\n0      544669126         480256   4:30:00 PM 2022-12-29                   1.0\n1      544664185         436156  12:20:00 AM 2022-05-24                   1.0\n2      544672153         503156   9:48:00 PM 2022-05-22                   1.0\n3      544480270         241956   7:40:00 PM 2022-05-24                   1.0\n4      544661341         536156   1:00:00 PM 2022-05-31                   1.0\n..           ...            ...          ...        ...                   ...\n332    544659812         575756   8:50:00 PM 2022-12-12                   1.0\n333    544478027         241956   1:00:00 PM 2022-01-25                   1.0\n334    544656799         575756   9:30:00 PM 2022-05-20                   0.0\n335    544665184         536156   6:50:00 AM 2022-03-07                   1.0\n336    544670468         548156  11:25:00 PM 2022-08-04                   1.0\n\n[337 rows x 5 columns]",
      "text/html": "<div>\n<style scoped>\n    .dataframe tbody tr th:only-of-type {\n        vertical-align: middle;\n    }\n\n    .dataframe tbody tr th {\n        vertical-align: top;\n    }\n\n    .dataframe thead th {\n        text-align: right;\n    }\n</style>\n<table border=\"1\" class=\"dataframe\">\n  <thead>\n    <tr style=\"text-align: right;\">\n      <th></th>\n      <th>EMPLOYEE_ID</th>\n      <th>RESTAURANT_ID</th>\n      <th>EVENT_TIME</th>\n      <th>EVENT_DATE</th>\n      <th>ERROR_IS_PREVENTABLE</th>\n    </tr>\n  </thead>\n  <tbody>\n    <tr>\n      <th>0</th>\n      <td>544669126</td>\n      <td>480256</td>\n      <td>4:30:00 PM</td>\n      <td>2022-12-29</td>\n      <td>1.0</td>\n    </tr>\n    <tr>\n      <th>1</th>\n      <td>544664185</td>\n      <td>436156</td>\n      <td>12:20:00 AM</td>\n      <td>2022-05-24</td>\n      <td>1.0</td>\n    </tr>\n    <tr>\n      <th>2</th>\n      <td>544672153</td>\n      <td>503156</td>\n      <td>9:48:00 PM</td>\n      <td>2022-05-22</td>\n      <td>1.0</td>\n    </tr>\n    <tr>\n      <th>3</th>\n      <td>544480270</td>\n      <td>241956</td>\n      <td>7:40:00 PM</td>\n      <td>2022-05-24</td>\n      <td>1.0</td>\n    </tr>\n    <tr>\n      <th>4</th>\n      <td>544661341</td>\n      <td>536156</td>\n      <td>1:00:00 PM</td>\n      <td>2022-05-31</td>\n      <td>1.0</td>\n    </tr>\n    <tr>\n      <th>...</th>\n      <td>...</td>\n      <td>...</td>\n      <td>...</td>\n      <td>...</td>\n      <td>...</td>\n    </tr>\n    <tr>\n      <th>332</th>\n      <td>544659812</td>\n      <td>575756</td>\n      <td>8:50:00 PM</td>\n      <td>2022-12-12</td>\n      <td>1.0</td>\n    </tr>\n    <tr>\n      <th>333</th>\n      <td>544478027</td>\n      <td>241956</td>\n      <td>1:00:00 PM</td>\n      <td>2022-01-25</td>\n      <td>1.0</td>\n    </tr>\n    <tr>\n      <th>334</th>\n      <td>544656799</td>\n      <td>575756</td>\n      <td>9:30:00 PM</td>\n      <td>2022-05-20</td>\n      <td>0.0</td>\n    </tr>\n    <tr>\n      <th>335</th>\n      <td>544665184</td>\n      <td>536156</td>\n      <td>6:50:00 AM</td>\n      <td>2022-03-07</td>\n      <td>1.0</td>\n    </tr>\n    <tr>\n      <th>336</th>\n      <td>544670468</td>\n      <td>548156</td>\n      <td>11:25:00 PM</td>\n      <td>2022-08-04</td>\n      <td>1.0</td>\n    </tr>\n  </tbody>\n</table>\n<p>337 rows × 5 columns</p>\n</div>"
     },
     "execution_count": 117,
     "metadata": {},
     "output_type": "execute_result"
    }
   ],
   "source": [
    "errors"
   ],
   "metadata": {
    "collapsed": false,
    "ExecuteTime": {
     "end_time": "2024-04-17T21:43:13.360469387Z",
     "start_time": "2024-04-17T21:43:12.386978420Z"
    }
   },
   "execution_count": 117
  },
  {
   "cell_type": "code",
   "outputs": [
    {
     "data": {
      "text/plain": "        EMPLOYEE_ID          START_TIME            END_TIME   DURATION  \\\n32045     544444763 2022-01-14 00:00:00 2022-01-14 10:00:00  10.000000   \n210449    544444763 2022-01-18 05:54:00 2022-01-18 14:00:00   8.100000   \n242687    544444763 2022-01-28 05:54:00 2022-01-28 18:00:00  12.100000   \n80444     544444763 2022-01-29 05:53:00 2022-01-29 17:00:00  11.116667   \n391530    544444763 2022-06-17 05:54:00 2022-06-17 10:01:00   4.116667   \n...             ...                 ...                 ...        ...   \n226686    544684017 2022-12-26 16:00:00 2022-12-27 02:00:00  10.000000   \n205278    544684036 2022-12-28 09:25:00 2022-12-28 18:01:00   8.600000   \n281239    544684066 2022-12-28 15:00:00 2022-12-28 19:00:00   4.000000   \n287765    544684068 2022-12-31 13:57:00 2022-12-31 19:28:00   5.516667   \n211890    544684122 2022-12-28 12:06:00 2022-12-28 19:47:00   7.683333   \n\n        RESTAURANT_ID EARLIEST_HIRE_DATE RESTAURANT_HIRE_DATE  \n32045          411857         1999-11-08           2017-05-31  \n210449         411857         1999-11-08           2017-05-31  \n242687         411857         1999-11-08           2017-05-31  \n80444          411857         1999-11-08           2017-05-31  \n391530         411857         1999-11-08           2017-05-31  \n...               ...                ...                  ...  \n226686         519856         2022-12-26           2022-12-26  \n205278         534056         2022-12-25           2022-12-25  \n281239         523356         2022-12-28           2022-12-28  \n287765         483956         2022-12-28           2022-12-28  \n211890         534056         2022-12-27           2022-12-27  \n\n[66422 rows x 7 columns]",
      "text/html": "<div>\n<style scoped>\n    .dataframe tbody tr th:only-of-type {\n        vertical-align: middle;\n    }\n\n    .dataframe tbody tr th {\n        vertical-align: top;\n    }\n\n    .dataframe thead th {\n        text-align: right;\n    }\n</style>\n<table border=\"1\" class=\"dataframe\">\n  <thead>\n    <tr style=\"text-align: right;\">\n      <th></th>\n      <th>EMPLOYEE_ID</th>\n      <th>START_TIME</th>\n      <th>END_TIME</th>\n      <th>DURATION</th>\n      <th>RESTAURANT_ID</th>\n      <th>EARLIEST_HIRE_DATE</th>\n      <th>RESTAURANT_HIRE_DATE</th>\n    </tr>\n  </thead>\n  <tbody>\n    <tr>\n      <th>32045</th>\n      <td>544444763</td>\n      <td>2022-01-14 00:00:00</td>\n      <td>2022-01-14 10:00:00</td>\n      <td>10.000000</td>\n      <td>411857</td>\n      <td>1999-11-08</td>\n      <td>2017-05-31</td>\n    </tr>\n    <tr>\n      <th>210449</th>\n      <td>544444763</td>\n      <td>2022-01-18 05:54:00</td>\n      <td>2022-01-18 14:00:00</td>\n      <td>8.100000</td>\n      <td>411857</td>\n      <td>1999-11-08</td>\n      <td>2017-05-31</td>\n    </tr>\n    <tr>\n      <th>242687</th>\n      <td>544444763</td>\n      <td>2022-01-28 05:54:00</td>\n      <td>2022-01-28 18:00:00</td>\n      <td>12.100000</td>\n      <td>411857</td>\n      <td>1999-11-08</td>\n      <td>2017-05-31</td>\n    </tr>\n    <tr>\n      <th>80444</th>\n      <td>544444763</td>\n      <td>2022-01-29 05:53:00</td>\n      <td>2022-01-29 17:00:00</td>\n      <td>11.116667</td>\n      <td>411857</td>\n      <td>1999-11-08</td>\n      <td>2017-05-31</td>\n    </tr>\n    <tr>\n      <th>391530</th>\n      <td>544444763</td>\n      <td>2022-06-17 05:54:00</td>\n      <td>2022-06-17 10:01:00</td>\n      <td>4.116667</td>\n      <td>411857</td>\n      <td>1999-11-08</td>\n      <td>2017-05-31</td>\n    </tr>\n    <tr>\n      <th>...</th>\n      <td>...</td>\n      <td>...</td>\n      <td>...</td>\n      <td>...</td>\n      <td>...</td>\n      <td>...</td>\n      <td>...</td>\n    </tr>\n    <tr>\n      <th>226686</th>\n      <td>544684017</td>\n      <td>2022-12-26 16:00:00</td>\n      <td>2022-12-27 02:00:00</td>\n      <td>10.000000</td>\n      <td>519856</td>\n      <td>2022-12-26</td>\n      <td>2022-12-26</td>\n    </tr>\n    <tr>\n      <th>205278</th>\n      <td>544684036</td>\n      <td>2022-12-28 09:25:00</td>\n      <td>2022-12-28 18:01:00</td>\n      <td>8.600000</td>\n      <td>534056</td>\n      <td>2022-12-25</td>\n      <td>2022-12-25</td>\n    </tr>\n    <tr>\n      <th>281239</th>\n      <td>544684066</td>\n      <td>2022-12-28 15:00:00</td>\n      <td>2022-12-28 19:00:00</td>\n      <td>4.000000</td>\n      <td>523356</td>\n      <td>2022-12-28</td>\n      <td>2022-12-28</td>\n    </tr>\n    <tr>\n      <th>287765</th>\n      <td>544684068</td>\n      <td>2022-12-31 13:57:00</td>\n      <td>2022-12-31 19:28:00</td>\n      <td>5.516667</td>\n      <td>483956</td>\n      <td>2022-12-28</td>\n      <td>2022-12-28</td>\n    </tr>\n    <tr>\n      <th>211890</th>\n      <td>544684122</td>\n      <td>2022-12-28 12:06:00</td>\n      <td>2022-12-28 19:47:00</td>\n      <td>7.683333</td>\n      <td>534056</td>\n      <td>2022-12-27</td>\n      <td>2022-12-27</td>\n    </tr>\n  </tbody>\n</table>\n<p>66422 rows × 7 columns</p>\n</div>"
     },
     "execution_count": 118,
     "metadata": {},
     "output_type": "execute_result"
    }
   ],
   "source": [
    "filtered_clean_shifts_hr['RESTAURANT_ID'] = filtered_clean_shifts_hr['RESTAURANT_ID'].astype(int)\n",
    "filtered_clean_shifts_hr"
   ],
   "metadata": {
    "collapsed": false,
    "ExecuteTime": {
     "end_time": "2024-04-17T21:43:13.364273798Z",
     "start_time": "2024-04-17T21:43:12.429391178Z"
    }
   },
   "execution_count": 118
  },
  {
   "cell_type": "code",
   "outputs": [
    {
     "data": {
      "text/plain": "ERROR_IS_PREVENTABLE\n1.0    318\n0.0     18\nName: count, dtype: int64"
     },
     "execution_count": 119,
     "metadata": {},
     "output_type": "execute_result"
    }
   ],
   "source": [
    "clean_errors = errors.dropna()\n",
    "clean_errors['ERROR_IS_PREVENTABLE'].value_counts()"
   ],
   "metadata": {
    "collapsed": false,
    "ExecuteTime": {
     "end_time": "2024-04-17T21:43:13.553387289Z",
     "start_time": "2024-04-17T21:43:12.432403276Z"
    }
   },
   "execution_count": 119
  },
  {
   "cell_type": "code",
   "outputs": [
    {
     "data": {
      "text/plain": "ERROR_IS_PREVENTABLE\n1.0    318\nName: count, dtype: int64"
     },
     "execution_count": 120,
     "metadata": {},
     "output_type": "execute_result"
    }
   ],
   "source": [
    "clean_errors = clean_errors[clean_errors['ERROR_IS_PREVENTABLE'] == 1.0]\n",
    "clean_errors['ERROR_IS_PREVENTABLE'].value_counts()"
   ],
   "metadata": {
    "collapsed": false,
    "ExecuteTime": {
     "end_time": "2024-04-17T21:43:13.554086703Z",
     "start_time": "2024-04-17T21:43:12.473471683Z"
    }
   },
   "execution_count": 120
  },
  {
   "cell_type": "code",
   "outputs": [],
   "source": [
    "errors_shifts_hr = pd.merge(filtered_clean_shifts_hr, clean_errors, how='left', on=['EMPLOYEE_ID','RESTAURANT_ID'])\n",
    "errors_shifts_hr['RESTAURANT_ID'] = errors_shifts_hr['RESTAURANT_ID'].apply(lambda x: int(x) if pd.notna(x) else pd.NA)"
   ],
   "metadata": {
    "collapsed": false,
    "ExecuteTime": {
     "end_time": "2024-04-17T21:43:13.727564838Z",
     "start_time": "2024-04-17T21:43:12.484754524Z"
    }
   },
   "execution_count": 121
  },
  {
   "cell_type": "code",
   "outputs": [],
   "source": [],
   "metadata": {
    "collapsed": false,
    "ExecuteTime": {
     "end_time": "2024-04-17T21:43:13.779396425Z",
     "start_time": "2024-04-17T21:43:12.587907278Z"
    }
   },
   "execution_count": 121
  },
  {
   "cell_type": "code",
   "outputs": [],
   "source": [
    "# Normalize the start and end times to just date for comparison\n",
    "errors_shifts_hr['START_DATE'] = pd.to_datetime(errors_shifts_hr['START_TIME']).dt.date\n",
    "errors_shifts_hr['END_DATE'] = pd.to_datetime(errors_shifts_hr['END_TIME']).dt.date\n",
    "errors_shifts_hr['EVENT_DATE'] = pd.to_datetime(errors_shifts_hr['EVENT_DATE']).dt.date\n",
    "\n",
    "errors_shifts_hr['START_DATE_TIME'] = pd.to_datetime(errors_shifts_hr['START_TIME']).dt.time\n",
    "errors_shifts_hr['END_DATE_TIME'] = pd.to_datetime(errors_shifts_hr['END_TIME']).dt.time\n",
    "errors_shifts_hr['EVENT_TIME'] = pd.to_datetime(errors_shifts_hr['EVENT_TIME'], format='%I:%M:%S %p', errors='coerce').dt.time\n",
    "\n",
    "errors_shifts_hr['IS_IN_SHIFT'] = errors_shifts_hr.apply(\n",
    "    lambda x: (pd.notna(x['START_DATE']) and pd.notna(x['EVENT_DATE']) and pd.notna(x['END_DATE']) and pd.notna(x['START_TIME']) and pd.notna(x['EVENT_TIME']) and pd.notna(x['END_TIME'])) and\n",
    "                                                                                                        (x['START_DATE'] <= x['EVENT_DATE'] <= x['END_DATE']) and (x['START_DATE_TIME'] <= x['EVENT_TIME'] <= x['END_DATE_TIME']),\n",
    "    axis=1\n",
    ")"
   ],
   "metadata": {
    "collapsed": false,
    "ExecuteTime": {
     "end_time": "2024-04-17T21:43:15.754199764Z",
     "start_time": "2024-04-17T21:43:12.611356243Z"
    }
   },
   "execution_count": 122
  },
  {
   "cell_type": "code",
   "outputs": [
    {
     "name": "stdout",
     "output_type": "stream",
     "text": [
      "Number of rows: 68948\n",
      "Number of columns: 15\n",
      "Column names: ['EMPLOYEE_ID', 'START_TIME', 'END_TIME', 'DURATION', 'RESTAURANT_ID', 'EARLIEST_HIRE_DATE', 'RESTAURANT_HIRE_DATE', 'EVENT_TIME', 'EVENT_DATE', 'ERROR_IS_PREVENTABLE', 'START_DATE', 'END_DATE', 'START_DATE_TIME', 'END_DATE_TIME', 'IS_IN_SHIFT']\n",
      "Columns with missing data:\n",
      "EVENT_TIME: 43772 missing entries\n",
      "EVENT_DATE: 43772 missing entries\n",
      "ERROR_IS_PREVENTABLE: 43772 missing entries\n"
     ]
    }
   ],
   "source": [
    "print_dataframe_info(errors_shifts_hr)"
   ],
   "metadata": {
    "collapsed": false,
    "ExecuteTime": {
     "end_time": "2024-04-17T21:43:15.922587914Z",
     "start_time": "2024-04-17T21:43:15.179309872Z"
    }
   },
   "execution_count": 123
  },
  {
   "cell_type": "code",
   "outputs": [],
   "source": [
    "errors_in_shift = errors_shifts_hr[errors_shifts_hr['IS_IN_SHIFT'] == True].sort_values(by='EMPLOYEE_ID', ascending=False)"
   ],
   "metadata": {
    "collapsed": false,
    "ExecuteTime": {
     "end_time": "2024-04-17T21:43:15.922918664Z",
     "start_time": "2024-04-17T21:43:15.215404776Z"
    }
   },
   "execution_count": 124
  },
  {
   "cell_type": "code",
   "outputs": [],
   "source": [
    "sample_non_errors = errors_shifts_hr.head(200)"
   ],
   "metadata": {
    "collapsed": false,
    "ExecuteTime": {
     "end_time": "2024-04-17T21:43:15.999653047Z",
     "start_time": "2024-04-17T21:43:15.228774685Z"
    }
   },
   "execution_count": 125
  },
  {
   "cell_type": "code",
   "outputs": [
    {
     "data": {
      "text/plain": "       EMPLOYEE_ID          START_TIME            END_TIME   DURATION  \\\n68216    544680644 2022-11-14 05:26:00 2022-11-14 15:30:00  10.066667   \n67965    544680047 2022-12-02 07:00:00 2022-12-02 16:31:00   9.516667   \n67900    544680046 2022-11-20 05:59:00 2022-11-20 13:35:00   7.600000   \n67769    544679840 2022-12-27 15:55:00 2022-12-27 23:54:00   7.983333   \n67132    544678714 2022-10-13 05:25:00 2022-10-13 15:27:00  10.033333   \n...            ...                 ...                 ...        ...   \n195      544446245 2022-08-02 04:00:00 2022-08-02 16:00:00  12.000000   \n196      544446245 2022-08-03 04:00:00 2022-08-03 16:00:00  12.000000   \n197      544446245 2022-08-04 04:00:00 2022-08-04 16:00:00  12.000000   \n198      544446245 2022-08-05 04:00:00 2022-08-05 16:00:00  12.000000   \n199      544446245 2022-08-06 04:00:00 2022-08-06 13:00:00   9.000000   \n\n       RESTAURANT_ID EARLIEST_HIRE_DATE RESTAURANT_HIRE_DATE EVENT_TIME  \\\n68216         519856         2022-10-24           2022-10-24   13:00:00   \n67965         521156         2022-10-11           2022-10-11   09:00:00   \n67900         556956         2022-10-17           2022-10-17   07:00:00   \n67769         551456         2022-10-10           2022-10-10   20:05:00   \n67132         556956         2022-08-29           2022-08-29   15:25:00   \n...              ...                ...                  ...        ...   \n195           313458         1996-07-08           2014-09-15        NaN   \n196           313458         1996-07-08           2014-09-15        NaN   \n197           313458         1996-07-08           2014-09-15        NaN   \n198           313458         1996-07-08           2014-09-15        NaN   \n199           313458         1996-07-08           2014-09-15        NaN   \n\n       EVENT_DATE  ERROR_IS_PREVENTABLE  START_DATE    END_DATE  \\\n68216  2022-11-14                   1.0  2022-11-14  2022-11-14   \n67965  2022-12-02                   1.0  2022-12-02  2022-12-02   \n67900  2022-11-20                   1.0  2022-11-20  2022-11-20   \n67769  2022-12-27                   1.0  2022-12-27  2022-12-27   \n67132  2022-10-13                   1.0  2022-10-13  2022-10-13   \n...           ...                   ...         ...         ...   \n195           NaN                   NaN  2022-08-02  2022-08-02   \n196           NaN                   NaN  2022-08-03  2022-08-03   \n197           NaN                   NaN  2022-08-04  2022-08-04   \n198           NaN                   NaN  2022-08-05  2022-08-05   \n199           NaN                   NaN  2022-08-06  2022-08-06   \n\n      START_DATE_TIME END_DATE_TIME  IS_IN_SHIFT  \n68216        05:26:00      15:30:00         True  \n67965        07:00:00      16:31:00         True  \n67900        05:59:00      13:35:00         True  \n67769        15:55:00      23:54:00         True  \n67132        05:25:00      15:27:00         True  \n...               ...           ...          ...  \n195          04:00:00      16:00:00        False  \n196          04:00:00      16:00:00        False  \n197          04:00:00      16:00:00        False  \n198          04:00:00      16:00:00        False  \n199          04:00:00      13:00:00        False  \n\n[290 rows x 15 columns]",
      "text/html": "<div>\n<style scoped>\n    .dataframe tbody tr th:only-of-type {\n        vertical-align: middle;\n    }\n\n    .dataframe tbody tr th {\n        vertical-align: top;\n    }\n\n    .dataframe thead th {\n        text-align: right;\n    }\n</style>\n<table border=\"1\" class=\"dataframe\">\n  <thead>\n    <tr style=\"text-align: right;\">\n      <th></th>\n      <th>EMPLOYEE_ID</th>\n      <th>START_TIME</th>\n      <th>END_TIME</th>\n      <th>DURATION</th>\n      <th>RESTAURANT_ID</th>\n      <th>EARLIEST_HIRE_DATE</th>\n      <th>RESTAURANT_HIRE_DATE</th>\n      <th>EVENT_TIME</th>\n      <th>EVENT_DATE</th>\n      <th>ERROR_IS_PREVENTABLE</th>\n      <th>START_DATE</th>\n      <th>END_DATE</th>\n      <th>START_DATE_TIME</th>\n      <th>END_DATE_TIME</th>\n      <th>IS_IN_SHIFT</th>\n    </tr>\n  </thead>\n  <tbody>\n    <tr>\n      <th>68216</th>\n      <td>544680644</td>\n      <td>2022-11-14 05:26:00</td>\n      <td>2022-11-14 15:30:00</td>\n      <td>10.066667</td>\n      <td>519856</td>\n      <td>2022-10-24</td>\n      <td>2022-10-24</td>\n      <td>13:00:00</td>\n      <td>2022-11-14</td>\n      <td>1.0</td>\n      <td>2022-11-14</td>\n      <td>2022-11-14</td>\n      <td>05:26:00</td>\n      <td>15:30:00</td>\n      <td>True</td>\n    </tr>\n    <tr>\n      <th>67965</th>\n      <td>544680047</td>\n      <td>2022-12-02 07:00:00</td>\n      <td>2022-12-02 16:31:00</td>\n      <td>9.516667</td>\n      <td>521156</td>\n      <td>2022-10-11</td>\n      <td>2022-10-11</td>\n      <td>09:00:00</td>\n      <td>2022-12-02</td>\n      <td>1.0</td>\n      <td>2022-12-02</td>\n      <td>2022-12-02</td>\n      <td>07:00:00</td>\n      <td>16:31:00</td>\n      <td>True</td>\n    </tr>\n    <tr>\n      <th>67900</th>\n      <td>544680046</td>\n      <td>2022-11-20 05:59:00</td>\n      <td>2022-11-20 13:35:00</td>\n      <td>7.600000</td>\n      <td>556956</td>\n      <td>2022-10-17</td>\n      <td>2022-10-17</td>\n      <td>07:00:00</td>\n      <td>2022-11-20</td>\n      <td>1.0</td>\n      <td>2022-11-20</td>\n      <td>2022-11-20</td>\n      <td>05:59:00</td>\n      <td>13:35:00</td>\n      <td>True</td>\n    </tr>\n    <tr>\n      <th>67769</th>\n      <td>544679840</td>\n      <td>2022-12-27 15:55:00</td>\n      <td>2022-12-27 23:54:00</td>\n      <td>7.983333</td>\n      <td>551456</td>\n      <td>2022-10-10</td>\n      <td>2022-10-10</td>\n      <td>20:05:00</td>\n      <td>2022-12-27</td>\n      <td>1.0</td>\n      <td>2022-12-27</td>\n      <td>2022-12-27</td>\n      <td>15:55:00</td>\n      <td>23:54:00</td>\n      <td>True</td>\n    </tr>\n    <tr>\n      <th>67132</th>\n      <td>544678714</td>\n      <td>2022-10-13 05:25:00</td>\n      <td>2022-10-13 15:27:00</td>\n      <td>10.033333</td>\n      <td>556956</td>\n      <td>2022-08-29</td>\n      <td>2022-08-29</td>\n      <td>15:25:00</td>\n      <td>2022-10-13</td>\n      <td>1.0</td>\n      <td>2022-10-13</td>\n      <td>2022-10-13</td>\n      <td>05:25:00</td>\n      <td>15:27:00</td>\n      <td>True</td>\n    </tr>\n    <tr>\n      <th>...</th>\n      <td>...</td>\n      <td>...</td>\n      <td>...</td>\n      <td>...</td>\n      <td>...</td>\n      <td>...</td>\n      <td>...</td>\n      <td>...</td>\n      <td>...</td>\n      <td>...</td>\n      <td>...</td>\n      <td>...</td>\n      <td>...</td>\n      <td>...</td>\n      <td>...</td>\n    </tr>\n    <tr>\n      <th>195</th>\n      <td>544446245</td>\n      <td>2022-08-02 04:00:00</td>\n      <td>2022-08-02 16:00:00</td>\n      <td>12.000000</td>\n      <td>313458</td>\n      <td>1996-07-08</td>\n      <td>2014-09-15</td>\n      <td>NaN</td>\n      <td>NaN</td>\n      <td>NaN</td>\n      <td>2022-08-02</td>\n      <td>2022-08-02</td>\n      <td>04:00:00</td>\n      <td>16:00:00</td>\n      <td>False</td>\n    </tr>\n    <tr>\n      <th>196</th>\n      <td>544446245</td>\n      <td>2022-08-03 04:00:00</td>\n      <td>2022-08-03 16:00:00</td>\n      <td>12.000000</td>\n      <td>313458</td>\n      <td>1996-07-08</td>\n      <td>2014-09-15</td>\n      <td>NaN</td>\n      <td>NaN</td>\n      <td>NaN</td>\n      <td>2022-08-03</td>\n      <td>2022-08-03</td>\n      <td>04:00:00</td>\n      <td>16:00:00</td>\n      <td>False</td>\n    </tr>\n    <tr>\n      <th>197</th>\n      <td>544446245</td>\n      <td>2022-08-04 04:00:00</td>\n      <td>2022-08-04 16:00:00</td>\n      <td>12.000000</td>\n      <td>313458</td>\n      <td>1996-07-08</td>\n      <td>2014-09-15</td>\n      <td>NaN</td>\n      <td>NaN</td>\n      <td>NaN</td>\n      <td>2022-08-04</td>\n      <td>2022-08-04</td>\n      <td>04:00:00</td>\n      <td>16:00:00</td>\n      <td>False</td>\n    </tr>\n    <tr>\n      <th>198</th>\n      <td>544446245</td>\n      <td>2022-08-05 04:00:00</td>\n      <td>2022-08-05 16:00:00</td>\n      <td>12.000000</td>\n      <td>313458</td>\n      <td>1996-07-08</td>\n      <td>2014-09-15</td>\n      <td>NaN</td>\n      <td>NaN</td>\n      <td>NaN</td>\n      <td>2022-08-05</td>\n      <td>2022-08-05</td>\n      <td>04:00:00</td>\n      <td>16:00:00</td>\n      <td>False</td>\n    </tr>\n    <tr>\n      <th>199</th>\n      <td>544446245</td>\n      <td>2022-08-06 04:00:00</td>\n      <td>2022-08-06 13:00:00</td>\n      <td>9.000000</td>\n      <td>313458</td>\n      <td>1996-07-08</td>\n      <td>2014-09-15</td>\n      <td>NaN</td>\n      <td>NaN</td>\n      <td>NaN</td>\n      <td>2022-08-06</td>\n      <td>2022-08-06</td>\n      <td>04:00:00</td>\n      <td>13:00:00</td>\n      <td>False</td>\n    </tr>\n  </tbody>\n</table>\n<p>290 rows × 15 columns</p>\n</div>"
     },
     "execution_count": 126,
     "metadata": {},
     "output_type": "execute_result"
    }
   ],
   "source": [
    "sample = pd.concat([errors_in_shift, sample_non_errors])\n",
    "sample"
   ],
   "metadata": {
    "collapsed": false,
    "ExecuteTime": {
     "end_time": "2024-04-17T21:43:16.003837323Z",
     "start_time": "2024-04-17T21:43:15.242249520Z"
    }
   },
   "execution_count": 126
  },
  {
   "cell_type": "code",
   "outputs": [
    {
     "data": {
      "text/plain": "       EMPLOYEE_ID          START_TIME            END_TIME  DURATION  \\\n11566    544598465 2022-01-04 06:55:00 2022-01-04 14:55:00  8.000000   \n11567    544598465 2022-01-04 06:55:00 2022-01-04 14:55:00  8.000000   \n11568    544598465 2022-01-05 06:57:00 2022-01-05 14:59:00  8.033333   \n11569    544598465 2022-01-05 06:57:00 2022-01-05 14:59:00  8.033333   \n11570    544598465 2022-01-06 06:56:00 2022-01-06 14:55:00  7.983333   \n...            ...                 ...                 ...       ...   \n65054    544675931 2022-07-21 06:45:00 2022-07-21 14:45:00  8.000000   \n65055    544675931 2022-07-22 06:45:00 2022-07-22 10:39:00  3.900000   \n65056    544675931 2022-07-22 06:45:00 2022-07-22 10:39:00  3.900000   \n65057    544675931 2022-07-25 06:45:00 2022-07-25 14:32:00  7.783333   \n65058    544675931 2022-07-25 06:45:00 2022-07-25 14:32:00  7.783333   \n\n       RESTAURANT_ID EARLIEST_HIRE_DATE RESTAURANT_HIRE_DATE EVENT_TIME  \\\n11566         463756         2015-09-24           2017-05-18   14:50:00   \n11567         463756         2015-09-24           2017-05-18   14:29:00   \n11568         463756         2015-09-24           2017-05-18   14:50:00   \n11569         463756         2015-09-24           2017-05-18   14:29:00   \n11570         463756         2015-09-24           2017-05-18   14:50:00   \n...              ...                ...                  ...        ...   \n65054         436156         2022-07-05           2022-07-05   08:45:00   \n65055         436156         2022-07-05           2022-07-05   10:00:00   \n65056         436156         2022-07-05           2022-07-05   08:45:00   \n65057         436156         2022-07-05           2022-07-05   10:00:00   \n65058         436156         2022-07-05           2022-07-05   08:45:00   \n\n       EVENT_DATE  ERROR_IS_PREVENTABLE  START_DATE    END_DATE  \\\n11566  2022-09-19                   1.0  2022-01-04  2022-01-04   \n11567  2022-08-29                   1.0  2022-01-04  2022-01-04   \n11568  2022-09-19                   1.0  2022-01-05  2022-01-05   \n11569  2022-08-29                   1.0  2022-01-05  2022-01-05   \n11570  2022-09-19                   1.0  2022-01-06  2022-01-06   \n...           ...                   ...         ...         ...   \n65054  2022-07-25                   1.0  2022-07-21  2022-07-21   \n65055  2022-07-22                   1.0  2022-07-22  2022-07-22   \n65056  2022-07-25                   1.0  2022-07-22  2022-07-22   \n65057  2022-07-22                   1.0  2022-07-25  2022-07-25   \n65058  2022-07-25                   1.0  2022-07-25  2022-07-25   \n\n      START_DATE_TIME END_DATE_TIME  IS_IN_SHIFT  \n11566        06:55:00      14:55:00        False  \n11567        06:55:00      14:55:00        False  \n11568        06:57:00      14:59:00        False  \n11569        06:57:00      14:59:00        False  \n11570        06:56:00      14:55:00        False  \n...               ...           ...          ...  \n65054        06:45:00      14:45:00        False  \n65055        06:45:00      10:39:00         True  \n65056        06:45:00      10:39:00        False  \n65057        06:45:00      14:32:00        False  \n65058        06:45:00      14:32:00         True  \n\n[4881 rows x 15 columns]",
      "text/html": "<div>\n<style scoped>\n    .dataframe tbody tr th:only-of-type {\n        vertical-align: middle;\n    }\n\n    .dataframe tbody tr th {\n        vertical-align: top;\n    }\n\n    .dataframe thead th {\n        text-align: right;\n    }\n</style>\n<table border=\"1\" class=\"dataframe\">\n  <thead>\n    <tr style=\"text-align: right;\">\n      <th></th>\n      <th>EMPLOYEE_ID</th>\n      <th>START_TIME</th>\n      <th>END_TIME</th>\n      <th>DURATION</th>\n      <th>RESTAURANT_ID</th>\n      <th>EARLIEST_HIRE_DATE</th>\n      <th>RESTAURANT_HIRE_DATE</th>\n      <th>EVENT_TIME</th>\n      <th>EVENT_DATE</th>\n      <th>ERROR_IS_PREVENTABLE</th>\n      <th>START_DATE</th>\n      <th>END_DATE</th>\n      <th>START_DATE_TIME</th>\n      <th>END_DATE_TIME</th>\n      <th>IS_IN_SHIFT</th>\n    </tr>\n  </thead>\n  <tbody>\n    <tr>\n      <th>11566</th>\n      <td>544598465</td>\n      <td>2022-01-04 06:55:00</td>\n      <td>2022-01-04 14:55:00</td>\n      <td>8.000000</td>\n      <td>463756</td>\n      <td>2015-09-24</td>\n      <td>2017-05-18</td>\n      <td>14:50:00</td>\n      <td>2022-09-19</td>\n      <td>1.0</td>\n      <td>2022-01-04</td>\n      <td>2022-01-04</td>\n      <td>06:55:00</td>\n      <td>14:55:00</td>\n      <td>False</td>\n    </tr>\n    <tr>\n      <th>11567</th>\n      <td>544598465</td>\n      <td>2022-01-04 06:55:00</td>\n      <td>2022-01-04 14:55:00</td>\n      <td>8.000000</td>\n      <td>463756</td>\n      <td>2015-09-24</td>\n      <td>2017-05-18</td>\n      <td>14:29:00</td>\n      <td>2022-08-29</td>\n      <td>1.0</td>\n      <td>2022-01-04</td>\n      <td>2022-01-04</td>\n      <td>06:55:00</td>\n      <td>14:55:00</td>\n      <td>False</td>\n    </tr>\n    <tr>\n      <th>11568</th>\n      <td>544598465</td>\n      <td>2022-01-05 06:57:00</td>\n      <td>2022-01-05 14:59:00</td>\n      <td>8.033333</td>\n      <td>463756</td>\n      <td>2015-09-24</td>\n      <td>2017-05-18</td>\n      <td>14:50:00</td>\n      <td>2022-09-19</td>\n      <td>1.0</td>\n      <td>2022-01-05</td>\n      <td>2022-01-05</td>\n      <td>06:57:00</td>\n      <td>14:59:00</td>\n      <td>False</td>\n    </tr>\n    <tr>\n      <th>11569</th>\n      <td>544598465</td>\n      <td>2022-01-05 06:57:00</td>\n      <td>2022-01-05 14:59:00</td>\n      <td>8.033333</td>\n      <td>463756</td>\n      <td>2015-09-24</td>\n      <td>2017-05-18</td>\n      <td>14:29:00</td>\n      <td>2022-08-29</td>\n      <td>1.0</td>\n      <td>2022-01-05</td>\n      <td>2022-01-05</td>\n      <td>06:57:00</td>\n      <td>14:59:00</td>\n      <td>False</td>\n    </tr>\n    <tr>\n      <th>11570</th>\n      <td>544598465</td>\n      <td>2022-01-06 06:56:00</td>\n      <td>2022-01-06 14:55:00</td>\n      <td>7.983333</td>\n      <td>463756</td>\n      <td>2015-09-24</td>\n      <td>2017-05-18</td>\n      <td>14:50:00</td>\n      <td>2022-09-19</td>\n      <td>1.0</td>\n      <td>2022-01-06</td>\n      <td>2022-01-06</td>\n      <td>06:56:00</td>\n      <td>14:55:00</td>\n      <td>False</td>\n    </tr>\n    <tr>\n      <th>...</th>\n      <td>...</td>\n      <td>...</td>\n      <td>...</td>\n      <td>...</td>\n      <td>...</td>\n      <td>...</td>\n      <td>...</td>\n      <td>...</td>\n      <td>...</td>\n      <td>...</td>\n      <td>...</td>\n      <td>...</td>\n      <td>...</td>\n      <td>...</td>\n      <td>...</td>\n    </tr>\n    <tr>\n      <th>65054</th>\n      <td>544675931</td>\n      <td>2022-07-21 06:45:00</td>\n      <td>2022-07-21 14:45:00</td>\n      <td>8.000000</td>\n      <td>436156</td>\n      <td>2022-07-05</td>\n      <td>2022-07-05</td>\n      <td>08:45:00</td>\n      <td>2022-07-25</td>\n      <td>1.0</td>\n      <td>2022-07-21</td>\n      <td>2022-07-21</td>\n      <td>06:45:00</td>\n      <td>14:45:00</td>\n      <td>False</td>\n    </tr>\n    <tr>\n      <th>65055</th>\n      <td>544675931</td>\n      <td>2022-07-22 06:45:00</td>\n      <td>2022-07-22 10:39:00</td>\n      <td>3.900000</td>\n      <td>436156</td>\n      <td>2022-07-05</td>\n      <td>2022-07-05</td>\n      <td>10:00:00</td>\n      <td>2022-07-22</td>\n      <td>1.0</td>\n      <td>2022-07-22</td>\n      <td>2022-07-22</td>\n      <td>06:45:00</td>\n      <td>10:39:00</td>\n      <td>True</td>\n    </tr>\n    <tr>\n      <th>65056</th>\n      <td>544675931</td>\n      <td>2022-07-22 06:45:00</td>\n      <td>2022-07-22 10:39:00</td>\n      <td>3.900000</td>\n      <td>436156</td>\n      <td>2022-07-05</td>\n      <td>2022-07-05</td>\n      <td>08:45:00</td>\n      <td>2022-07-25</td>\n      <td>1.0</td>\n      <td>2022-07-22</td>\n      <td>2022-07-22</td>\n      <td>06:45:00</td>\n      <td>10:39:00</td>\n      <td>False</td>\n    </tr>\n    <tr>\n      <th>65057</th>\n      <td>544675931</td>\n      <td>2022-07-25 06:45:00</td>\n      <td>2022-07-25 14:32:00</td>\n      <td>7.783333</td>\n      <td>436156</td>\n      <td>2022-07-05</td>\n      <td>2022-07-05</td>\n      <td>10:00:00</td>\n      <td>2022-07-22</td>\n      <td>1.0</td>\n      <td>2022-07-25</td>\n      <td>2022-07-25</td>\n      <td>06:45:00</td>\n      <td>14:32:00</td>\n      <td>False</td>\n    </tr>\n    <tr>\n      <th>65058</th>\n      <td>544675931</td>\n      <td>2022-07-25 06:45:00</td>\n      <td>2022-07-25 14:32:00</td>\n      <td>7.783333</td>\n      <td>436156</td>\n      <td>2022-07-05</td>\n      <td>2022-07-05</td>\n      <td>08:45:00</td>\n      <td>2022-07-25</td>\n      <td>1.0</td>\n      <td>2022-07-25</td>\n      <td>2022-07-25</td>\n      <td>06:45:00</td>\n      <td>14:32:00</td>\n      <td>True</td>\n    </tr>\n  </tbody>\n</table>\n<p>4881 rows × 15 columns</p>\n</div>"
     },
     "execution_count": 127,
     "metadata": {},
     "output_type": "execute_result"
    }
   ],
   "source": [
    "#Check for duplicates\n",
    "duplicates = errors_shifts_hr.duplicated(subset=['EMPLOYEE_ID', 'RESTAURANT_ID','START_TIME'], keep=False)\n",
    "\n",
    "# Filter the DataFrame to show only the duplicates\n",
    "duplicate_rows = errors_shifts_hr[duplicates]\n",
    "duplicate_rows"
   ],
   "metadata": {
    "collapsed": false,
    "ExecuteTime": {
     "end_time": "2024-04-17T21:43:16.018752784Z",
     "start_time": "2024-04-17T21:43:15.277523193Z"
    }
   },
   "execution_count": 127
  },
  {
   "cell_type": "code",
   "outputs": [
    {
     "data": {
      "text/plain": "       EMPLOYEE_ID          START_TIME            END_TIME   DURATION  \\\n0        544444763 2022-01-14 00:00:00 2022-01-14 10:00:00  10.000000   \n1        544444763 2022-01-18 05:54:00 2022-01-18 14:00:00   8.100000   \n2        544444763 2022-01-28 05:54:00 2022-01-28 18:00:00  12.100000   \n3        544444763 2022-01-29 05:53:00 2022-01-29 17:00:00  11.116667   \n4        544444763 2022-06-17 05:54:00 2022-06-17 10:01:00   4.116667   \n...            ...                 ...                 ...        ...   \n68943    544684017 2022-12-26 16:00:00 2022-12-27 02:00:00  10.000000   \n68944    544684036 2022-12-28 09:25:00 2022-12-28 18:01:00   8.600000   \n68945    544684066 2022-12-28 15:00:00 2022-12-28 19:00:00   4.000000   \n68946    544684068 2022-12-31 13:57:00 2022-12-31 19:28:00   5.516667   \n68947    544684122 2022-12-28 12:06:00 2022-12-28 19:47:00   7.683333   \n\n       RESTAURANT_ID EARLIEST_HIRE_DATE RESTAURANT_HIRE_DATE EVENT_TIME  \\\n0             411857         1999-11-08           2017-05-31        NaT   \n1             411857         1999-11-08           2017-05-31        NaT   \n2             411857         1999-11-08           2017-05-31        NaT   \n3             411857         1999-11-08           2017-05-31        NaT   \n4             411857         1999-11-08           2017-05-31        NaT   \n...              ...                ...                  ...        ...   \n68943         519856         2022-12-26           2022-12-26        NaT   \n68944         534056         2022-12-25           2022-12-25        NaT   \n68945         523356         2022-12-28           2022-12-28        NaT   \n68946         483956         2022-12-28           2022-12-28        NaT   \n68947         534056         2022-12-27           2022-12-27        NaT   \n\n      EVENT_DATE  ERROR_IS_PREVENTABLE  START_DATE    END_DATE  \\\n0            NaT                   NaN  2022-01-14  2022-01-14   \n1            NaT                   NaN  2022-01-18  2022-01-18   \n2            NaT                   NaN  2022-01-28  2022-01-28   \n3            NaT                   NaN  2022-01-29  2022-01-29   \n4            NaT                   NaN  2022-06-17  2022-06-17   \n...          ...                   ...         ...         ...   \n68943        NaT                   NaN  2022-12-26  2022-12-27   \n68944        NaT                   NaN  2022-12-28  2022-12-28   \n68945        NaT                   NaN  2022-12-28  2022-12-28   \n68946        NaT                   NaN  2022-12-31  2022-12-31   \n68947        NaT                   NaN  2022-12-28  2022-12-28   \n\n      START_DATE_TIME END_DATE_TIME  IS_IN_SHIFT  \n0            00:00:00      10:00:00        False  \n1            05:54:00      14:00:00        False  \n2            05:54:00      18:00:00        False  \n3            05:53:00      17:00:00        False  \n4            05:54:00      10:01:00        False  \n...               ...           ...          ...  \n68943        16:00:00      02:00:00        False  \n68944        09:25:00      18:01:00        False  \n68945        15:00:00      19:00:00        False  \n68946        13:57:00      19:28:00        False  \n68947        12:06:00      19:47:00        False  \n\n[68948 rows x 15 columns]",
      "text/html": "<div>\n<style scoped>\n    .dataframe tbody tr th:only-of-type {\n        vertical-align: middle;\n    }\n\n    .dataframe tbody tr th {\n        vertical-align: top;\n    }\n\n    .dataframe thead th {\n        text-align: right;\n    }\n</style>\n<table border=\"1\" class=\"dataframe\">\n  <thead>\n    <tr style=\"text-align: right;\">\n      <th></th>\n      <th>EMPLOYEE_ID</th>\n      <th>START_TIME</th>\n      <th>END_TIME</th>\n      <th>DURATION</th>\n      <th>RESTAURANT_ID</th>\n      <th>EARLIEST_HIRE_DATE</th>\n      <th>RESTAURANT_HIRE_DATE</th>\n      <th>EVENT_TIME</th>\n      <th>EVENT_DATE</th>\n      <th>ERROR_IS_PREVENTABLE</th>\n      <th>START_DATE</th>\n      <th>END_DATE</th>\n      <th>START_DATE_TIME</th>\n      <th>END_DATE_TIME</th>\n      <th>IS_IN_SHIFT</th>\n    </tr>\n  </thead>\n  <tbody>\n    <tr>\n      <th>0</th>\n      <td>544444763</td>\n      <td>2022-01-14 00:00:00</td>\n      <td>2022-01-14 10:00:00</td>\n      <td>10.000000</td>\n      <td>411857</td>\n      <td>1999-11-08</td>\n      <td>2017-05-31</td>\n      <td>NaT</td>\n      <td>NaT</td>\n      <td>NaN</td>\n      <td>2022-01-14</td>\n      <td>2022-01-14</td>\n      <td>00:00:00</td>\n      <td>10:00:00</td>\n      <td>False</td>\n    </tr>\n    <tr>\n      <th>1</th>\n      <td>544444763</td>\n      <td>2022-01-18 05:54:00</td>\n      <td>2022-01-18 14:00:00</td>\n      <td>8.100000</td>\n      <td>411857</td>\n      <td>1999-11-08</td>\n      <td>2017-05-31</td>\n      <td>NaT</td>\n      <td>NaT</td>\n      <td>NaN</td>\n      <td>2022-01-18</td>\n      <td>2022-01-18</td>\n      <td>05:54:00</td>\n      <td>14:00:00</td>\n      <td>False</td>\n    </tr>\n    <tr>\n      <th>2</th>\n      <td>544444763</td>\n      <td>2022-01-28 05:54:00</td>\n      <td>2022-01-28 18:00:00</td>\n      <td>12.100000</td>\n      <td>411857</td>\n      <td>1999-11-08</td>\n      <td>2017-05-31</td>\n      <td>NaT</td>\n      <td>NaT</td>\n      <td>NaN</td>\n      <td>2022-01-28</td>\n      <td>2022-01-28</td>\n      <td>05:54:00</td>\n      <td>18:00:00</td>\n      <td>False</td>\n    </tr>\n    <tr>\n      <th>3</th>\n      <td>544444763</td>\n      <td>2022-01-29 05:53:00</td>\n      <td>2022-01-29 17:00:00</td>\n      <td>11.116667</td>\n      <td>411857</td>\n      <td>1999-11-08</td>\n      <td>2017-05-31</td>\n      <td>NaT</td>\n      <td>NaT</td>\n      <td>NaN</td>\n      <td>2022-01-29</td>\n      <td>2022-01-29</td>\n      <td>05:53:00</td>\n      <td>17:00:00</td>\n      <td>False</td>\n    </tr>\n    <tr>\n      <th>4</th>\n      <td>544444763</td>\n      <td>2022-06-17 05:54:00</td>\n      <td>2022-06-17 10:01:00</td>\n      <td>4.116667</td>\n      <td>411857</td>\n      <td>1999-11-08</td>\n      <td>2017-05-31</td>\n      <td>NaT</td>\n      <td>NaT</td>\n      <td>NaN</td>\n      <td>2022-06-17</td>\n      <td>2022-06-17</td>\n      <td>05:54:00</td>\n      <td>10:01:00</td>\n      <td>False</td>\n    </tr>\n    <tr>\n      <th>...</th>\n      <td>...</td>\n      <td>...</td>\n      <td>...</td>\n      <td>...</td>\n      <td>...</td>\n      <td>...</td>\n      <td>...</td>\n      <td>...</td>\n      <td>...</td>\n      <td>...</td>\n      <td>...</td>\n      <td>...</td>\n      <td>...</td>\n      <td>...</td>\n      <td>...</td>\n    </tr>\n    <tr>\n      <th>68943</th>\n      <td>544684017</td>\n      <td>2022-12-26 16:00:00</td>\n      <td>2022-12-27 02:00:00</td>\n      <td>10.000000</td>\n      <td>519856</td>\n      <td>2022-12-26</td>\n      <td>2022-12-26</td>\n      <td>NaT</td>\n      <td>NaT</td>\n      <td>NaN</td>\n      <td>2022-12-26</td>\n      <td>2022-12-27</td>\n      <td>16:00:00</td>\n      <td>02:00:00</td>\n      <td>False</td>\n    </tr>\n    <tr>\n      <th>68944</th>\n      <td>544684036</td>\n      <td>2022-12-28 09:25:00</td>\n      <td>2022-12-28 18:01:00</td>\n      <td>8.600000</td>\n      <td>534056</td>\n      <td>2022-12-25</td>\n      <td>2022-12-25</td>\n      <td>NaT</td>\n      <td>NaT</td>\n      <td>NaN</td>\n      <td>2022-12-28</td>\n      <td>2022-12-28</td>\n      <td>09:25:00</td>\n      <td>18:01:00</td>\n      <td>False</td>\n    </tr>\n    <tr>\n      <th>68945</th>\n      <td>544684066</td>\n      <td>2022-12-28 15:00:00</td>\n      <td>2022-12-28 19:00:00</td>\n      <td>4.000000</td>\n      <td>523356</td>\n      <td>2022-12-28</td>\n      <td>2022-12-28</td>\n      <td>NaT</td>\n      <td>NaT</td>\n      <td>NaN</td>\n      <td>2022-12-28</td>\n      <td>2022-12-28</td>\n      <td>15:00:00</td>\n      <td>19:00:00</td>\n      <td>False</td>\n    </tr>\n    <tr>\n      <th>68946</th>\n      <td>544684068</td>\n      <td>2022-12-31 13:57:00</td>\n      <td>2022-12-31 19:28:00</td>\n      <td>5.516667</td>\n      <td>483956</td>\n      <td>2022-12-28</td>\n      <td>2022-12-28</td>\n      <td>NaT</td>\n      <td>NaT</td>\n      <td>NaN</td>\n      <td>2022-12-31</td>\n      <td>2022-12-31</td>\n      <td>13:57:00</td>\n      <td>19:28:00</td>\n      <td>False</td>\n    </tr>\n    <tr>\n      <th>68947</th>\n      <td>544684122</td>\n      <td>2022-12-28 12:06:00</td>\n      <td>2022-12-28 19:47:00</td>\n      <td>7.683333</td>\n      <td>534056</td>\n      <td>2022-12-27</td>\n      <td>2022-12-27</td>\n      <td>NaT</td>\n      <td>NaT</td>\n      <td>NaN</td>\n      <td>2022-12-28</td>\n      <td>2022-12-28</td>\n      <td>12:06:00</td>\n      <td>19:47:00</td>\n      <td>False</td>\n    </tr>\n  </tbody>\n</table>\n<p>68948 rows × 15 columns</p>\n</div>"
     },
     "execution_count": 128,
     "metadata": {},
     "output_type": "execute_result"
    }
   ],
   "source": [
    "errors_shifts_hr"
   ],
   "metadata": {
    "collapsed": false,
    "ExecuteTime": {
     "end_time": "2024-04-17T21:43:16.023060485Z",
     "start_time": "2024-04-17T21:43:15.329903695Z"
    }
   },
   "execution_count": 128
  },
  {
   "cell_type": "code",
   "outputs": [],
   "source": [
    "errors_shifts_hr = errors_shifts_hr.drop_duplicates(subset=['EMPLOYEE_ID', 'RESTAURANT_ID','START_TIME','IS_IN_SHIFT'])"
   ],
   "metadata": {
    "collapsed": false,
    "ExecuteTime": {
     "end_time": "2024-04-17T21:43:16.075167456Z",
     "start_time": "2024-04-17T21:43:15.361232495Z"
    }
   },
   "execution_count": 129
  },
  {
   "cell_type": "code",
   "outputs": [
    {
     "name": "stderr",
     "output_type": "stream",
     "text": [
      "/tmp/ipykernel_340900/3209760608.py:8: SettingWithCopyWarning: \n",
      "A value is trying to be set on a copy of a slice from a DataFrame.\n",
      "Try using .loc[row_indexer,col_indexer] = value instead\n",
      "\n",
      "See the caveats in the documentation: https://pandas.pydata.org/pandas-docs/stable/user_guide/indexing.html#returning-a-view-versus-a-copy\n",
      "  duplicate_rows_false['idx_to_remove'] = duplicate_rows_false.index\n"
     ]
    }
   ],
   "source": [
    "#Check for duplicates\n",
    "duplicates = errors_shifts_hr.duplicated(subset=['EMPLOYEE_ID', 'RESTAURANT_ID','START_TIME'], keep=False)\n",
    "\n",
    "# Filter the DataFrame to show only the duplicates\n",
    "duplicate_rows = errors_shifts_hr[duplicates]\n",
    "duplicate_rows_false = duplicate_rows[duplicate_rows['IS_IN_SHIFT'] == False]\n",
    "\n",
    "duplicate_rows_false['idx_to_remove'] = duplicate_rows_false.index\n",
    "\n",
    "# Merge this identifier with the original DataFrame to mark rows to be removed\n",
    "errors_shifts_hr = errors_shifts_hr.merge(duplicate_rows_false[['idx_to_remove']],\n",
    "                                         left_index=True, right_on='idx_to_remove', how='left', indicator=True)\n",
    "\n",
    "# Filter out the rows marked for removal\n",
    "errors_shifts_hr_non_dup = errors_shifts_hr[errors_shifts_hr['_merge'] == 'left_only']\n",
    "\n",
    "# Drop the auxiliary columns added for the merge and filtering process\n",
    "errors_shifts_hr_non_dup = errors_shifts_hr_non_dup.drop(columns=['idx_to_remove', '_merge'])"
   ],
   "metadata": {
    "collapsed": false,
    "ExecuteTime": {
     "end_time": "2024-04-17T21:43:16.117052637Z",
     "start_time": "2024-04-17T21:43:15.384257510Z"
    }
   },
   "execution_count": 130
  },
  {
   "cell_type": "code",
   "outputs": [
    {
     "data": {
      "text/plain": "       EMPLOYEE_ID          START_TIME            END_TIME   DURATION  \\\n0        544444763 2022-01-14 00:00:00 2022-01-14 10:00:00  10.000000   \n1        544444763 2022-01-18 05:54:00 2022-01-18 14:00:00   8.100000   \n2        544444763 2022-01-28 05:54:00 2022-01-28 18:00:00  12.100000   \n3        544444763 2022-01-29 05:53:00 2022-01-29 17:00:00  11.116667   \n4        544444763 2022-06-17 05:54:00 2022-06-17 10:01:00   4.116667   \n...            ...                 ...                 ...        ...   \n66417    544684017 2022-12-26 16:00:00 2022-12-27 02:00:00  10.000000   \n66418    544684036 2022-12-28 09:25:00 2022-12-28 18:01:00   8.600000   \n66419    544684066 2022-12-28 15:00:00 2022-12-28 19:00:00   4.000000   \n66420    544684068 2022-12-31 13:57:00 2022-12-31 19:28:00   5.516667   \n66421    544684122 2022-12-28 12:06:00 2022-12-28 19:47:00   7.683333   \n\n       RESTAURANT_ID EARLIEST_HIRE_DATE RESTAURANT_HIRE_DATE EVENT_TIME  \\\n0             411857         1999-11-08           2017-05-31        NaT   \n1             411857         1999-11-08           2017-05-31        NaT   \n2             411857         1999-11-08           2017-05-31        NaT   \n3             411857         1999-11-08           2017-05-31        NaT   \n4             411857         1999-11-08           2017-05-31        NaT   \n...              ...                ...                  ...        ...   \n66417         519856         2022-12-26           2022-12-26        NaT   \n66418         534056         2022-12-25           2022-12-25        NaT   \n66419         523356         2022-12-28           2022-12-28        NaT   \n66420         483956         2022-12-28           2022-12-28        NaT   \n66421         534056         2022-12-27           2022-12-27        NaT   \n\n      EVENT_DATE  ERROR_IS_PREVENTABLE  START_DATE    END_DATE  \\\n0            NaT                   NaN  2022-01-14  2022-01-14   \n1            NaT                   NaN  2022-01-18  2022-01-18   \n2            NaT                   NaN  2022-01-28  2022-01-28   \n3            NaT                   NaN  2022-01-29  2022-01-29   \n4            NaT                   NaN  2022-06-17  2022-06-17   \n...          ...                   ...         ...         ...   \n66417        NaT                   NaN  2022-12-26  2022-12-27   \n66418        NaT                   NaN  2022-12-28  2022-12-28   \n66419        NaT                   NaN  2022-12-28  2022-12-28   \n66420        NaT                   NaN  2022-12-31  2022-12-31   \n66421        NaT                   NaN  2022-12-28  2022-12-28   \n\n      START_DATE_TIME END_DATE_TIME  IS_IN_SHIFT  \n0            00:00:00      10:00:00        False  \n1            05:54:00      14:00:00        False  \n2            05:54:00      18:00:00        False  \n3            05:53:00      17:00:00        False  \n4            05:54:00      10:01:00        False  \n...               ...           ...          ...  \n66417        16:00:00      02:00:00        False  \n66418        09:25:00      18:01:00        False  \n66419        15:00:00      19:00:00        False  \n66420        13:57:00      19:28:00        False  \n66421        12:06:00      19:47:00        False  \n\n[66422 rows x 15 columns]",
      "text/html": "<div>\n<style scoped>\n    .dataframe tbody tr th:only-of-type {\n        vertical-align: middle;\n    }\n\n    .dataframe tbody tr th {\n        vertical-align: top;\n    }\n\n    .dataframe thead th {\n        text-align: right;\n    }\n</style>\n<table border=\"1\" class=\"dataframe\">\n  <thead>\n    <tr style=\"text-align: right;\">\n      <th></th>\n      <th>EMPLOYEE_ID</th>\n      <th>START_TIME</th>\n      <th>END_TIME</th>\n      <th>DURATION</th>\n      <th>RESTAURANT_ID</th>\n      <th>EARLIEST_HIRE_DATE</th>\n      <th>RESTAURANT_HIRE_DATE</th>\n      <th>EVENT_TIME</th>\n      <th>EVENT_DATE</th>\n      <th>ERROR_IS_PREVENTABLE</th>\n      <th>START_DATE</th>\n      <th>END_DATE</th>\n      <th>START_DATE_TIME</th>\n      <th>END_DATE_TIME</th>\n      <th>IS_IN_SHIFT</th>\n    </tr>\n  </thead>\n  <tbody>\n    <tr>\n      <th>0</th>\n      <td>544444763</td>\n      <td>2022-01-14 00:00:00</td>\n      <td>2022-01-14 10:00:00</td>\n      <td>10.000000</td>\n      <td>411857</td>\n      <td>1999-11-08</td>\n      <td>2017-05-31</td>\n      <td>NaT</td>\n      <td>NaT</td>\n      <td>NaN</td>\n      <td>2022-01-14</td>\n      <td>2022-01-14</td>\n      <td>00:00:00</td>\n      <td>10:00:00</td>\n      <td>False</td>\n    </tr>\n    <tr>\n      <th>1</th>\n      <td>544444763</td>\n      <td>2022-01-18 05:54:00</td>\n      <td>2022-01-18 14:00:00</td>\n      <td>8.100000</td>\n      <td>411857</td>\n      <td>1999-11-08</td>\n      <td>2017-05-31</td>\n      <td>NaT</td>\n      <td>NaT</td>\n      <td>NaN</td>\n      <td>2022-01-18</td>\n      <td>2022-01-18</td>\n      <td>05:54:00</td>\n      <td>14:00:00</td>\n      <td>False</td>\n    </tr>\n    <tr>\n      <th>2</th>\n      <td>544444763</td>\n      <td>2022-01-28 05:54:00</td>\n      <td>2022-01-28 18:00:00</td>\n      <td>12.100000</td>\n      <td>411857</td>\n      <td>1999-11-08</td>\n      <td>2017-05-31</td>\n      <td>NaT</td>\n      <td>NaT</td>\n      <td>NaN</td>\n      <td>2022-01-28</td>\n      <td>2022-01-28</td>\n      <td>05:54:00</td>\n      <td>18:00:00</td>\n      <td>False</td>\n    </tr>\n    <tr>\n      <th>3</th>\n      <td>544444763</td>\n      <td>2022-01-29 05:53:00</td>\n      <td>2022-01-29 17:00:00</td>\n      <td>11.116667</td>\n      <td>411857</td>\n      <td>1999-11-08</td>\n      <td>2017-05-31</td>\n      <td>NaT</td>\n      <td>NaT</td>\n      <td>NaN</td>\n      <td>2022-01-29</td>\n      <td>2022-01-29</td>\n      <td>05:53:00</td>\n      <td>17:00:00</td>\n      <td>False</td>\n    </tr>\n    <tr>\n      <th>4</th>\n      <td>544444763</td>\n      <td>2022-06-17 05:54:00</td>\n      <td>2022-06-17 10:01:00</td>\n      <td>4.116667</td>\n      <td>411857</td>\n      <td>1999-11-08</td>\n      <td>2017-05-31</td>\n      <td>NaT</td>\n      <td>NaT</td>\n      <td>NaN</td>\n      <td>2022-06-17</td>\n      <td>2022-06-17</td>\n      <td>05:54:00</td>\n      <td>10:01:00</td>\n      <td>False</td>\n    </tr>\n    <tr>\n      <th>...</th>\n      <td>...</td>\n      <td>...</td>\n      <td>...</td>\n      <td>...</td>\n      <td>...</td>\n      <td>...</td>\n      <td>...</td>\n      <td>...</td>\n      <td>...</td>\n      <td>...</td>\n      <td>...</td>\n      <td>...</td>\n      <td>...</td>\n      <td>...</td>\n      <td>...</td>\n    </tr>\n    <tr>\n      <th>66417</th>\n      <td>544684017</td>\n      <td>2022-12-26 16:00:00</td>\n      <td>2022-12-27 02:00:00</td>\n      <td>10.000000</td>\n      <td>519856</td>\n      <td>2022-12-26</td>\n      <td>2022-12-26</td>\n      <td>NaT</td>\n      <td>NaT</td>\n      <td>NaN</td>\n      <td>2022-12-26</td>\n      <td>2022-12-27</td>\n      <td>16:00:00</td>\n      <td>02:00:00</td>\n      <td>False</td>\n    </tr>\n    <tr>\n      <th>66418</th>\n      <td>544684036</td>\n      <td>2022-12-28 09:25:00</td>\n      <td>2022-12-28 18:01:00</td>\n      <td>8.600000</td>\n      <td>534056</td>\n      <td>2022-12-25</td>\n      <td>2022-12-25</td>\n      <td>NaT</td>\n      <td>NaT</td>\n      <td>NaN</td>\n      <td>2022-12-28</td>\n      <td>2022-12-28</td>\n      <td>09:25:00</td>\n      <td>18:01:00</td>\n      <td>False</td>\n    </tr>\n    <tr>\n      <th>66419</th>\n      <td>544684066</td>\n      <td>2022-12-28 15:00:00</td>\n      <td>2022-12-28 19:00:00</td>\n      <td>4.000000</td>\n      <td>523356</td>\n      <td>2022-12-28</td>\n      <td>2022-12-28</td>\n      <td>NaT</td>\n      <td>NaT</td>\n      <td>NaN</td>\n      <td>2022-12-28</td>\n      <td>2022-12-28</td>\n      <td>15:00:00</td>\n      <td>19:00:00</td>\n      <td>False</td>\n    </tr>\n    <tr>\n      <th>66420</th>\n      <td>544684068</td>\n      <td>2022-12-31 13:57:00</td>\n      <td>2022-12-31 19:28:00</td>\n      <td>5.516667</td>\n      <td>483956</td>\n      <td>2022-12-28</td>\n      <td>2022-12-28</td>\n      <td>NaT</td>\n      <td>NaT</td>\n      <td>NaN</td>\n      <td>2022-12-31</td>\n      <td>2022-12-31</td>\n      <td>13:57:00</td>\n      <td>19:28:00</td>\n      <td>False</td>\n    </tr>\n    <tr>\n      <th>66421</th>\n      <td>544684122</td>\n      <td>2022-12-28 12:06:00</td>\n      <td>2022-12-28 19:47:00</td>\n      <td>7.683333</td>\n      <td>534056</td>\n      <td>2022-12-27</td>\n      <td>2022-12-27</td>\n      <td>NaT</td>\n      <td>NaT</td>\n      <td>NaN</td>\n      <td>2022-12-28</td>\n      <td>2022-12-28</td>\n      <td>12:06:00</td>\n      <td>19:47:00</td>\n      <td>False</td>\n    </tr>\n  </tbody>\n</table>\n<p>66422 rows × 15 columns</p>\n</div>"
     },
     "execution_count": 131,
     "metadata": {},
     "output_type": "execute_result"
    }
   ],
   "source": [
    "errors_shifts_hr_non_dup.reset_index(inplace=True)\n",
    "errors_shifts_hr_non_dup.drop(columns=['index'], inplace=True)\n",
    "errors_shifts_hr_non_dup"
   ],
   "metadata": {
    "collapsed": false,
    "ExecuteTime": {
     "end_time": "2024-04-17T21:43:16.122389600Z",
     "start_time": "2024-04-17T21:43:15.496281566Z"
    }
   },
   "execution_count": 131
  },
  {
   "cell_type": "code",
   "outputs": [
    {
     "data": {
      "text/plain": "Empty DataFrame\nColumns: [EMPLOYEE_ID, START_TIME, END_TIME, DURATION, RESTAURANT_ID, EARLIEST_HIRE_DATE, RESTAURANT_HIRE_DATE, EVENT_TIME, EVENT_DATE, ERROR_IS_PREVENTABLE, START_DATE, END_DATE, START_DATE_TIME, END_DATE_TIME, IS_IN_SHIFT]\nIndex: []",
      "text/html": "<div>\n<style scoped>\n    .dataframe tbody tr th:only-of-type {\n        vertical-align: middle;\n    }\n\n    .dataframe tbody tr th {\n        vertical-align: top;\n    }\n\n    .dataframe thead th {\n        text-align: right;\n    }\n</style>\n<table border=\"1\" class=\"dataframe\">\n  <thead>\n    <tr style=\"text-align: right;\">\n      <th></th>\n      <th>EMPLOYEE_ID</th>\n      <th>START_TIME</th>\n      <th>END_TIME</th>\n      <th>DURATION</th>\n      <th>RESTAURANT_ID</th>\n      <th>EARLIEST_HIRE_DATE</th>\n      <th>RESTAURANT_HIRE_DATE</th>\n      <th>EVENT_TIME</th>\n      <th>EVENT_DATE</th>\n      <th>ERROR_IS_PREVENTABLE</th>\n      <th>START_DATE</th>\n      <th>END_DATE</th>\n      <th>START_DATE_TIME</th>\n      <th>END_DATE_TIME</th>\n      <th>IS_IN_SHIFT</th>\n    </tr>\n  </thead>\n  <tbody>\n  </tbody>\n</table>\n</div>"
     },
     "execution_count": 132,
     "metadata": {},
     "output_type": "execute_result"
    }
   ],
   "source": [
    "#Check for duplicates\n",
    "duplicates = errors_shifts_hr_non_dup.duplicated(subset=['EMPLOYEE_ID', 'RESTAURANT_ID','START_TIME'], keep=False)\n",
    "\n",
    "# Filter the DataFrame to show only the duplicates\n",
    "duplicate_rows = errors_shifts_hr_non_dup[duplicates]\n",
    "duplicate_rows"
   ],
   "metadata": {
    "collapsed": false,
    "ExecuteTime": {
     "end_time": "2024-04-17T21:43:16.126322897Z",
     "start_time": "2024-04-17T21:43:15.537511060Z"
    }
   },
   "execution_count": 132
  },
  {
   "cell_type": "code",
   "outputs": [
    {
     "data": {
      "text/plain": "       EMPLOYEE_ID          START_TIME            END_TIME   DURATION  \\\n0        544444763 2022-01-14 00:00:00 2022-01-14 10:00:00  10.000000   \n1        544444763 2022-01-18 05:54:00 2022-01-18 14:00:00   8.100000   \n2        544444763 2022-01-28 05:54:00 2022-01-28 18:00:00  12.100000   \n3        544444763 2022-01-29 05:53:00 2022-01-29 17:00:00  11.116667   \n4        544444763 2022-06-17 05:54:00 2022-06-17 10:01:00   4.116667   \n...            ...                 ...                 ...        ...   \n66417    544684017 2022-12-26 16:00:00 2022-12-27 02:00:00  10.000000   \n66418    544684036 2022-12-28 09:25:00 2022-12-28 18:01:00   8.600000   \n66419    544684066 2022-12-28 15:00:00 2022-12-28 19:00:00   4.000000   \n66420    544684068 2022-12-31 13:57:00 2022-12-31 19:28:00   5.516667   \n66421    544684122 2022-12-28 12:06:00 2022-12-28 19:47:00   7.683333   \n\n       RESTAURANT_ID EARLIEST_HIRE_DATE RESTAURANT_HIRE_DATE EVENT_TIME  \\\n0             411857         1999-11-08           2017-05-31        NaT   \n1             411857         1999-11-08           2017-05-31        NaT   \n2             411857         1999-11-08           2017-05-31        NaT   \n3             411857         1999-11-08           2017-05-31        NaT   \n4             411857         1999-11-08           2017-05-31        NaT   \n...              ...                ...                  ...        ...   \n66417         519856         2022-12-26           2022-12-26        NaT   \n66418         534056         2022-12-25           2022-12-25        NaT   \n66419         523356         2022-12-28           2022-12-28        NaT   \n66420         483956         2022-12-28           2022-12-28        NaT   \n66421         534056         2022-12-27           2022-12-27        NaT   \n\n      EVENT_DATE  ERROR_IS_PREVENTABLE  START_DATE    END_DATE  \\\n0            NaT                   NaN  2022-01-14  2022-01-14   \n1            NaT                   NaN  2022-01-18  2022-01-18   \n2            NaT                   NaN  2022-01-28  2022-01-28   \n3            NaT                   NaN  2022-01-29  2022-01-29   \n4            NaT                   NaN  2022-06-17  2022-06-17   \n...          ...                   ...         ...         ...   \n66417        NaT                   NaN  2022-12-26  2022-12-27   \n66418        NaT                   NaN  2022-12-28  2022-12-28   \n66419        NaT                   NaN  2022-12-28  2022-12-28   \n66420        NaT                   NaN  2022-12-31  2022-12-31   \n66421        NaT                   NaN  2022-12-28  2022-12-28   \n\n      START_DATE_TIME END_DATE_TIME  IS_IN_SHIFT  \n0            00:00:00      10:00:00        False  \n1            05:54:00      14:00:00        False  \n2            05:54:00      18:00:00        False  \n3            05:53:00      17:00:00        False  \n4            05:54:00      10:01:00        False  \n...               ...           ...          ...  \n66417        16:00:00      02:00:00        False  \n66418        09:25:00      18:01:00        False  \n66419        15:00:00      19:00:00        False  \n66420        13:57:00      19:28:00        False  \n66421        12:06:00      19:47:00        False  \n\n[66422 rows x 15 columns]",
      "text/html": "<div>\n<style scoped>\n    .dataframe tbody tr th:only-of-type {\n        vertical-align: middle;\n    }\n\n    .dataframe tbody tr th {\n        vertical-align: top;\n    }\n\n    .dataframe thead th {\n        text-align: right;\n    }\n</style>\n<table border=\"1\" class=\"dataframe\">\n  <thead>\n    <tr style=\"text-align: right;\">\n      <th></th>\n      <th>EMPLOYEE_ID</th>\n      <th>START_TIME</th>\n      <th>END_TIME</th>\n      <th>DURATION</th>\n      <th>RESTAURANT_ID</th>\n      <th>EARLIEST_HIRE_DATE</th>\n      <th>RESTAURANT_HIRE_DATE</th>\n      <th>EVENT_TIME</th>\n      <th>EVENT_DATE</th>\n      <th>ERROR_IS_PREVENTABLE</th>\n      <th>START_DATE</th>\n      <th>END_DATE</th>\n      <th>START_DATE_TIME</th>\n      <th>END_DATE_TIME</th>\n      <th>IS_IN_SHIFT</th>\n    </tr>\n  </thead>\n  <tbody>\n    <tr>\n      <th>0</th>\n      <td>544444763</td>\n      <td>2022-01-14 00:00:00</td>\n      <td>2022-01-14 10:00:00</td>\n      <td>10.000000</td>\n      <td>411857</td>\n      <td>1999-11-08</td>\n      <td>2017-05-31</td>\n      <td>NaT</td>\n      <td>NaT</td>\n      <td>NaN</td>\n      <td>2022-01-14</td>\n      <td>2022-01-14</td>\n      <td>00:00:00</td>\n      <td>10:00:00</td>\n      <td>False</td>\n    </tr>\n    <tr>\n      <th>1</th>\n      <td>544444763</td>\n      <td>2022-01-18 05:54:00</td>\n      <td>2022-01-18 14:00:00</td>\n      <td>8.100000</td>\n      <td>411857</td>\n      <td>1999-11-08</td>\n      <td>2017-05-31</td>\n      <td>NaT</td>\n      <td>NaT</td>\n      <td>NaN</td>\n      <td>2022-01-18</td>\n      <td>2022-01-18</td>\n      <td>05:54:00</td>\n      <td>14:00:00</td>\n      <td>False</td>\n    </tr>\n    <tr>\n      <th>2</th>\n      <td>544444763</td>\n      <td>2022-01-28 05:54:00</td>\n      <td>2022-01-28 18:00:00</td>\n      <td>12.100000</td>\n      <td>411857</td>\n      <td>1999-11-08</td>\n      <td>2017-05-31</td>\n      <td>NaT</td>\n      <td>NaT</td>\n      <td>NaN</td>\n      <td>2022-01-28</td>\n      <td>2022-01-28</td>\n      <td>05:54:00</td>\n      <td>18:00:00</td>\n      <td>False</td>\n    </tr>\n    <tr>\n      <th>3</th>\n      <td>544444763</td>\n      <td>2022-01-29 05:53:00</td>\n      <td>2022-01-29 17:00:00</td>\n      <td>11.116667</td>\n      <td>411857</td>\n      <td>1999-11-08</td>\n      <td>2017-05-31</td>\n      <td>NaT</td>\n      <td>NaT</td>\n      <td>NaN</td>\n      <td>2022-01-29</td>\n      <td>2022-01-29</td>\n      <td>05:53:00</td>\n      <td>17:00:00</td>\n      <td>False</td>\n    </tr>\n    <tr>\n      <th>4</th>\n      <td>544444763</td>\n      <td>2022-06-17 05:54:00</td>\n      <td>2022-06-17 10:01:00</td>\n      <td>4.116667</td>\n      <td>411857</td>\n      <td>1999-11-08</td>\n      <td>2017-05-31</td>\n      <td>NaT</td>\n      <td>NaT</td>\n      <td>NaN</td>\n      <td>2022-06-17</td>\n      <td>2022-06-17</td>\n      <td>05:54:00</td>\n      <td>10:01:00</td>\n      <td>False</td>\n    </tr>\n    <tr>\n      <th>...</th>\n      <td>...</td>\n      <td>...</td>\n      <td>...</td>\n      <td>...</td>\n      <td>...</td>\n      <td>...</td>\n      <td>...</td>\n      <td>...</td>\n      <td>...</td>\n      <td>...</td>\n      <td>...</td>\n      <td>...</td>\n      <td>...</td>\n      <td>...</td>\n      <td>...</td>\n    </tr>\n    <tr>\n      <th>66417</th>\n      <td>544684017</td>\n      <td>2022-12-26 16:00:00</td>\n      <td>2022-12-27 02:00:00</td>\n      <td>10.000000</td>\n      <td>519856</td>\n      <td>2022-12-26</td>\n      <td>2022-12-26</td>\n      <td>NaT</td>\n      <td>NaT</td>\n      <td>NaN</td>\n      <td>2022-12-26</td>\n      <td>2022-12-27</td>\n      <td>16:00:00</td>\n      <td>02:00:00</td>\n      <td>False</td>\n    </tr>\n    <tr>\n      <th>66418</th>\n      <td>544684036</td>\n      <td>2022-12-28 09:25:00</td>\n      <td>2022-12-28 18:01:00</td>\n      <td>8.600000</td>\n      <td>534056</td>\n      <td>2022-12-25</td>\n      <td>2022-12-25</td>\n      <td>NaT</td>\n      <td>NaT</td>\n      <td>NaN</td>\n      <td>2022-12-28</td>\n      <td>2022-12-28</td>\n      <td>09:25:00</td>\n      <td>18:01:00</td>\n      <td>False</td>\n    </tr>\n    <tr>\n      <th>66419</th>\n      <td>544684066</td>\n      <td>2022-12-28 15:00:00</td>\n      <td>2022-12-28 19:00:00</td>\n      <td>4.000000</td>\n      <td>523356</td>\n      <td>2022-12-28</td>\n      <td>2022-12-28</td>\n      <td>NaT</td>\n      <td>NaT</td>\n      <td>NaN</td>\n      <td>2022-12-28</td>\n      <td>2022-12-28</td>\n      <td>15:00:00</td>\n      <td>19:00:00</td>\n      <td>False</td>\n    </tr>\n    <tr>\n      <th>66420</th>\n      <td>544684068</td>\n      <td>2022-12-31 13:57:00</td>\n      <td>2022-12-31 19:28:00</td>\n      <td>5.516667</td>\n      <td>483956</td>\n      <td>2022-12-28</td>\n      <td>2022-12-28</td>\n      <td>NaT</td>\n      <td>NaT</td>\n      <td>NaN</td>\n      <td>2022-12-31</td>\n      <td>2022-12-31</td>\n      <td>13:57:00</td>\n      <td>19:28:00</td>\n      <td>False</td>\n    </tr>\n    <tr>\n      <th>66421</th>\n      <td>544684122</td>\n      <td>2022-12-28 12:06:00</td>\n      <td>2022-12-28 19:47:00</td>\n      <td>7.683333</td>\n      <td>534056</td>\n      <td>2022-12-27</td>\n      <td>2022-12-27</td>\n      <td>NaT</td>\n      <td>NaT</td>\n      <td>NaN</td>\n      <td>2022-12-28</td>\n      <td>2022-12-28</td>\n      <td>12:06:00</td>\n      <td>19:47:00</td>\n      <td>False</td>\n    </tr>\n  </tbody>\n</table>\n<p>66422 rows × 15 columns</p>\n</div>"
     },
     "execution_count": 133,
     "metadata": {},
     "output_type": "execute_result"
    }
   ],
   "source": [
    "errors_shifts_hr_non_dup"
   ],
   "metadata": {
    "collapsed": false,
    "ExecuteTime": {
     "end_time": "2024-04-17T21:43:16.172930340Z",
     "start_time": "2024-04-17T21:43:15.575828972Z"
    }
   },
   "execution_count": 133
  },
  {
   "cell_type": "markdown",
   "source": [
    "## 3. Create Feature Columns"
   ],
   "metadata": {
    "collapsed": false
   }
  },
  {
   "cell_type": "markdown",
   "source": [],
   "metadata": {
    "collapsed": false
   }
  },
  {
   "cell_type": "code",
   "outputs": [],
   "source": [
    "df = errors_shifts_hr_non_dup.copy(deep=True)\n",
    "\n",
    "df['StartTime'] = pd.to_datetime(df['START_TIME'])\n",
    "\n",
    "# Create MultiIndex\n",
    "df.set_index(['EMPLOYEE_ID', 'RESTAURANT_ID', 'StartTime'], inplace=True)\n",
    "\n",
    "# Extract hour from 'StartTime'\n",
    "df['Shift Hour Start'] = df.index.get_level_values('StartTime').hour\n",
    "\n",
    "# Calculate TotalWorkHoursToDate for each EmployeeID\n",
    "df['TotalWorkHoursToDate'] = df.groupby(level='EMPLOYEE_ID')['DURATION'].cumsum()\n",
    "\n",
    "# Calculate RestaurantWorkHoursToDate for each EmployeeID within the same RestaurantID\n",
    "df['RestaurantWorkHoursToDate'] = df.groupby(['EMPLOYEE_ID', 'RESTAURANT_ID'])['DURATION'].cumsum()\n",
    " \n",
    "# Calculate rolling sums for the specified days\n",
    "df['TotalWorkHoursInPrevious7Days'] = df.groupby(['EMPLOYEE_ID','RESTAURANT_ID']).rolling(f'7D', on='START_TIME')['DURATION'].sum()\n",
    "df['TotalWorkHoursInPrevious3Days'] = df.groupby(['EMPLOYEE_ID','RESTAURANT_ID']).rolling(f'3D', on='START_TIME')['DURATION'].sum()\n",
    "\n",
    "# Sort by 'StartTime' within each group\n",
    "df.sort_index(level=['EMPLOYEE_ID', 'RESTAURANT_ID', 'StartTime'], inplace=True)\n",
    "\n",
    "# Calculate cumulative errors\n",
    "df['EmployeeErrorsToDate'] = df.groupby(level='EMPLOYEE_ID')['IS_IN_SHIFT'].cumsum()\n",
    "df['RestaurantTotalErrorsToDate'] = df.groupby(['EMPLOYEE_ID', 'RESTAURANT_ID'])['IS_IN_SHIFT'].cumsum()\n",
    "\n",
    "# Generate lagged features for cumulative errors with lag of 1\n",
    "# For rows without a previous value, fill with 0\n",
    "df['EmployeeErrorsToDateLag1'] = df.groupby(level='EMPLOYEE_ID')['EmployeeErrorsToDate'].shift(1).fillna(0)\n",
    "df['RestaurantTotalErrorsToDateLag1'] = df.groupby(['EMPLOYEE_ID', 'RESTAURANT_ID'])['RestaurantTotalErrorsToDate'].shift(1).fillna(0)\n",
    "\n",
    "\n",
    "model_df = df.loc[:,['DURATION','Shift Hour Start', 'TotalWorkHoursToDate', 'RestaurantWorkHoursToDate', 'TotalWorkHoursInPrevious7Days', 'TotalWorkHoursInPrevious3Days','EmployeeErrorsToDateLag1', 'RestaurantTotalErrorsToDateLag1', 'IS_IN_SHIFT']]\n",
    "\n",
    "# 'TotalWorkHoursInPrevious7Days', 'TotalWorkHoursInPrevious3Days',"
   ],
   "metadata": {
    "collapsed": false,
    "ExecuteTime": {
     "end_time": "2024-04-17T21:43:17.487610179Z",
     "start_time": "2024-04-17T21:43:15.618079658Z"
    }
   },
   "execution_count": 134
  },
  {
   "cell_type": "code",
   "outputs": [
    {
     "data": {
      "text/plain": "                                                DURATION  Shift Hour Start  \\\nEMPLOYEE_ID RESTAURANT_ID StartTime                                          \n544444763   411857        2022-01-14 00:00:00  10.000000                 0   \n                          2022-01-18 05:54:00   8.100000                 5   \n                          2022-01-28 05:54:00  12.100000                 5   \n                          2022-01-29 05:53:00  11.116667                 5   \n                          2022-06-17 05:54:00   4.116667                 5   \n...                                                  ...               ...   \n544684017   519856        2022-12-26 16:00:00  10.000000                16   \n544684036   534056        2022-12-28 09:25:00   8.600000                 9   \n544684066   523356        2022-12-28 15:00:00   4.000000                15   \n544684068   483956        2022-12-31 13:57:00   5.516667                13   \n544684122   534056        2022-12-28 12:06:00   7.683333                12   \n\n                                               TotalWorkHoursToDate  \\\nEMPLOYEE_ID RESTAURANT_ID StartTime                                   \n544444763   411857        2022-01-14 00:00:00             10.000000   \n                          2022-01-18 05:54:00             18.100000   \n                          2022-01-28 05:54:00             30.200000   \n                          2022-01-29 05:53:00             41.316667   \n                          2022-06-17 05:54:00             45.433333   \n...                                                             ...   \n544684017   519856        2022-12-26 16:00:00             10.000000   \n544684036   534056        2022-12-28 09:25:00              8.600000   \n544684066   523356        2022-12-28 15:00:00              4.000000   \n544684068   483956        2022-12-31 13:57:00              5.516667   \n544684122   534056        2022-12-28 12:06:00              7.683333   \n\n                                               RestaurantWorkHoursToDate  \\\nEMPLOYEE_ID RESTAURANT_ID StartTime                                        \n544444763   411857        2022-01-14 00:00:00                  10.000000   \n                          2022-01-18 05:54:00                  18.100000   \n                          2022-01-28 05:54:00                  30.200000   \n                          2022-01-29 05:53:00                  41.316667   \n                          2022-06-17 05:54:00                  45.433333   \n...                                                                  ...   \n544684017   519856        2022-12-26 16:00:00                  10.000000   \n544684036   534056        2022-12-28 09:25:00                   8.600000   \n544684066   523356        2022-12-28 15:00:00                   4.000000   \n544684068   483956        2022-12-31 13:57:00                   5.516667   \n544684122   534056        2022-12-28 12:06:00                   7.683333   \n\n                                               TotalWorkHoursInPrevious7Days  \\\nEMPLOYEE_ID RESTAURANT_ID StartTime                                            \n544444763   411857        2022-01-14 00:00:00                      10.000000   \n                          2022-01-18 05:54:00                      18.100000   \n                          2022-01-28 05:54:00                      12.100000   \n                          2022-01-29 05:53:00                      23.216667   \n                          2022-06-17 05:54:00                       4.116667   \n...                                                                      ...   \n544684017   519856        2022-12-26 16:00:00                      10.000000   \n544684036   534056        2022-12-28 09:25:00                       8.600000   \n544684066   523356        2022-12-28 15:00:00                       4.000000   \n544684068   483956        2022-12-31 13:57:00                       5.516667   \n544684122   534056        2022-12-28 12:06:00                       7.683333   \n\n                                               TotalWorkHoursInPrevious3Days  \\\nEMPLOYEE_ID RESTAURANT_ID StartTime                                            \n544444763   411857        2022-01-14 00:00:00                      10.000000   \n                          2022-01-18 05:54:00                       8.100000   \n                          2022-01-28 05:54:00                      12.100000   \n                          2022-01-29 05:53:00                      23.216667   \n                          2022-06-17 05:54:00                       4.116667   \n...                                                                      ...   \n544684017   519856        2022-12-26 16:00:00                      10.000000   \n544684036   534056        2022-12-28 09:25:00                       8.600000   \n544684066   523356        2022-12-28 15:00:00                       4.000000   \n544684068   483956        2022-12-31 13:57:00                       5.516667   \n544684122   534056        2022-12-28 12:06:00                       7.683333   \n\n                                               EmployeeErrorsToDateLag1  \\\nEMPLOYEE_ID RESTAURANT_ID StartTime                                       \n544444763   411857        2022-01-14 00:00:00                       0.0   \n                          2022-01-18 05:54:00                       0.0   \n                          2022-01-28 05:54:00                       0.0   \n                          2022-01-29 05:53:00                       0.0   \n                          2022-06-17 05:54:00                       0.0   \n...                                                                 ...   \n544684017   519856        2022-12-26 16:00:00                       0.0   \n544684036   534056        2022-12-28 09:25:00                       0.0   \n544684066   523356        2022-12-28 15:00:00                       0.0   \n544684068   483956        2022-12-31 13:57:00                       0.0   \n544684122   534056        2022-12-28 12:06:00                       0.0   \n\n                                               RestaurantTotalErrorsToDateLag1  \\\nEMPLOYEE_ID RESTAURANT_ID StartTime                                              \n544444763   411857        2022-01-14 00:00:00                              0.0   \n                          2022-01-18 05:54:00                              0.0   \n                          2022-01-28 05:54:00                              0.0   \n                          2022-01-29 05:53:00                              0.0   \n                          2022-06-17 05:54:00                              0.0   \n...                                                                        ...   \n544684017   519856        2022-12-26 16:00:00                              0.0   \n544684036   534056        2022-12-28 09:25:00                              0.0   \n544684066   523356        2022-12-28 15:00:00                              0.0   \n544684068   483956        2022-12-31 13:57:00                              0.0   \n544684122   534056        2022-12-28 12:06:00                              0.0   \n\n                                               IS_IN_SHIFT  \nEMPLOYEE_ID RESTAURANT_ID StartTime                         \n544444763   411857        2022-01-14 00:00:00        False  \n                          2022-01-18 05:54:00        False  \n                          2022-01-28 05:54:00        False  \n                          2022-01-29 05:53:00        False  \n                          2022-06-17 05:54:00        False  \n...                                                    ...  \n544684017   519856        2022-12-26 16:00:00        False  \n544684036   534056        2022-12-28 09:25:00        False  \n544684066   523356        2022-12-28 15:00:00        False  \n544684068   483956        2022-12-31 13:57:00        False  \n544684122   534056        2022-12-28 12:06:00        False  \n\n[66422 rows x 9 columns]",
      "text/html": "<div>\n<style scoped>\n    .dataframe tbody tr th:only-of-type {\n        vertical-align: middle;\n    }\n\n    .dataframe tbody tr th {\n        vertical-align: top;\n    }\n\n    .dataframe thead th {\n        text-align: right;\n    }\n</style>\n<table border=\"1\" class=\"dataframe\">\n  <thead>\n    <tr style=\"text-align: right;\">\n      <th></th>\n      <th></th>\n      <th></th>\n      <th>DURATION</th>\n      <th>Shift Hour Start</th>\n      <th>TotalWorkHoursToDate</th>\n      <th>RestaurantWorkHoursToDate</th>\n      <th>TotalWorkHoursInPrevious7Days</th>\n      <th>TotalWorkHoursInPrevious3Days</th>\n      <th>EmployeeErrorsToDateLag1</th>\n      <th>RestaurantTotalErrorsToDateLag1</th>\n      <th>IS_IN_SHIFT</th>\n    </tr>\n    <tr>\n      <th>EMPLOYEE_ID</th>\n      <th>RESTAURANT_ID</th>\n      <th>StartTime</th>\n      <th></th>\n      <th></th>\n      <th></th>\n      <th></th>\n      <th></th>\n      <th></th>\n      <th></th>\n      <th></th>\n      <th></th>\n    </tr>\n  </thead>\n  <tbody>\n    <tr>\n      <th rowspan=\"5\" valign=\"top\">544444763</th>\n      <th rowspan=\"5\" valign=\"top\">411857</th>\n      <th>2022-01-14 00:00:00</th>\n      <td>10.000000</td>\n      <td>0</td>\n      <td>10.000000</td>\n      <td>10.000000</td>\n      <td>10.000000</td>\n      <td>10.000000</td>\n      <td>0.0</td>\n      <td>0.0</td>\n      <td>False</td>\n    </tr>\n    <tr>\n      <th>2022-01-18 05:54:00</th>\n      <td>8.100000</td>\n      <td>5</td>\n      <td>18.100000</td>\n      <td>18.100000</td>\n      <td>18.100000</td>\n      <td>8.100000</td>\n      <td>0.0</td>\n      <td>0.0</td>\n      <td>False</td>\n    </tr>\n    <tr>\n      <th>2022-01-28 05:54:00</th>\n      <td>12.100000</td>\n      <td>5</td>\n      <td>30.200000</td>\n      <td>30.200000</td>\n      <td>12.100000</td>\n      <td>12.100000</td>\n      <td>0.0</td>\n      <td>0.0</td>\n      <td>False</td>\n    </tr>\n    <tr>\n      <th>2022-01-29 05:53:00</th>\n      <td>11.116667</td>\n      <td>5</td>\n      <td>41.316667</td>\n      <td>41.316667</td>\n      <td>23.216667</td>\n      <td>23.216667</td>\n      <td>0.0</td>\n      <td>0.0</td>\n      <td>False</td>\n    </tr>\n    <tr>\n      <th>2022-06-17 05:54:00</th>\n      <td>4.116667</td>\n      <td>5</td>\n      <td>45.433333</td>\n      <td>45.433333</td>\n      <td>4.116667</td>\n      <td>4.116667</td>\n      <td>0.0</td>\n      <td>0.0</td>\n      <td>False</td>\n    </tr>\n    <tr>\n      <th>...</th>\n      <th>...</th>\n      <th>...</th>\n      <td>...</td>\n      <td>...</td>\n      <td>...</td>\n      <td>...</td>\n      <td>...</td>\n      <td>...</td>\n      <td>...</td>\n      <td>...</td>\n      <td>...</td>\n    </tr>\n    <tr>\n      <th>544684017</th>\n      <th>519856</th>\n      <th>2022-12-26 16:00:00</th>\n      <td>10.000000</td>\n      <td>16</td>\n      <td>10.000000</td>\n      <td>10.000000</td>\n      <td>10.000000</td>\n      <td>10.000000</td>\n      <td>0.0</td>\n      <td>0.0</td>\n      <td>False</td>\n    </tr>\n    <tr>\n      <th>544684036</th>\n      <th>534056</th>\n      <th>2022-12-28 09:25:00</th>\n      <td>8.600000</td>\n      <td>9</td>\n      <td>8.600000</td>\n      <td>8.600000</td>\n      <td>8.600000</td>\n      <td>8.600000</td>\n      <td>0.0</td>\n      <td>0.0</td>\n      <td>False</td>\n    </tr>\n    <tr>\n      <th>544684066</th>\n      <th>523356</th>\n      <th>2022-12-28 15:00:00</th>\n      <td>4.000000</td>\n      <td>15</td>\n      <td>4.000000</td>\n      <td>4.000000</td>\n      <td>4.000000</td>\n      <td>4.000000</td>\n      <td>0.0</td>\n      <td>0.0</td>\n      <td>False</td>\n    </tr>\n    <tr>\n      <th>544684068</th>\n      <th>483956</th>\n      <th>2022-12-31 13:57:00</th>\n      <td>5.516667</td>\n      <td>13</td>\n      <td>5.516667</td>\n      <td>5.516667</td>\n      <td>5.516667</td>\n      <td>5.516667</td>\n      <td>0.0</td>\n      <td>0.0</td>\n      <td>False</td>\n    </tr>\n    <tr>\n      <th>544684122</th>\n      <th>534056</th>\n      <th>2022-12-28 12:06:00</th>\n      <td>7.683333</td>\n      <td>12</td>\n      <td>7.683333</td>\n      <td>7.683333</td>\n      <td>7.683333</td>\n      <td>7.683333</td>\n      <td>0.0</td>\n      <td>0.0</td>\n      <td>False</td>\n    </tr>\n  </tbody>\n</table>\n<p>66422 rows × 9 columns</p>\n</div>"
     },
     "execution_count": 135,
     "metadata": {},
     "output_type": "execute_result"
    }
   ],
   "source": [
    "model_df"
   ],
   "metadata": {
    "collapsed": false,
    "ExecuteTime": {
     "end_time": "2024-04-17T21:43:17.661028469Z",
     "start_time": "2024-04-17T21:43:16.852345222Z"
    }
   },
   "execution_count": 135
  },
  {
   "cell_type": "code",
   "outputs": [
    {
     "data": {
      "text/plain": "                                                DURATION  Shift Hour Start  \\\nEMPLOYEE_ID RESTAURANT_ID StartTime                                          \n544465441   422556        2022-12-29 05:43:00   7.533333                 5   \n544477404   241956        2022-03-06 06:55:00   8.583333                 6   \n544477431   241956        2022-06-06 06:52:00   8.650000                 6   \n544478027   241956        2022-01-25 08:00:00   7.983333                 8   \n544479576   247156        2022-09-16 06:24:00   8.633333                 6   \n...                                                  ...               ...   \n544678714   556956        2022-10-13 05:25:00  10.033333                 5   \n544679840   551456        2022-12-27 15:55:00   7.983333                15   \n544680046   556956        2022-11-20 05:59:00   7.600000                 5   \n544680047   521156        2022-12-02 07:00:00   9.516667                 7   \n544680644   519856        2022-11-14 05:26:00  10.066667                 5   \n\n                                               TotalWorkHoursToDate  \\\nEMPLOYEE_ID RESTAURANT_ID StartTime                                   \n544465441   422556        2022-12-29 05:43:00           1581.350000   \n544477404   241956        2022-03-06 06:55:00            381.850000   \n544477431   241956        2022-06-06 06:52:00            865.050000   \n544478027   241956        2022-01-25 08:00:00            120.716667   \n544479576   247156        2022-09-16 06:24:00           1399.200000   \n...                                                             ...   \n544678714   556956        2022-10-13 05:25:00            273.533333   \n544679840   551456        2022-12-27 15:55:00            444.533333   \n544680046   556956        2022-11-20 05:59:00            218.166667   \n544680047   521156        2022-12-02 07:00:00            364.300000   \n544680644   519856        2022-11-14 05:26:00            114.583333   \n\n                                               RestaurantWorkHoursToDate  \\\nEMPLOYEE_ID RESTAURANT_ID StartTime                                        \n544465441   422556        2022-12-29 05:43:00                1581.350000   \n544477404   241956        2022-03-06 06:55:00                 381.850000   \n544477431   241956        2022-06-06 06:52:00                 865.050000   \n544478027   241956        2022-01-25 08:00:00                 120.716667   \n544479576   247156        2022-09-16 06:24:00                1399.200000   \n...                                                                  ...   \n544678714   556956        2022-10-13 05:25:00                 273.533333   \n544679840   551456        2022-12-27 15:55:00                 444.533333   \n544680046   556956        2022-11-20 05:59:00                 218.166667   \n544680047   521156        2022-12-02 07:00:00                 364.300000   \n544680644   519856        2022-11-14 05:26:00                 114.583333   \n\n                                               TotalWorkHoursInPrevious7Days  \\\nEMPLOYEE_ID RESTAURANT_ID StartTime                                            \n544465441   422556        2022-12-29 05:43:00                      16.250000   \n544477404   241956        2022-03-06 06:55:00                      55.383333   \n544477431   241956        2022-06-06 06:52:00                      51.816667   \n544478027   241956        2022-01-25 08:00:00                      41.100000   \n544479576   247156        2022-09-16 06:24:00                      52.033333   \n...                                                                      ...   \n544678714   556956        2022-10-13 05:25:00                      40.116667   \n544679840   551456        2022-12-27 15:55:00                      31.983333   \n544680046   556956        2022-11-20 05:59:00                      50.666667   \n544680047   521156        2022-12-02 07:00:00                      46.900000   \n544680644   519856        2022-11-14 05:26:00                      44.466667   \n\n                                               TotalWorkHoursInPrevious3Days  \\\nEMPLOYEE_ID RESTAURANT_ID StartTime                                            \n544465441   422556        2022-12-29 05:43:00                       7.533333   \n544477404   241956        2022-03-06 06:55:00                      25.700000   \n544477431   241956        2022-06-06 06:52:00                       8.650000   \n544478027   241956        2022-01-25 08:00:00                      16.000000   \n544479576   247156        2022-09-16 06:24:00                      25.883333   \n...                                                                      ...   \n544678714   556956        2022-10-13 05:25:00                      30.100000   \n544679840   551456        2022-12-27 15:55:00                      16.250000   \n544680046   556956        2022-11-20 05:59:00                      17.600000   \n544680047   521156        2022-12-02 07:00:00                      28.416667   \n544680644   519856        2022-11-14 05:26:00                      10.066667   \n\n                                               EmployeeErrorsToDateLag1  \\\nEMPLOYEE_ID RESTAURANT_ID StartTime                                       \n544465441   422556        2022-12-29 05:43:00                       0.0   \n544477404   241956        2022-03-06 06:55:00                       0.0   \n544477431   241956        2022-06-06 06:52:00                       0.0   \n544478027   241956        2022-01-25 08:00:00                       0.0   \n544479576   247156        2022-09-16 06:24:00                       0.0   \n...                                                                 ...   \n544678714   556956        2022-10-13 05:25:00                       0.0   \n544679840   551456        2022-12-27 15:55:00                       0.0   \n544680046   556956        2022-11-20 05:59:00                       0.0   \n544680047   521156        2022-12-02 07:00:00                       0.0   \n544680644   519856        2022-11-14 05:26:00                       0.0   \n\n                                               RestaurantTotalErrorsToDateLag1  \\\nEMPLOYEE_ID RESTAURANT_ID StartTime                                              \n544465441   422556        2022-12-29 05:43:00                              0.0   \n544477404   241956        2022-03-06 06:55:00                              0.0   \n544477431   241956        2022-06-06 06:52:00                              0.0   \n544478027   241956        2022-01-25 08:00:00                              0.0   \n544479576   247156        2022-09-16 06:24:00                              0.0   \n...                                                                        ...   \n544678714   556956        2022-10-13 05:25:00                              0.0   \n544679840   551456        2022-12-27 15:55:00                              0.0   \n544680046   556956        2022-11-20 05:59:00                              0.0   \n544680047   521156        2022-12-02 07:00:00                              0.0   \n544680644   519856        2022-11-14 05:26:00                              0.0   \n\n                                               IS_IN_SHIFT  \nEMPLOYEE_ID RESTAURANT_ID StartTime                         \n544465441   422556        2022-12-29 05:43:00         True  \n544477404   241956        2022-03-06 06:55:00         True  \n544477431   241956        2022-06-06 06:52:00         True  \n544478027   241956        2022-01-25 08:00:00         True  \n544479576   247156        2022-09-16 06:24:00         True  \n...                                                    ...  \n544678714   556956        2022-10-13 05:25:00         True  \n544679840   551456        2022-12-27 15:55:00         True  \n544680046   556956        2022-11-20 05:59:00         True  \n544680047   521156        2022-12-02 07:00:00         True  \n544680644   519856        2022-11-14 05:26:00         True  \n\n[90 rows x 9 columns]",
      "text/html": "<div>\n<style scoped>\n    .dataframe tbody tr th:only-of-type {\n        vertical-align: middle;\n    }\n\n    .dataframe tbody tr th {\n        vertical-align: top;\n    }\n\n    .dataframe thead th {\n        text-align: right;\n    }\n</style>\n<table border=\"1\" class=\"dataframe\">\n  <thead>\n    <tr style=\"text-align: right;\">\n      <th></th>\n      <th></th>\n      <th></th>\n      <th>DURATION</th>\n      <th>Shift Hour Start</th>\n      <th>TotalWorkHoursToDate</th>\n      <th>RestaurantWorkHoursToDate</th>\n      <th>TotalWorkHoursInPrevious7Days</th>\n      <th>TotalWorkHoursInPrevious3Days</th>\n      <th>EmployeeErrorsToDateLag1</th>\n      <th>RestaurantTotalErrorsToDateLag1</th>\n      <th>IS_IN_SHIFT</th>\n    </tr>\n    <tr>\n      <th>EMPLOYEE_ID</th>\n      <th>RESTAURANT_ID</th>\n      <th>StartTime</th>\n      <th></th>\n      <th></th>\n      <th></th>\n      <th></th>\n      <th></th>\n      <th></th>\n      <th></th>\n      <th></th>\n      <th></th>\n    </tr>\n  </thead>\n  <tbody>\n    <tr>\n      <th>544465441</th>\n      <th>422556</th>\n      <th>2022-12-29 05:43:00</th>\n      <td>7.533333</td>\n      <td>5</td>\n      <td>1581.350000</td>\n      <td>1581.350000</td>\n      <td>16.250000</td>\n      <td>7.533333</td>\n      <td>0.0</td>\n      <td>0.0</td>\n      <td>True</td>\n    </tr>\n    <tr>\n      <th>544477404</th>\n      <th>241956</th>\n      <th>2022-03-06 06:55:00</th>\n      <td>8.583333</td>\n      <td>6</td>\n      <td>381.850000</td>\n      <td>381.850000</td>\n      <td>55.383333</td>\n      <td>25.700000</td>\n      <td>0.0</td>\n      <td>0.0</td>\n      <td>True</td>\n    </tr>\n    <tr>\n      <th>544477431</th>\n      <th>241956</th>\n      <th>2022-06-06 06:52:00</th>\n      <td>8.650000</td>\n      <td>6</td>\n      <td>865.050000</td>\n      <td>865.050000</td>\n      <td>51.816667</td>\n      <td>8.650000</td>\n      <td>0.0</td>\n      <td>0.0</td>\n      <td>True</td>\n    </tr>\n    <tr>\n      <th>544478027</th>\n      <th>241956</th>\n      <th>2022-01-25 08:00:00</th>\n      <td>7.983333</td>\n      <td>8</td>\n      <td>120.716667</td>\n      <td>120.716667</td>\n      <td>41.100000</td>\n      <td>16.000000</td>\n      <td>0.0</td>\n      <td>0.0</td>\n      <td>True</td>\n    </tr>\n    <tr>\n      <th>544479576</th>\n      <th>247156</th>\n      <th>2022-09-16 06:24:00</th>\n      <td>8.633333</td>\n      <td>6</td>\n      <td>1399.200000</td>\n      <td>1399.200000</td>\n      <td>52.033333</td>\n      <td>25.883333</td>\n      <td>0.0</td>\n      <td>0.0</td>\n      <td>True</td>\n    </tr>\n    <tr>\n      <th>...</th>\n      <th>...</th>\n      <th>...</th>\n      <td>...</td>\n      <td>...</td>\n      <td>...</td>\n      <td>...</td>\n      <td>...</td>\n      <td>...</td>\n      <td>...</td>\n      <td>...</td>\n      <td>...</td>\n    </tr>\n    <tr>\n      <th>544678714</th>\n      <th>556956</th>\n      <th>2022-10-13 05:25:00</th>\n      <td>10.033333</td>\n      <td>5</td>\n      <td>273.533333</td>\n      <td>273.533333</td>\n      <td>40.116667</td>\n      <td>30.100000</td>\n      <td>0.0</td>\n      <td>0.0</td>\n      <td>True</td>\n    </tr>\n    <tr>\n      <th>544679840</th>\n      <th>551456</th>\n      <th>2022-12-27 15:55:00</th>\n      <td>7.983333</td>\n      <td>15</td>\n      <td>444.533333</td>\n      <td>444.533333</td>\n      <td>31.983333</td>\n      <td>16.250000</td>\n      <td>0.0</td>\n      <td>0.0</td>\n      <td>True</td>\n    </tr>\n    <tr>\n      <th>544680046</th>\n      <th>556956</th>\n      <th>2022-11-20 05:59:00</th>\n      <td>7.600000</td>\n      <td>5</td>\n      <td>218.166667</td>\n      <td>218.166667</td>\n      <td>50.666667</td>\n      <td>17.600000</td>\n      <td>0.0</td>\n      <td>0.0</td>\n      <td>True</td>\n    </tr>\n    <tr>\n      <th>544680047</th>\n      <th>521156</th>\n      <th>2022-12-02 07:00:00</th>\n      <td>9.516667</td>\n      <td>7</td>\n      <td>364.300000</td>\n      <td>364.300000</td>\n      <td>46.900000</td>\n      <td>28.416667</td>\n      <td>0.0</td>\n      <td>0.0</td>\n      <td>True</td>\n    </tr>\n    <tr>\n      <th>544680644</th>\n      <th>519856</th>\n      <th>2022-11-14 05:26:00</th>\n      <td>10.066667</td>\n      <td>5</td>\n      <td>114.583333</td>\n      <td>114.583333</td>\n      <td>44.466667</td>\n      <td>10.066667</td>\n      <td>0.0</td>\n      <td>0.0</td>\n      <td>True</td>\n    </tr>\n  </tbody>\n</table>\n<p>90 rows × 9 columns</p>\n</div>"
     },
     "execution_count": 136,
     "metadata": {},
     "output_type": "execute_result"
    }
   ],
   "source": [
    "model_df[model_df['IS_IN_SHIFT'] == True]"
   ],
   "metadata": {
    "collapsed": false,
    "ExecuteTime": {
     "end_time": "2024-04-17T21:43:17.803734457Z",
     "start_time": "2024-04-17T21:43:16.882225691Z"
    }
   },
   "execution_count": 136
  },
  {
   "cell_type": "markdown",
   "source": [
    "# 4. Modeling"
   ],
   "metadata": {
    "collapsed": false
   }
  },
  {
   "cell_type": "markdown",
   "source": [
    "## Hypothesis Testing (& Subsetting)"
   ],
   "metadata": {
    "collapsed": false
   }
  },
  {
   "cell_type": "code",
   "outputs": [],
   "source": [
    "import numpy as np"
   ],
   "metadata": {
    "collapsed": false,
    "ExecuteTime": {
     "end_time": "2024-04-17T21:43:17.853742605Z",
     "start_time": "2024-04-17T21:43:16.925794587Z"
    }
   },
   "execution_count": 137
  },
  {
   "cell_type": "code",
   "outputs": [],
   "source": [
    "model_df['Class'] = np.where(model_df['IS_IN_SHIFT'], 'Preventable Error', 'No Preventable Error')"
   ],
   "metadata": {
    "collapsed": false,
    "ExecuteTime": {
     "end_time": "2024-04-17T21:43:17.903388213Z",
     "start_time": "2024-04-17T21:43:16.933546539Z"
    }
   },
   "execution_count": 138
  },
  {
   "cell_type": "code",
   "outputs": [
    {
     "data": {
      "text/plain": "                                                DURATION  Shift Hour Start  \\\nEMPLOYEE_ID RESTAURANT_ID StartTime                                          \n544444763   411857        2022-01-14 00:00:00  10.000000                 0   \n                          2022-01-18 05:54:00   8.100000                 5   \n                          2022-01-28 05:54:00  12.100000                 5   \n                          2022-01-29 05:53:00  11.116667                 5   \n                          2022-06-17 05:54:00   4.116667                 5   \n...                                                  ...               ...   \n544446245   313458        2022-02-24 06:00:00  11.000000                 6   \n                          2022-02-25 06:00:00  11.000000                 6   \n                          2022-02-26 06:00:00   8.000000                 6   \n                          2022-03-02 06:55:00   8.050000                 6   \n                          2022-03-03 06:57:00   8.016667                 6   \n\n                                               TotalWorkHoursToDate  \\\nEMPLOYEE_ID RESTAURANT_ID StartTime                                   \n544444763   411857        2022-01-14 00:00:00             10.000000   \n                          2022-01-18 05:54:00             18.100000   \n                          2022-01-28 05:54:00             30.200000   \n                          2022-01-29 05:53:00             41.316667   \n                          2022-06-17 05:54:00             45.433333   \n...                                                             ...   \n544446245   313458        2022-02-24 06:00:00            455.250000   \n                          2022-02-25 06:00:00            466.250000   \n                          2022-02-26 06:00:00            474.250000   \n                          2022-03-02 06:55:00            482.300000   \n                          2022-03-03 06:57:00            490.316667   \n\n                                               RestaurantWorkHoursToDate  \\\nEMPLOYEE_ID RESTAURANT_ID StartTime                                        \n544444763   411857        2022-01-14 00:00:00                  10.000000   \n                          2022-01-18 05:54:00                  18.100000   \n                          2022-01-28 05:54:00                  30.200000   \n                          2022-01-29 05:53:00                  41.316667   \n                          2022-06-17 05:54:00                  45.433333   \n...                                                                  ...   \n544446245   313458        2022-02-24 06:00:00                 455.250000   \n                          2022-02-25 06:00:00                 466.250000   \n                          2022-02-26 06:00:00                 474.250000   \n                          2022-03-02 06:55:00                 482.300000   \n                          2022-03-03 06:57:00                 490.316667   \n\n                                               TotalWorkHoursInPrevious7Days  \\\nEMPLOYEE_ID RESTAURANT_ID StartTime                                            \n544444763   411857        2022-01-14 00:00:00                      10.000000   \n                          2022-01-18 05:54:00                      18.100000   \n                          2022-01-28 05:54:00                      12.100000   \n                          2022-01-29 05:53:00                      23.216667   \n                          2022-06-17 05:54:00                       4.116667   \n...                                                                      ...   \n544446245   313458        2022-02-24 06:00:00                      55.000000   \n                          2022-02-25 06:00:00                      55.000000   \n                          2022-02-26 06:00:00                      57.000000   \n                          2022-03-02 06:55:00                      38.050000   \n                          2022-03-03 06:57:00                      35.066667   \n\n                                               TotalWorkHoursInPrevious3Days  \\\nEMPLOYEE_ID RESTAURANT_ID StartTime                                            \n544444763   411857        2022-01-14 00:00:00                      10.000000   \n                          2022-01-18 05:54:00                       8.100000   \n                          2022-01-28 05:54:00                      12.100000   \n                          2022-01-29 05:53:00                      23.216667   \n                          2022-06-17 05:54:00                       4.116667   \n...                                                                      ...   \n544446245   313458        2022-02-24 06:00:00                      27.000000   \n                          2022-02-25 06:00:00                      33.000000   \n                          2022-02-26 06:00:00                      30.000000   \n                          2022-03-02 06:55:00                       8.050000   \n                          2022-03-03 06:57:00                      16.066667   \n\n                                               EmployeeErrorsToDateLag1  \\\nEMPLOYEE_ID RESTAURANT_ID StartTime                                       \n544444763   411857        2022-01-14 00:00:00                       0.0   \n                          2022-01-18 05:54:00                       0.0   \n                          2022-01-28 05:54:00                       0.0   \n                          2022-01-29 05:53:00                       0.0   \n                          2022-06-17 05:54:00                       0.0   \n...                                                                 ...   \n544446245   313458        2022-02-24 06:00:00                       0.0   \n                          2022-02-25 06:00:00                       0.0   \n                          2022-02-26 06:00:00                       0.0   \n                          2022-03-02 06:55:00                       0.0   \n                          2022-03-03 06:57:00                       0.0   \n\n                                               RestaurantTotalErrorsToDateLag1  \\\nEMPLOYEE_ID RESTAURANT_ID StartTime                                              \n544444763   411857        2022-01-14 00:00:00                              0.0   \n                          2022-01-18 05:54:00                              0.0   \n                          2022-01-28 05:54:00                              0.0   \n                          2022-01-29 05:53:00                              0.0   \n                          2022-06-17 05:54:00                              0.0   \n...                                                                        ...   \n544446245   313458        2022-02-24 06:00:00                              0.0   \n                          2022-02-25 06:00:00                              0.0   \n                          2022-02-26 06:00:00                              0.0   \n                          2022-03-02 06:55:00                              0.0   \n                          2022-03-03 06:57:00                              0.0   \n\n                                               IS_IN_SHIFT  \\\nEMPLOYEE_ID RESTAURANT_ID StartTime                          \n544444763   411857        2022-01-14 00:00:00        False   \n                          2022-01-18 05:54:00        False   \n                          2022-01-28 05:54:00        False   \n                          2022-01-29 05:53:00        False   \n                          2022-06-17 05:54:00        False   \n...                                                    ...   \n544446245   313458        2022-02-24 06:00:00        False   \n                          2022-02-25 06:00:00        False   \n                          2022-02-26 06:00:00        False   \n                          2022-03-02 06:55:00        False   \n                          2022-03-03 06:57:00        False   \n\n                                                              Class  \nEMPLOYEE_ID RESTAURANT_ID StartTime                                  \n544444763   411857        2022-01-14 00:00:00  No Preventable Error  \n                          2022-01-18 05:54:00  No Preventable Error  \n                          2022-01-28 05:54:00  No Preventable Error  \n                          2022-01-29 05:53:00  No Preventable Error  \n                          2022-06-17 05:54:00  No Preventable Error  \n...                                                             ...  \n544446245   313458        2022-02-24 06:00:00  No Preventable Error  \n                          2022-02-25 06:00:00  No Preventable Error  \n                          2022-02-26 06:00:00  No Preventable Error  \n                          2022-03-02 06:55:00  No Preventable Error  \n                          2022-03-03 06:57:00  No Preventable Error  \n\n[100 rows x 10 columns]",
      "text/html": "<div>\n<style scoped>\n    .dataframe tbody tr th:only-of-type {\n        vertical-align: middle;\n    }\n\n    .dataframe tbody tr th {\n        vertical-align: top;\n    }\n\n    .dataframe thead th {\n        text-align: right;\n    }\n</style>\n<table border=\"1\" class=\"dataframe\">\n  <thead>\n    <tr style=\"text-align: right;\">\n      <th></th>\n      <th></th>\n      <th></th>\n      <th>DURATION</th>\n      <th>Shift Hour Start</th>\n      <th>TotalWorkHoursToDate</th>\n      <th>RestaurantWorkHoursToDate</th>\n      <th>TotalWorkHoursInPrevious7Days</th>\n      <th>TotalWorkHoursInPrevious3Days</th>\n      <th>EmployeeErrorsToDateLag1</th>\n      <th>RestaurantTotalErrorsToDateLag1</th>\n      <th>IS_IN_SHIFT</th>\n      <th>Class</th>\n    </tr>\n    <tr>\n      <th>EMPLOYEE_ID</th>\n      <th>RESTAURANT_ID</th>\n      <th>StartTime</th>\n      <th></th>\n      <th></th>\n      <th></th>\n      <th></th>\n      <th></th>\n      <th></th>\n      <th></th>\n      <th></th>\n      <th></th>\n      <th></th>\n    </tr>\n  </thead>\n  <tbody>\n    <tr>\n      <th rowspan=\"5\" valign=\"top\">544444763</th>\n      <th rowspan=\"5\" valign=\"top\">411857</th>\n      <th>2022-01-14 00:00:00</th>\n      <td>10.000000</td>\n      <td>0</td>\n      <td>10.000000</td>\n      <td>10.000000</td>\n      <td>10.000000</td>\n      <td>10.000000</td>\n      <td>0.0</td>\n      <td>0.0</td>\n      <td>False</td>\n      <td>No Preventable Error</td>\n    </tr>\n    <tr>\n      <th>2022-01-18 05:54:00</th>\n      <td>8.100000</td>\n      <td>5</td>\n      <td>18.100000</td>\n      <td>18.100000</td>\n      <td>18.100000</td>\n      <td>8.100000</td>\n      <td>0.0</td>\n      <td>0.0</td>\n      <td>False</td>\n      <td>No Preventable Error</td>\n    </tr>\n    <tr>\n      <th>2022-01-28 05:54:00</th>\n      <td>12.100000</td>\n      <td>5</td>\n      <td>30.200000</td>\n      <td>30.200000</td>\n      <td>12.100000</td>\n      <td>12.100000</td>\n      <td>0.0</td>\n      <td>0.0</td>\n      <td>False</td>\n      <td>No Preventable Error</td>\n    </tr>\n    <tr>\n      <th>2022-01-29 05:53:00</th>\n      <td>11.116667</td>\n      <td>5</td>\n      <td>41.316667</td>\n      <td>41.316667</td>\n      <td>23.216667</td>\n      <td>23.216667</td>\n      <td>0.0</td>\n      <td>0.0</td>\n      <td>False</td>\n      <td>No Preventable Error</td>\n    </tr>\n    <tr>\n      <th>2022-06-17 05:54:00</th>\n      <td>4.116667</td>\n      <td>5</td>\n      <td>45.433333</td>\n      <td>45.433333</td>\n      <td>4.116667</td>\n      <td>4.116667</td>\n      <td>0.0</td>\n      <td>0.0</td>\n      <td>False</td>\n      <td>No Preventable Error</td>\n    </tr>\n    <tr>\n      <th>...</th>\n      <th>...</th>\n      <th>...</th>\n      <td>...</td>\n      <td>...</td>\n      <td>...</td>\n      <td>...</td>\n      <td>...</td>\n      <td>...</td>\n      <td>...</td>\n      <td>...</td>\n      <td>...</td>\n      <td>...</td>\n    </tr>\n    <tr>\n      <th rowspan=\"5\" valign=\"top\">544446245</th>\n      <th rowspan=\"5\" valign=\"top\">313458</th>\n      <th>2022-02-24 06:00:00</th>\n      <td>11.000000</td>\n      <td>6</td>\n      <td>455.250000</td>\n      <td>455.250000</td>\n      <td>55.000000</td>\n      <td>27.000000</td>\n      <td>0.0</td>\n      <td>0.0</td>\n      <td>False</td>\n      <td>No Preventable Error</td>\n    </tr>\n    <tr>\n      <th>2022-02-25 06:00:00</th>\n      <td>11.000000</td>\n      <td>6</td>\n      <td>466.250000</td>\n      <td>466.250000</td>\n      <td>55.000000</td>\n      <td>33.000000</td>\n      <td>0.0</td>\n      <td>0.0</td>\n      <td>False</td>\n      <td>No Preventable Error</td>\n    </tr>\n    <tr>\n      <th>2022-02-26 06:00:00</th>\n      <td>8.000000</td>\n      <td>6</td>\n      <td>474.250000</td>\n      <td>474.250000</td>\n      <td>57.000000</td>\n      <td>30.000000</td>\n      <td>0.0</td>\n      <td>0.0</td>\n      <td>False</td>\n      <td>No Preventable Error</td>\n    </tr>\n    <tr>\n      <th>2022-03-02 06:55:00</th>\n      <td>8.050000</td>\n      <td>6</td>\n      <td>482.300000</td>\n      <td>482.300000</td>\n      <td>38.050000</td>\n      <td>8.050000</td>\n      <td>0.0</td>\n      <td>0.0</td>\n      <td>False</td>\n      <td>No Preventable Error</td>\n    </tr>\n    <tr>\n      <th>2022-03-03 06:57:00</th>\n      <td>8.016667</td>\n      <td>6</td>\n      <td>490.316667</td>\n      <td>490.316667</td>\n      <td>35.066667</td>\n      <td>16.066667</td>\n      <td>0.0</td>\n      <td>0.0</td>\n      <td>False</td>\n      <td>No Preventable Error</td>\n    </tr>\n  </tbody>\n</table>\n<p>100 rows × 10 columns</p>\n</div>"
     },
     "execution_count": 139,
     "metadata": {},
     "output_type": "execute_result"
    }
   ],
   "source": [
    "model_df.head(100)"
   ],
   "metadata": {
    "collapsed": false,
    "ExecuteTime": {
     "end_time": "2024-04-17T21:43:17.967895952Z",
     "start_time": "2024-04-17T21:43:16.993182679Z"
    }
   },
   "execution_count": 139
  },
  {
   "cell_type": "code",
   "outputs": [
    {
     "data": {
      "text/plain": "     DURATION  Shift Hour Start  TotalWorkHoursToDate  \\\n0   10.000000                 0             10.000000   \n1    8.100000                 5             18.100000   \n2   12.100000                 5             30.200000   \n3   11.116667                 5             41.316667   \n4    4.116667                 5             45.433333   \n..        ...               ...                   ...   \n95  11.000000                 6            455.250000   \n96  11.000000                 6            466.250000   \n97   8.000000                 6            474.250000   \n98   8.050000                 6            482.300000   \n99   8.016667                 6            490.316667   \n\n    RestaurantWorkHoursToDate  TotalWorkHoursInPrevious7Days  \\\n0                   10.000000                      10.000000   \n1                   18.100000                      18.100000   \n2                   30.200000                      12.100000   \n3                   41.316667                      23.216667   \n4                   45.433333                       4.116667   \n..                        ...                            ...   \n95                 455.250000                      55.000000   \n96                 466.250000                      55.000000   \n97                 474.250000                      57.000000   \n98                 482.300000                      38.050000   \n99                 490.316667                      35.066667   \n\n    TotalWorkHoursInPrevious3Days  EmployeeErrorsToDateLag1  \\\n0                       10.000000                       0.0   \n1                        8.100000                       0.0   \n2                       12.100000                       0.0   \n3                       23.216667                       0.0   \n4                        4.116667                       0.0   \n..                            ...                       ...   \n95                      27.000000                       0.0   \n96                      33.000000                       0.0   \n97                      30.000000                       0.0   \n98                       8.050000                       0.0   \n99                      16.066667                       0.0   \n\n    RestaurantTotalErrorsToDateLag1                 Class  \n0                               0.0  No Preventable Error  \n1                               0.0  No Preventable Error  \n2                               0.0  No Preventable Error  \n3                               0.0  No Preventable Error  \n4                               0.0  No Preventable Error  \n..                              ...                   ...  \n95                              0.0  No Preventable Error  \n96                              0.0  No Preventable Error  \n97                              0.0  No Preventable Error  \n98                              0.0  No Preventable Error  \n99                              0.0  No Preventable Error  \n\n[100 rows x 9 columns]",
      "text/html": "<div>\n<style scoped>\n    .dataframe tbody tr th:only-of-type {\n        vertical-align: middle;\n    }\n\n    .dataframe tbody tr th {\n        vertical-align: top;\n    }\n\n    .dataframe thead th {\n        text-align: right;\n    }\n</style>\n<table border=\"1\" class=\"dataframe\">\n  <thead>\n    <tr style=\"text-align: right;\">\n      <th></th>\n      <th>DURATION</th>\n      <th>Shift Hour Start</th>\n      <th>TotalWorkHoursToDate</th>\n      <th>RestaurantWorkHoursToDate</th>\n      <th>TotalWorkHoursInPrevious7Days</th>\n      <th>TotalWorkHoursInPrevious3Days</th>\n      <th>EmployeeErrorsToDateLag1</th>\n      <th>RestaurantTotalErrorsToDateLag1</th>\n      <th>Class</th>\n    </tr>\n  </thead>\n  <tbody>\n    <tr>\n      <th>0</th>\n      <td>10.000000</td>\n      <td>0</td>\n      <td>10.000000</td>\n      <td>10.000000</td>\n      <td>10.000000</td>\n      <td>10.000000</td>\n      <td>0.0</td>\n      <td>0.0</td>\n      <td>No Preventable Error</td>\n    </tr>\n    <tr>\n      <th>1</th>\n      <td>8.100000</td>\n      <td>5</td>\n      <td>18.100000</td>\n      <td>18.100000</td>\n      <td>18.100000</td>\n      <td>8.100000</td>\n      <td>0.0</td>\n      <td>0.0</td>\n      <td>No Preventable Error</td>\n    </tr>\n    <tr>\n      <th>2</th>\n      <td>12.100000</td>\n      <td>5</td>\n      <td>30.200000</td>\n      <td>30.200000</td>\n      <td>12.100000</td>\n      <td>12.100000</td>\n      <td>0.0</td>\n      <td>0.0</td>\n      <td>No Preventable Error</td>\n    </tr>\n    <tr>\n      <th>3</th>\n      <td>11.116667</td>\n      <td>5</td>\n      <td>41.316667</td>\n      <td>41.316667</td>\n      <td>23.216667</td>\n      <td>23.216667</td>\n      <td>0.0</td>\n      <td>0.0</td>\n      <td>No Preventable Error</td>\n    </tr>\n    <tr>\n      <th>4</th>\n      <td>4.116667</td>\n      <td>5</td>\n      <td>45.433333</td>\n      <td>45.433333</td>\n      <td>4.116667</td>\n      <td>4.116667</td>\n      <td>0.0</td>\n      <td>0.0</td>\n      <td>No Preventable Error</td>\n    </tr>\n    <tr>\n      <th>...</th>\n      <td>...</td>\n      <td>...</td>\n      <td>...</td>\n      <td>...</td>\n      <td>...</td>\n      <td>...</td>\n      <td>...</td>\n      <td>...</td>\n      <td>...</td>\n    </tr>\n    <tr>\n      <th>95</th>\n      <td>11.000000</td>\n      <td>6</td>\n      <td>455.250000</td>\n      <td>455.250000</td>\n      <td>55.000000</td>\n      <td>27.000000</td>\n      <td>0.0</td>\n      <td>0.0</td>\n      <td>No Preventable Error</td>\n    </tr>\n    <tr>\n      <th>96</th>\n      <td>11.000000</td>\n      <td>6</td>\n      <td>466.250000</td>\n      <td>466.250000</td>\n      <td>55.000000</td>\n      <td>33.000000</td>\n      <td>0.0</td>\n      <td>0.0</td>\n      <td>No Preventable Error</td>\n    </tr>\n    <tr>\n      <th>97</th>\n      <td>8.000000</td>\n      <td>6</td>\n      <td>474.250000</td>\n      <td>474.250000</td>\n      <td>57.000000</td>\n      <td>30.000000</td>\n      <td>0.0</td>\n      <td>0.0</td>\n      <td>No Preventable Error</td>\n    </tr>\n    <tr>\n      <th>98</th>\n      <td>8.050000</td>\n      <td>6</td>\n      <td>482.300000</td>\n      <td>482.300000</td>\n      <td>38.050000</td>\n      <td>8.050000</td>\n      <td>0.0</td>\n      <td>0.0</td>\n      <td>No Preventable Error</td>\n    </tr>\n    <tr>\n      <th>99</th>\n      <td>8.016667</td>\n      <td>6</td>\n      <td>490.316667</td>\n      <td>490.316667</td>\n      <td>35.066667</td>\n      <td>16.066667</td>\n      <td>0.0</td>\n      <td>0.0</td>\n      <td>No Preventable Error</td>\n    </tr>\n  </tbody>\n</table>\n<p>100 rows × 9 columns</p>\n</div>"
     },
     "execution_count": 140,
     "metadata": {},
     "output_type": "execute_result"
    }
   ],
   "source": [
    "output_df = model_df.reset_index()\n",
    "output_df = output_df.drop(columns=['EMPLOYEE_ID','RESTAURANT_ID','StartTime','IS_IN_SHIFT'])\n",
    "output_df.head(100)"
   ],
   "metadata": {
    "collapsed": false,
    "ExecuteTime": {
     "end_time": "2024-04-17T21:43:18.050953550Z",
     "start_time": "2024-04-17T21:43:17.020964985Z"
    }
   },
   "execution_count": 140
  },
  {
   "cell_type": "code",
   "outputs": [],
   "source": [
    "import statsmodels.api as sm\n",
    "from statsmodels.stats.weightstats import ttest_ind"
   ],
   "metadata": {
    "collapsed": false,
    "ExecuteTime": {
     "end_time": "2024-04-17T21:43:18.120930929Z",
     "start_time": "2024-04-17T21:43:17.066935459Z"
    }
   },
   "execution_count": 141
  },
  {
   "cell_type": "code",
   "outputs": [
    {
     "name": "stdout",
     "output_type": "stream",
     "text": [
      "Results for DURATION:\n",
      "  t-statistic: -1.5894372624444586, p-value: 0.11196646709284697\n",
      "  Do not reject the null hypothesis: there is no significant difference between the groups.\n",
      "\n",
      "\n",
      "Results for Shift Hour Start:\n",
      "  t-statistic: -4.114964228838617, p-value: 3.877059601621461e-05\n",
      "  Reject the null hypothesis: there is a significant difference between the groups.\n",
      "\n",
      "\n",
      "Results for TotalWorkHoursToDate:\n",
      "  t-statistic: 6.086727131551202, p-value: 1.1587076272417464e-09\n",
      "  Reject the null hypothesis: there is a significant difference between the groups.\n",
      "\n",
      "\n",
      "Results for RestaurantWorkHoursToDate:\n",
      "  t-statistic: 6.086727131551202, p-value: 1.1587076272417464e-09\n",
      "  Reject the null hypothesis: there is a significant difference between the groups.\n",
      "\n",
      "\n",
      "Results for TotalWorkHoursInPrevious7Days:\n",
      "  t-statistic: 11.649240388393197, p-value: 2.483590411438412e-31\n",
      "  Reject the null hypothesis: there is a significant difference between the groups.\n",
      "\n",
      "\n",
      "Results for TotalWorkHoursInPrevious3Days:\n",
      "  t-statistic: 8.483967426927492, p-value: 2.220447565709251e-17\n",
      "  Reject the null hypothesis: there is a significant difference between the groups.\n",
      "\n",
      "\n",
      "Results for EmployeeErrorsToDateLag1:\n",
      "  t-statistic: -0.4648453238334701, p-value: 0.6420437514873356\n",
      "  Do not reject the null hypothesis: there is no significant difference between the groups.\n",
      "\n",
      "\n",
      "Results for RestaurantTotalErrorsToDateLag1:\n",
      "  t-statistic: -0.4648453238334701, p-value: 0.6420437514873356\n",
      "  Do not reject the null hypothesis: there is no significant difference between the groups.\n"
     ]
    }
   ],
   "source": [
    "# Identify numeric columns (excluding the 'Class' column if it's not numeric)\n",
    "numeric_columns = output_df.select_dtypes(include=[np.number]).columns\n",
    "\n",
    "# Set the significance level\n",
    "alpha = 0.05\n",
    "\n",
    "# Loop through each numeric column and perform t-tests\n",
    "for column in numeric_columns:\n",
    "    # Split the data into two groups based on the 'Class' column\n",
    "    group1 = output_df[output_df['Class'] == 'Preventable Error'][column].dropna()\n",
    "    group2 = output_df[output_df['Class'] == 'No Preventable Error'][column].dropna()\n",
    "\n",
    "    # Perform t-test\n",
    "    t_stat, p_value, _ = ttest_ind(group1, group2)\n",
    "\n",
    "    # Print the results\n",
    "    print(f\"Results for {column}:\")\n",
    "    print(f\"  t-statistic: {t_stat}, p-value: {p_value}\")\n",
    "    \n",
    "    # Interpretation of the hypothesis test\n",
    "    if p_value < alpha:\n",
    "        print(\"  Reject the null hypothesis: there is a significant difference between the groups.\")\n",
    "    else:\n",
    "        print(\"  Do not reject the null hypothesis: there is no significant difference between the groups.\")\n",
    "    print(\"\\n\")  # New line for better separation between results"
   ],
   "metadata": {
    "collapsed": false,
    "ExecuteTime": {
     "end_time": "2024-04-17T21:43:18.221189098Z",
     "start_time": "2024-04-17T21:43:17.075608817Z"
    }
   },
   "execution_count": 142
  },
  {
   "cell_type": "code",
   "outputs": [
    {
     "data": {
      "text/plain": "        DURATION  Shift Hour Start  TotalWorkHoursToDate  \\\n14     11.000000                 6             22.000000   \n17      8.066667                 6             50.066667   \n18      6.016667                 6             56.083333   \n20      8.033333                 6             72.166667   \n21      8.000000                 6             80.166667   \n...          ...               ...                   ...   \n66172   8.550000                15            304.950000   \n66175   5.916667                15            328.016667   \n66295  11.533333                 4             31.350000   \n66317  11.700000                 4             33.983333   \n66364  12.750000                 4             32.066667   \n\n       RestaurantWorkHoursToDate  TotalWorkHoursInPrevious7Days  \\\n14                     22.000000                      11.000000   \n17                     50.066667                       8.066667   \n18                     56.083333                       6.016667   \n20                     72.166667                       8.033333   \n21                     80.166667                       8.000000   \n...                          ...                            ...   \n66172                 304.950000                      42.783333   \n66175                 328.016667                      23.066667   \n66295                  31.350000                      21.266667   \n66317                  33.983333                      22.916667   \n66364                  32.066667                      21.450000   \n\n       TotalWorkHoursInPrevious3Days  EmployeeErrorsToDateLag1  \\\n14                         11.000000                       0.0   \n17                          8.066667                       0.0   \n18                          6.016667                       0.0   \n20                          8.033333                       0.0   \n21                          8.000000                       0.0   \n...                              ...                       ...   \n66172                      25.616667                       0.0   \n66175                      23.066667                       0.0   \n66295                      21.266667                       0.0   \n66317                      22.916667                       0.0   \n66364                      21.450000                       0.0   \n\n       RestaurantTotalErrorsToDateLag1                 Class  \n14                                 0.0  No Preventable Error  \n17                                 0.0  No Preventable Error  \n18                                 0.0  No Preventable Error  \n20                                 0.0  No Preventable Error  \n21                                 0.0  No Preventable Error  \n...                                ...                   ...  \n66172                              0.0  No Preventable Error  \n66175                              0.0  No Preventable Error  \n66295                              0.0  No Preventable Error  \n66317                              0.0  No Preventable Error  \n66364                              0.0  No Preventable Error  \n\n[21604 rows x 9 columns]",
      "text/html": "<div>\n<style scoped>\n    .dataframe tbody tr th:only-of-type {\n        vertical-align: middle;\n    }\n\n    .dataframe tbody tr th {\n        vertical-align: top;\n    }\n\n    .dataframe thead th {\n        text-align: right;\n    }\n</style>\n<table border=\"1\" class=\"dataframe\">\n  <thead>\n    <tr style=\"text-align: right;\">\n      <th></th>\n      <th>DURATION</th>\n      <th>Shift Hour Start</th>\n      <th>TotalWorkHoursToDate</th>\n      <th>RestaurantWorkHoursToDate</th>\n      <th>TotalWorkHoursInPrevious7Days</th>\n      <th>TotalWorkHoursInPrevious3Days</th>\n      <th>EmployeeErrorsToDateLag1</th>\n      <th>RestaurantTotalErrorsToDateLag1</th>\n      <th>Class</th>\n    </tr>\n  </thead>\n  <tbody>\n    <tr>\n      <th>14</th>\n      <td>11.000000</td>\n      <td>6</td>\n      <td>22.000000</td>\n      <td>22.000000</td>\n      <td>11.000000</td>\n      <td>11.000000</td>\n      <td>0.0</td>\n      <td>0.0</td>\n      <td>No Preventable Error</td>\n    </tr>\n    <tr>\n      <th>17</th>\n      <td>8.066667</td>\n      <td>6</td>\n      <td>50.066667</td>\n      <td>50.066667</td>\n      <td>8.066667</td>\n      <td>8.066667</td>\n      <td>0.0</td>\n      <td>0.0</td>\n      <td>No Preventable Error</td>\n    </tr>\n    <tr>\n      <th>18</th>\n      <td>6.016667</td>\n      <td>6</td>\n      <td>56.083333</td>\n      <td>56.083333</td>\n      <td>6.016667</td>\n      <td>6.016667</td>\n      <td>0.0</td>\n      <td>0.0</td>\n      <td>No Preventable Error</td>\n    </tr>\n    <tr>\n      <th>20</th>\n      <td>8.033333</td>\n      <td>6</td>\n      <td>72.166667</td>\n      <td>72.166667</td>\n      <td>8.033333</td>\n      <td>8.033333</td>\n      <td>0.0</td>\n      <td>0.0</td>\n      <td>No Preventable Error</td>\n    </tr>\n    <tr>\n      <th>21</th>\n      <td>8.000000</td>\n      <td>6</td>\n      <td>80.166667</td>\n      <td>80.166667</td>\n      <td>8.000000</td>\n      <td>8.000000</td>\n      <td>0.0</td>\n      <td>0.0</td>\n      <td>No Preventable Error</td>\n    </tr>\n    <tr>\n      <th>...</th>\n      <td>...</td>\n      <td>...</td>\n      <td>...</td>\n      <td>...</td>\n      <td>...</td>\n      <td>...</td>\n      <td>...</td>\n      <td>...</td>\n      <td>...</td>\n    </tr>\n    <tr>\n      <th>66172</th>\n      <td>8.550000</td>\n      <td>15</td>\n      <td>304.950000</td>\n      <td>304.950000</td>\n      <td>42.783333</td>\n      <td>25.616667</td>\n      <td>0.0</td>\n      <td>0.0</td>\n      <td>No Preventable Error</td>\n    </tr>\n    <tr>\n      <th>66175</th>\n      <td>5.916667</td>\n      <td>15</td>\n      <td>328.016667</td>\n      <td>328.016667</td>\n      <td>23.066667</td>\n      <td>23.066667</td>\n      <td>0.0</td>\n      <td>0.0</td>\n      <td>No Preventable Error</td>\n    </tr>\n    <tr>\n      <th>66295</th>\n      <td>11.533333</td>\n      <td>4</td>\n      <td>31.350000</td>\n      <td>31.350000</td>\n      <td>21.266667</td>\n      <td>21.266667</td>\n      <td>0.0</td>\n      <td>0.0</td>\n      <td>No Preventable Error</td>\n    </tr>\n    <tr>\n      <th>66317</th>\n      <td>11.700000</td>\n      <td>4</td>\n      <td>33.983333</td>\n      <td>33.983333</td>\n      <td>22.916667</td>\n      <td>22.916667</td>\n      <td>0.0</td>\n      <td>0.0</td>\n      <td>No Preventable Error</td>\n    </tr>\n    <tr>\n      <th>66364</th>\n      <td>12.750000</td>\n      <td>4</td>\n      <td>32.066667</td>\n      <td>32.066667</td>\n      <td>21.450000</td>\n      <td>21.450000</td>\n      <td>0.0</td>\n      <td>0.0</td>\n      <td>No Preventable Error</td>\n    </tr>\n  </tbody>\n</table>\n<p>21604 rows × 9 columns</p>\n</div>"
     },
     "execution_count": 143,
     "metadata": {},
     "output_type": "execute_result"
    }
   ],
   "source": [
    "# Identify numeric columns (excluding the 'Class' column if it's not numeric)\n",
    "numeric_columns = output_df.select_dtypes(include=[np.number]).columns\n",
    "\n",
    "# Set the significance level\n",
    "alpha = 0.05\n",
    "\n",
    "# Dictionary to hold dataframes for each significant column\n",
    "output_df_subsets = []\n",
    "\n",
    "# Loop through each numeric column and perform t-tests\n",
    "for column in numeric_columns:\n",
    "    # Split the data into two groups based on the 'Class' column\n",
    "    group1 = output_df[output_df['Class'] == 'Preventable Error'][column].dropna()\n",
    "    group2 = output_df[output_df['Class'] == 'No Preventable Error'][column].dropna()\n",
    "\n",
    "    # Perform t-test\n",
    "    t_stat, p_value, _ = ttest_ind(group1, group2)\n",
    "\n",
    "    # Check if the null hypothesis is rejected\n",
    "    if p_value < alpha:\n",
    "        # Calculate the 10% and 90% quantiles for the 'Preventable Error' group\n",
    "        # Experimented with cutoffs to improve model performance\n",
    "        lower_quantile = group1.quantile(0.40)\n",
    "        upper_quantile = group1.quantile(0.60)\n",
    "        \n",
    "        # Create a subset of the original dataframe within these quantiles for this column\n",
    "        subset = output_df[(output_df[column] >= lower_quantile) & (output_df[column] <= upper_quantile)]\n",
    "        \n",
    "        # Append the subset dataframe to the list\n",
    "        output_df_subsets.append(subset)\n",
    "\n",
    "# Combine all subsets into a single dataframe based on the union of each numerical predictor's subset\n",
    "if output_df_subsets:\n",
    "    final_output_df = pd.concat(output_df_subsets).drop_duplicates()\n",
    "else:\n",
    "    final_output_df = pd.DataFrame()\n",
    "\n",
    "final_output_df"
   ],
   "metadata": {
    "collapsed": false,
    "ExecuteTime": {
     "end_time": "2024-04-17T21:43:18.459614632Z",
     "start_time": "2024-04-17T21:43:17.378366373Z"
    }
   },
   "execution_count": 143
  },
  {
   "cell_type": "code",
   "outputs": [
    {
     "data": {
      "text/plain": "        DURATION  Shift Hour Start  TotalWorkHoursToDate  \\\n1496    8.583333                 6            381.850000   \n1873    8.650000                 6            865.050000   \n3728    8.633333                 6           1399.200000   \n4428    8.700000                 6           1403.650000   \n6750    8.216667                 6            427.716667   \n9259    9.666667                 6            682.433333   \n11108  10.683333                 6            522.416667   \n11699   8.000000                 6           1083.550000   \n23769   8.133333                 6           1597.500000   \n24505   8.350000                 6            344.233333   \n27642   8.000000                 6           2090.916667   \n27815  10.000000                 6           1410.383333   \n35906   8.100000                 6            966.550000   \n37805   8.450000                 6            322.666667   \n38723   9.666667                 6           2127.600000   \n40984  10.550000                 6           2149.900000   \n51522   8.600000                 6            220.316667   \n52061   8.700000                 6            207.333333   \n55073  11.350000                 6            156.783333   \n55269   8.333333                 6             98.633333   \n58715   8.433333                 6            673.033333   \n59088   8.000000                 6             32.050000   \n62531   3.900000                 6             84.033333   \n62532   7.783333                 6             91.816667   \n18051   8.916667                 5            728.466667   \n18494  12.100000                 4            584.800000   \n28402   9.666667                 7            591.066667   \n29699   8.066667                 7            530.966667   \n32490   2.400000                18            519.400000   \n44442  12.583333                 5            499.983333   \n45156   8.500000                 4            555.666667   \n45176   8.600000                 4            720.150000   \n48686   8.083333                14            595.166667   \n51212   6.666667                 7            649.516667   \n51288  11.266667                 4            547.083333   \n55585   3.366667                 5            651.716667   \n56718  11.983333                11            554.150000   \n59174   8.383333                14            704.883333   \n59529   7.466667                12            625.766667   \n4680   10.800000                11           1141.583333   \n8272   10.883333                 4           1314.583333   \n22011  11.333333                 7            874.800000   \n45505   7.933333                14            489.333333   \n52324   8.416667                14            145.716667   \n54521  12.050000                10           2050.216667   \n55685  10.600000                 4             69.900000   \n63949  10.166667                 5            130.633333   \n65439   9.516667                 7            364.300000   \n8728   11.500000                 5           1565.883333   \n40604   8.266667                13            783.716667   \n43662  12.566667                 5            800.683333   \n44186  12.583333                 5             75.650000   \n45058   9.850000                 3           1913.083333   \n45551   8.233333                14            855.716667   \n47129   8.200000                14            244.066667   \n53231  10.533333                 5            420.633333   \n58128   6.000000                16            357.100000   \n58455   3.233333                14            407.150000   \n64240  12.016667                 5            233.766667   \n64319   8.300000                 7            153.483333   \n\n       RestaurantWorkHoursToDate  TotalWorkHoursInPrevious7Days  \\\n1496                  381.850000                      55.383333   \n1873                  865.050000                      51.816667   \n3728                 1399.200000                      52.033333   \n4428                 1403.650000                      43.833333   \n6750                  427.716667                      61.466667   \n9259                  682.433333                      44.033333   \n11108                 522.416667                      63.316667   \n11699                1083.550000                      44.116667   \n23769                1597.500000                      48.933333   \n24505                 344.233333                      50.016667   \n27642                2090.916667                      26.883333   \n27815                1410.383333                      49.366667   \n35906                 966.550000                      59.350000   \n37805                 322.666667                      46.533333   \n38723                2127.600000                      57.583333   \n40984                2149.900000                      70.950000   \n51522                 220.316667                      49.616667   \n52061                 207.333333                      57.716667   \n55073                 156.783333                      53.183333   \n55269                  98.633333                      48.633333   \n58715                 673.033333                      48.250000   \n59088                  32.050000                      32.050000   \n62531                  84.033333                      35.950000   \n62532                  91.816667                      35.733333   \n18051                 728.466667                      73.183333   \n18494                 584.800000                      76.666667   \n28402                 591.066667                      55.500000   \n29699                 530.966667                      61.566667   \n32490                 519.400000                      43.216667   \n44442                 499.983333                      50.150000   \n45156                 555.666667                      34.000000   \n45176                 720.150000                      49.550000   \n48686                 595.166667                      32.166667   \n51212                 649.516667                      40.983333   \n51288                 547.083333                      46.150000   \n55585                 651.716667                      33.183333   \n56718                 554.150000                      66.833333   \n59174                 704.883333                      33.016667   \n59529                 625.766667                      46.083333   \n4680                 1141.583333                      48.333333   \n8272                 1314.583333                      49.283333   \n22011                 874.800000                      49.466667   \n45505                 489.333333                      47.766667   \n52324                 145.716667                      48.700000   \n54521                2050.216667                      46.200000   \n55685                  69.900000                      48.900000   \n63949                 130.633333                      46.383333   \n65439                 364.300000                      46.900000   \n8728                 1565.883333                      57.200000   \n40604                 783.716667                      41.450000   \n43662                 800.683333                      50.316667   \n44186                  75.650000                      50.416667   \n45058                1913.083333                      41.733333   \n45551                 855.716667                      39.466667   \n47129                 244.066667                      40.583333   \n53231                 420.633333                      53.200000   \n58128                 357.100000                      43.033333   \n58455                 407.150000                      44.650000   \n64240                 233.766667                      39.033333   \n64319                 153.483333                      40.516667   \n\n       TotalWorkHoursInPrevious3Days  EmployeeErrorsToDateLag1  \\\n1496                       25.700000                       0.0   \n1873                        8.650000                       0.0   \n3728                       25.883333                       0.0   \n4428                       26.250000                       0.0   \n6750                       26.633333                       0.0   \n9259                       18.216667                       0.0   \n11108                      33.233333                       0.0   \n11699                       8.000000                       0.0   \n23769                      16.283333                       0.0   \n24505                      25.966667                       0.0   \n27642                       8.000000                       0.0   \n27815                      19.716667                       0.0   \n35906                      34.650000                       0.0   \n37805                      17.066667                       0.0   \n38723                      18.316667                       0.0   \n40984                      30.933333                       0.0   \n51522                      17.450000                       0.0   \n52061                      36.266667                       0.0   \n55073                      32.400000                       0.0   \n55269                      33.133333                       0.0   \n58715                      14.033333                       0.0   \n59088                      16.050000                       0.0   \n62531                      19.900000                       0.0   \n62532                       7.783333                       1.0   \n18051                      29.483333                       1.0   \n18494                      34.183333                       0.0   \n28402                      17.016667                       0.0   \n29699                      33.200000                       0.0   \n32490                      22.966667                       0.0   \n44442                      25.150000                       0.0   \n45156                       8.500000                       0.0   \n45176                      25.766667                       1.0   \n48686                       8.083333                       0.0   \n51212                      32.150000                       0.0   \n51288                      28.350000                       0.0   \n55585                      33.183333                       0.0   \n56718                      40.050000                       0.0   \n59174                      24.833333                       1.0   \n59529                       7.466667                       0.0   \n4680                       39.566667                       0.0   \n8272                       29.083333                       0.0   \n22011                      31.800000                       0.0   \n45505                      31.816667                       0.0   \n52324                      32.600000                       0.0   \n54521                      34.166667                       0.0   \n55685                      29.883333                       0.0   \n63949                      34.350000                       0.0   \n65439                      28.416667                       0.0   \n8728                       20.766667                       0.0   \n40604                      24.933333                       0.0   \n43662                      25.200000                       0.0   \n44186                      25.150000                       0.0   \n45058                      24.783333                       0.0   \n45551                      23.750000                       1.0   \n47129                      24.300000                       0.0   \n53231                      21.266667                       0.0   \n58128                      22.416667                       0.0   \n58455                      21.283333                       0.0   \n64240                      24.016667                       0.0   \n64319                      24.333333                       0.0   \n\n       RestaurantTotalErrorsToDateLag1              Class  \n1496                               0.0  Preventable Error  \n1873                               0.0  Preventable Error  \n3728                               0.0  Preventable Error  \n4428                               0.0  Preventable Error  \n6750                               0.0  Preventable Error  \n9259                               0.0  Preventable Error  \n11108                              0.0  Preventable Error  \n11699                              0.0  Preventable Error  \n23769                              0.0  Preventable Error  \n24505                              0.0  Preventable Error  \n27642                              0.0  Preventable Error  \n27815                              0.0  Preventable Error  \n35906                              0.0  Preventable Error  \n37805                              0.0  Preventable Error  \n38723                              0.0  Preventable Error  \n40984                              0.0  Preventable Error  \n51522                              0.0  Preventable Error  \n52061                              0.0  Preventable Error  \n55073                              0.0  Preventable Error  \n55269                              0.0  Preventable Error  \n58715                              0.0  Preventable Error  \n59088                              0.0  Preventable Error  \n62531                              0.0  Preventable Error  \n62532                              1.0  Preventable Error  \n18051                              1.0  Preventable Error  \n18494                              0.0  Preventable Error  \n28402                              0.0  Preventable Error  \n29699                              0.0  Preventable Error  \n32490                              0.0  Preventable Error  \n44442                              0.0  Preventable Error  \n45156                              0.0  Preventable Error  \n45176                              1.0  Preventable Error  \n48686                              0.0  Preventable Error  \n51212                              0.0  Preventable Error  \n51288                              0.0  Preventable Error  \n55585                              0.0  Preventable Error  \n56718                              0.0  Preventable Error  \n59174                              1.0  Preventable Error  \n59529                              0.0  Preventable Error  \n4680                               0.0  Preventable Error  \n8272                               0.0  Preventable Error  \n22011                              0.0  Preventable Error  \n45505                              0.0  Preventable Error  \n52324                              0.0  Preventable Error  \n54521                              0.0  Preventable Error  \n55685                              0.0  Preventable Error  \n63949                              0.0  Preventable Error  \n65439                              0.0  Preventable Error  \n8728                               0.0  Preventable Error  \n40604                              0.0  Preventable Error  \n43662                              0.0  Preventable Error  \n44186                              0.0  Preventable Error  \n45058                              0.0  Preventable Error  \n45551                              1.0  Preventable Error  \n47129                              0.0  Preventable Error  \n53231                              0.0  Preventable Error  \n58128                              0.0  Preventable Error  \n58455                              0.0  Preventable Error  \n64240                              0.0  Preventable Error  \n64319                              0.0  Preventable Error  ",
      "text/html": "<div>\n<style scoped>\n    .dataframe tbody tr th:only-of-type {\n        vertical-align: middle;\n    }\n\n    .dataframe tbody tr th {\n        vertical-align: top;\n    }\n\n    .dataframe thead th {\n        text-align: right;\n    }\n</style>\n<table border=\"1\" class=\"dataframe\">\n  <thead>\n    <tr style=\"text-align: right;\">\n      <th></th>\n      <th>DURATION</th>\n      <th>Shift Hour Start</th>\n      <th>TotalWorkHoursToDate</th>\n      <th>RestaurantWorkHoursToDate</th>\n      <th>TotalWorkHoursInPrevious7Days</th>\n      <th>TotalWorkHoursInPrevious3Days</th>\n      <th>EmployeeErrorsToDateLag1</th>\n      <th>RestaurantTotalErrorsToDateLag1</th>\n      <th>Class</th>\n    </tr>\n  </thead>\n  <tbody>\n    <tr>\n      <th>1496</th>\n      <td>8.583333</td>\n      <td>6</td>\n      <td>381.850000</td>\n      <td>381.850000</td>\n      <td>55.383333</td>\n      <td>25.700000</td>\n      <td>0.0</td>\n      <td>0.0</td>\n      <td>Preventable Error</td>\n    </tr>\n    <tr>\n      <th>1873</th>\n      <td>8.650000</td>\n      <td>6</td>\n      <td>865.050000</td>\n      <td>865.050000</td>\n      <td>51.816667</td>\n      <td>8.650000</td>\n      <td>0.0</td>\n      <td>0.0</td>\n      <td>Preventable Error</td>\n    </tr>\n    <tr>\n      <th>3728</th>\n      <td>8.633333</td>\n      <td>6</td>\n      <td>1399.200000</td>\n      <td>1399.200000</td>\n      <td>52.033333</td>\n      <td>25.883333</td>\n      <td>0.0</td>\n      <td>0.0</td>\n      <td>Preventable Error</td>\n    </tr>\n    <tr>\n      <th>4428</th>\n      <td>8.700000</td>\n      <td>6</td>\n      <td>1403.650000</td>\n      <td>1403.650000</td>\n      <td>43.833333</td>\n      <td>26.250000</td>\n      <td>0.0</td>\n      <td>0.0</td>\n      <td>Preventable Error</td>\n    </tr>\n    <tr>\n      <th>6750</th>\n      <td>8.216667</td>\n      <td>6</td>\n      <td>427.716667</td>\n      <td>427.716667</td>\n      <td>61.466667</td>\n      <td>26.633333</td>\n      <td>0.0</td>\n      <td>0.0</td>\n      <td>Preventable Error</td>\n    </tr>\n    <tr>\n      <th>9259</th>\n      <td>9.666667</td>\n      <td>6</td>\n      <td>682.433333</td>\n      <td>682.433333</td>\n      <td>44.033333</td>\n      <td>18.216667</td>\n      <td>0.0</td>\n      <td>0.0</td>\n      <td>Preventable Error</td>\n    </tr>\n    <tr>\n      <th>11108</th>\n      <td>10.683333</td>\n      <td>6</td>\n      <td>522.416667</td>\n      <td>522.416667</td>\n      <td>63.316667</td>\n      <td>33.233333</td>\n      <td>0.0</td>\n      <td>0.0</td>\n      <td>Preventable Error</td>\n    </tr>\n    <tr>\n      <th>11699</th>\n      <td>8.000000</td>\n      <td>6</td>\n      <td>1083.550000</td>\n      <td>1083.550000</td>\n      <td>44.116667</td>\n      <td>8.000000</td>\n      <td>0.0</td>\n      <td>0.0</td>\n      <td>Preventable Error</td>\n    </tr>\n    <tr>\n      <th>23769</th>\n      <td>8.133333</td>\n      <td>6</td>\n      <td>1597.500000</td>\n      <td>1597.500000</td>\n      <td>48.933333</td>\n      <td>16.283333</td>\n      <td>0.0</td>\n      <td>0.0</td>\n      <td>Preventable Error</td>\n    </tr>\n    <tr>\n      <th>24505</th>\n      <td>8.350000</td>\n      <td>6</td>\n      <td>344.233333</td>\n      <td>344.233333</td>\n      <td>50.016667</td>\n      <td>25.966667</td>\n      <td>0.0</td>\n      <td>0.0</td>\n      <td>Preventable Error</td>\n    </tr>\n    <tr>\n      <th>27642</th>\n      <td>8.000000</td>\n      <td>6</td>\n      <td>2090.916667</td>\n      <td>2090.916667</td>\n      <td>26.883333</td>\n      <td>8.000000</td>\n      <td>0.0</td>\n      <td>0.0</td>\n      <td>Preventable Error</td>\n    </tr>\n    <tr>\n      <th>27815</th>\n      <td>10.000000</td>\n      <td>6</td>\n      <td>1410.383333</td>\n      <td>1410.383333</td>\n      <td>49.366667</td>\n      <td>19.716667</td>\n      <td>0.0</td>\n      <td>0.0</td>\n      <td>Preventable Error</td>\n    </tr>\n    <tr>\n      <th>35906</th>\n      <td>8.100000</td>\n      <td>6</td>\n      <td>966.550000</td>\n      <td>966.550000</td>\n      <td>59.350000</td>\n      <td>34.650000</td>\n      <td>0.0</td>\n      <td>0.0</td>\n      <td>Preventable Error</td>\n    </tr>\n    <tr>\n      <th>37805</th>\n      <td>8.450000</td>\n      <td>6</td>\n      <td>322.666667</td>\n      <td>322.666667</td>\n      <td>46.533333</td>\n      <td>17.066667</td>\n      <td>0.0</td>\n      <td>0.0</td>\n      <td>Preventable Error</td>\n    </tr>\n    <tr>\n      <th>38723</th>\n      <td>9.666667</td>\n      <td>6</td>\n      <td>2127.600000</td>\n      <td>2127.600000</td>\n      <td>57.583333</td>\n      <td>18.316667</td>\n      <td>0.0</td>\n      <td>0.0</td>\n      <td>Preventable Error</td>\n    </tr>\n    <tr>\n      <th>40984</th>\n      <td>10.550000</td>\n      <td>6</td>\n      <td>2149.900000</td>\n      <td>2149.900000</td>\n      <td>70.950000</td>\n      <td>30.933333</td>\n      <td>0.0</td>\n      <td>0.0</td>\n      <td>Preventable Error</td>\n    </tr>\n    <tr>\n      <th>51522</th>\n      <td>8.600000</td>\n      <td>6</td>\n      <td>220.316667</td>\n      <td>220.316667</td>\n      <td>49.616667</td>\n      <td>17.450000</td>\n      <td>0.0</td>\n      <td>0.0</td>\n      <td>Preventable Error</td>\n    </tr>\n    <tr>\n      <th>52061</th>\n      <td>8.700000</td>\n      <td>6</td>\n      <td>207.333333</td>\n      <td>207.333333</td>\n      <td>57.716667</td>\n      <td>36.266667</td>\n      <td>0.0</td>\n      <td>0.0</td>\n      <td>Preventable Error</td>\n    </tr>\n    <tr>\n      <th>55073</th>\n      <td>11.350000</td>\n      <td>6</td>\n      <td>156.783333</td>\n      <td>156.783333</td>\n      <td>53.183333</td>\n      <td>32.400000</td>\n      <td>0.0</td>\n      <td>0.0</td>\n      <td>Preventable Error</td>\n    </tr>\n    <tr>\n      <th>55269</th>\n      <td>8.333333</td>\n      <td>6</td>\n      <td>98.633333</td>\n      <td>98.633333</td>\n      <td>48.633333</td>\n      <td>33.133333</td>\n      <td>0.0</td>\n      <td>0.0</td>\n      <td>Preventable Error</td>\n    </tr>\n    <tr>\n      <th>58715</th>\n      <td>8.433333</td>\n      <td>6</td>\n      <td>673.033333</td>\n      <td>673.033333</td>\n      <td>48.250000</td>\n      <td>14.033333</td>\n      <td>0.0</td>\n      <td>0.0</td>\n      <td>Preventable Error</td>\n    </tr>\n    <tr>\n      <th>59088</th>\n      <td>8.000000</td>\n      <td>6</td>\n      <td>32.050000</td>\n      <td>32.050000</td>\n      <td>32.050000</td>\n      <td>16.050000</td>\n      <td>0.0</td>\n      <td>0.0</td>\n      <td>Preventable Error</td>\n    </tr>\n    <tr>\n      <th>62531</th>\n      <td>3.900000</td>\n      <td>6</td>\n      <td>84.033333</td>\n      <td>84.033333</td>\n      <td>35.950000</td>\n      <td>19.900000</td>\n      <td>0.0</td>\n      <td>0.0</td>\n      <td>Preventable Error</td>\n    </tr>\n    <tr>\n      <th>62532</th>\n      <td>7.783333</td>\n      <td>6</td>\n      <td>91.816667</td>\n      <td>91.816667</td>\n      <td>35.733333</td>\n      <td>7.783333</td>\n      <td>1.0</td>\n      <td>1.0</td>\n      <td>Preventable Error</td>\n    </tr>\n    <tr>\n      <th>18051</th>\n      <td>8.916667</td>\n      <td>5</td>\n      <td>728.466667</td>\n      <td>728.466667</td>\n      <td>73.183333</td>\n      <td>29.483333</td>\n      <td>1.0</td>\n      <td>1.0</td>\n      <td>Preventable Error</td>\n    </tr>\n    <tr>\n      <th>18494</th>\n      <td>12.100000</td>\n      <td>4</td>\n      <td>584.800000</td>\n      <td>584.800000</td>\n      <td>76.666667</td>\n      <td>34.183333</td>\n      <td>0.0</td>\n      <td>0.0</td>\n      <td>Preventable Error</td>\n    </tr>\n    <tr>\n      <th>28402</th>\n      <td>9.666667</td>\n      <td>7</td>\n      <td>591.066667</td>\n      <td>591.066667</td>\n      <td>55.500000</td>\n      <td>17.016667</td>\n      <td>0.0</td>\n      <td>0.0</td>\n      <td>Preventable Error</td>\n    </tr>\n    <tr>\n      <th>29699</th>\n      <td>8.066667</td>\n      <td>7</td>\n      <td>530.966667</td>\n      <td>530.966667</td>\n      <td>61.566667</td>\n      <td>33.200000</td>\n      <td>0.0</td>\n      <td>0.0</td>\n      <td>Preventable Error</td>\n    </tr>\n    <tr>\n      <th>32490</th>\n      <td>2.400000</td>\n      <td>18</td>\n      <td>519.400000</td>\n      <td>519.400000</td>\n      <td>43.216667</td>\n      <td>22.966667</td>\n      <td>0.0</td>\n      <td>0.0</td>\n      <td>Preventable Error</td>\n    </tr>\n    <tr>\n      <th>44442</th>\n      <td>12.583333</td>\n      <td>5</td>\n      <td>499.983333</td>\n      <td>499.983333</td>\n      <td>50.150000</td>\n      <td>25.150000</td>\n      <td>0.0</td>\n      <td>0.0</td>\n      <td>Preventable Error</td>\n    </tr>\n    <tr>\n      <th>45156</th>\n      <td>8.500000</td>\n      <td>4</td>\n      <td>555.666667</td>\n      <td>555.666667</td>\n      <td>34.000000</td>\n      <td>8.500000</td>\n      <td>0.0</td>\n      <td>0.0</td>\n      <td>Preventable Error</td>\n    </tr>\n    <tr>\n      <th>45176</th>\n      <td>8.600000</td>\n      <td>4</td>\n      <td>720.150000</td>\n      <td>720.150000</td>\n      <td>49.550000</td>\n      <td>25.766667</td>\n      <td>1.0</td>\n      <td>1.0</td>\n      <td>Preventable Error</td>\n    </tr>\n    <tr>\n      <th>48686</th>\n      <td>8.083333</td>\n      <td>14</td>\n      <td>595.166667</td>\n      <td>595.166667</td>\n      <td>32.166667</td>\n      <td>8.083333</td>\n      <td>0.0</td>\n      <td>0.0</td>\n      <td>Preventable Error</td>\n    </tr>\n    <tr>\n      <th>51212</th>\n      <td>6.666667</td>\n      <td>7</td>\n      <td>649.516667</td>\n      <td>649.516667</td>\n      <td>40.983333</td>\n      <td>32.150000</td>\n      <td>0.0</td>\n      <td>0.0</td>\n      <td>Preventable Error</td>\n    </tr>\n    <tr>\n      <th>51288</th>\n      <td>11.266667</td>\n      <td>4</td>\n      <td>547.083333</td>\n      <td>547.083333</td>\n      <td>46.150000</td>\n      <td>28.350000</td>\n      <td>0.0</td>\n      <td>0.0</td>\n      <td>Preventable Error</td>\n    </tr>\n    <tr>\n      <th>55585</th>\n      <td>3.366667</td>\n      <td>5</td>\n      <td>651.716667</td>\n      <td>651.716667</td>\n      <td>33.183333</td>\n      <td>33.183333</td>\n      <td>0.0</td>\n      <td>0.0</td>\n      <td>Preventable Error</td>\n    </tr>\n    <tr>\n      <th>56718</th>\n      <td>11.983333</td>\n      <td>11</td>\n      <td>554.150000</td>\n      <td>554.150000</td>\n      <td>66.833333</td>\n      <td>40.050000</td>\n      <td>0.0</td>\n      <td>0.0</td>\n      <td>Preventable Error</td>\n    </tr>\n    <tr>\n      <th>59174</th>\n      <td>8.383333</td>\n      <td>14</td>\n      <td>704.883333</td>\n      <td>704.883333</td>\n      <td>33.016667</td>\n      <td>24.833333</td>\n      <td>1.0</td>\n      <td>1.0</td>\n      <td>Preventable Error</td>\n    </tr>\n    <tr>\n      <th>59529</th>\n      <td>7.466667</td>\n      <td>12</td>\n      <td>625.766667</td>\n      <td>625.766667</td>\n      <td>46.083333</td>\n      <td>7.466667</td>\n      <td>0.0</td>\n      <td>0.0</td>\n      <td>Preventable Error</td>\n    </tr>\n    <tr>\n      <th>4680</th>\n      <td>10.800000</td>\n      <td>11</td>\n      <td>1141.583333</td>\n      <td>1141.583333</td>\n      <td>48.333333</td>\n      <td>39.566667</td>\n      <td>0.0</td>\n      <td>0.0</td>\n      <td>Preventable Error</td>\n    </tr>\n    <tr>\n      <th>8272</th>\n      <td>10.883333</td>\n      <td>4</td>\n      <td>1314.583333</td>\n      <td>1314.583333</td>\n      <td>49.283333</td>\n      <td>29.083333</td>\n      <td>0.0</td>\n      <td>0.0</td>\n      <td>Preventable Error</td>\n    </tr>\n    <tr>\n      <th>22011</th>\n      <td>11.333333</td>\n      <td>7</td>\n      <td>874.800000</td>\n      <td>874.800000</td>\n      <td>49.466667</td>\n      <td>31.800000</td>\n      <td>0.0</td>\n      <td>0.0</td>\n      <td>Preventable Error</td>\n    </tr>\n    <tr>\n      <th>45505</th>\n      <td>7.933333</td>\n      <td>14</td>\n      <td>489.333333</td>\n      <td>489.333333</td>\n      <td>47.766667</td>\n      <td>31.816667</td>\n      <td>0.0</td>\n      <td>0.0</td>\n      <td>Preventable Error</td>\n    </tr>\n    <tr>\n      <th>52324</th>\n      <td>8.416667</td>\n      <td>14</td>\n      <td>145.716667</td>\n      <td>145.716667</td>\n      <td>48.700000</td>\n      <td>32.600000</td>\n      <td>0.0</td>\n      <td>0.0</td>\n      <td>Preventable Error</td>\n    </tr>\n    <tr>\n      <th>54521</th>\n      <td>12.050000</td>\n      <td>10</td>\n      <td>2050.216667</td>\n      <td>2050.216667</td>\n      <td>46.200000</td>\n      <td>34.166667</td>\n      <td>0.0</td>\n      <td>0.0</td>\n      <td>Preventable Error</td>\n    </tr>\n    <tr>\n      <th>55685</th>\n      <td>10.600000</td>\n      <td>4</td>\n      <td>69.900000</td>\n      <td>69.900000</td>\n      <td>48.900000</td>\n      <td>29.883333</td>\n      <td>0.0</td>\n      <td>0.0</td>\n      <td>Preventable Error</td>\n    </tr>\n    <tr>\n      <th>63949</th>\n      <td>10.166667</td>\n      <td>5</td>\n      <td>130.633333</td>\n      <td>130.633333</td>\n      <td>46.383333</td>\n      <td>34.350000</td>\n      <td>0.0</td>\n      <td>0.0</td>\n      <td>Preventable Error</td>\n    </tr>\n    <tr>\n      <th>65439</th>\n      <td>9.516667</td>\n      <td>7</td>\n      <td>364.300000</td>\n      <td>364.300000</td>\n      <td>46.900000</td>\n      <td>28.416667</td>\n      <td>0.0</td>\n      <td>0.0</td>\n      <td>Preventable Error</td>\n    </tr>\n    <tr>\n      <th>8728</th>\n      <td>11.500000</td>\n      <td>5</td>\n      <td>1565.883333</td>\n      <td>1565.883333</td>\n      <td>57.200000</td>\n      <td>20.766667</td>\n      <td>0.0</td>\n      <td>0.0</td>\n      <td>Preventable Error</td>\n    </tr>\n    <tr>\n      <th>40604</th>\n      <td>8.266667</td>\n      <td>13</td>\n      <td>783.716667</td>\n      <td>783.716667</td>\n      <td>41.450000</td>\n      <td>24.933333</td>\n      <td>0.0</td>\n      <td>0.0</td>\n      <td>Preventable Error</td>\n    </tr>\n    <tr>\n      <th>43662</th>\n      <td>12.566667</td>\n      <td>5</td>\n      <td>800.683333</td>\n      <td>800.683333</td>\n      <td>50.316667</td>\n      <td>25.200000</td>\n      <td>0.0</td>\n      <td>0.0</td>\n      <td>Preventable Error</td>\n    </tr>\n    <tr>\n      <th>44186</th>\n      <td>12.583333</td>\n      <td>5</td>\n      <td>75.650000</td>\n      <td>75.650000</td>\n      <td>50.416667</td>\n      <td>25.150000</td>\n      <td>0.0</td>\n      <td>0.0</td>\n      <td>Preventable Error</td>\n    </tr>\n    <tr>\n      <th>45058</th>\n      <td>9.850000</td>\n      <td>3</td>\n      <td>1913.083333</td>\n      <td>1913.083333</td>\n      <td>41.733333</td>\n      <td>24.783333</td>\n      <td>0.0</td>\n      <td>0.0</td>\n      <td>Preventable Error</td>\n    </tr>\n    <tr>\n      <th>45551</th>\n      <td>8.233333</td>\n      <td>14</td>\n      <td>855.716667</td>\n      <td>855.716667</td>\n      <td>39.466667</td>\n      <td>23.750000</td>\n      <td>1.0</td>\n      <td>1.0</td>\n      <td>Preventable Error</td>\n    </tr>\n    <tr>\n      <th>47129</th>\n      <td>8.200000</td>\n      <td>14</td>\n      <td>244.066667</td>\n      <td>244.066667</td>\n      <td>40.583333</td>\n      <td>24.300000</td>\n      <td>0.0</td>\n      <td>0.0</td>\n      <td>Preventable Error</td>\n    </tr>\n    <tr>\n      <th>53231</th>\n      <td>10.533333</td>\n      <td>5</td>\n      <td>420.633333</td>\n      <td>420.633333</td>\n      <td>53.200000</td>\n      <td>21.266667</td>\n      <td>0.0</td>\n      <td>0.0</td>\n      <td>Preventable Error</td>\n    </tr>\n    <tr>\n      <th>58128</th>\n      <td>6.000000</td>\n      <td>16</td>\n      <td>357.100000</td>\n      <td>357.100000</td>\n      <td>43.033333</td>\n      <td>22.416667</td>\n      <td>0.0</td>\n      <td>0.0</td>\n      <td>Preventable Error</td>\n    </tr>\n    <tr>\n      <th>58455</th>\n      <td>3.233333</td>\n      <td>14</td>\n      <td>407.150000</td>\n      <td>407.150000</td>\n      <td>44.650000</td>\n      <td>21.283333</td>\n      <td>0.0</td>\n      <td>0.0</td>\n      <td>Preventable Error</td>\n    </tr>\n    <tr>\n      <th>64240</th>\n      <td>12.016667</td>\n      <td>5</td>\n      <td>233.766667</td>\n      <td>233.766667</td>\n      <td>39.033333</td>\n      <td>24.016667</td>\n      <td>0.0</td>\n      <td>0.0</td>\n      <td>Preventable Error</td>\n    </tr>\n    <tr>\n      <th>64319</th>\n      <td>8.300000</td>\n      <td>7</td>\n      <td>153.483333</td>\n      <td>153.483333</td>\n      <td>40.516667</td>\n      <td>24.333333</td>\n      <td>0.0</td>\n      <td>0.0</td>\n      <td>Preventable Error</td>\n    </tr>\n  </tbody>\n</table>\n</div>"
     },
     "execution_count": 144,
     "metadata": {},
     "output_type": "execute_result"
    }
   ],
   "source": [
    "final_output_df[final_output_df['Class'] == 'Preventable Error']"
   ],
   "metadata": {
    "collapsed": false,
    "ExecuteTime": {
     "end_time": "2024-04-17T21:43:18.681624070Z",
     "start_time": "2024-04-17T21:43:17.717992767Z"
    }
   },
   "execution_count": 144
  },
  {
   "cell_type": "code",
   "outputs": [],
   "source": [],
   "metadata": {
    "collapsed": false,
    "ExecuteTime": {
     "end_time": "2024-04-17T21:43:18.784322244Z",
     "start_time": "2024-04-17T21:43:17.773107094Z"
    }
   },
   "execution_count": 144
  },
  {
   "cell_type": "code",
   "outputs": [],
   "source": [
    "error_sample = final_output_df[final_output_df['Class'] == 'Preventable Error']\n",
    "non_error_sample = final_output_df[final_output_df['Class'] == 'No Preventable Error'].head(2000)"
   ],
   "metadata": {
    "collapsed": false,
    "ExecuteTime": {
     "end_time": "2024-04-17T21:43:19.055871850Z",
     "start_time": "2024-04-17T21:43:17.787942604Z"
    }
   },
   "execution_count": 145
  },
  {
   "cell_type": "code",
   "outputs": [
    {
     "data": {
      "text/plain": "        DURATION  Shift Hour Start  TotalWorkHoursToDate  \\\n14     11.000000                 6             22.000000   \n17      8.066667                 6             50.066667   \n18      6.016667                 6             56.083333   \n20      8.033333                 6             72.166667   \n21      8.000000                 6             80.166667   \n...          ...               ...                   ...   \n66172   8.550000                15            304.950000   \n66175   5.916667                15            328.016667   \n66295  11.533333                 4             31.350000   \n66317  11.700000                 4             33.983333   \n66364  12.750000                 4             32.066667   \n\n       RestaurantWorkHoursToDate  TotalWorkHoursInPrevious7Days  \\\n14                     22.000000                      11.000000   \n17                     50.066667                       8.066667   \n18                     56.083333                       6.016667   \n20                     72.166667                       8.033333   \n21                     80.166667                       8.000000   \n...                          ...                            ...   \n66172                 304.950000                      42.783333   \n66175                 328.016667                      23.066667   \n66295                  31.350000                      21.266667   \n66317                  33.983333                      22.916667   \n66364                  32.066667                      21.450000   \n\n       TotalWorkHoursInPrevious3Days  EmployeeErrorsToDateLag1  \\\n14                         11.000000                       0.0   \n17                          8.066667                       0.0   \n18                          6.016667                       0.0   \n20                          8.033333                       0.0   \n21                          8.000000                       0.0   \n...                              ...                       ...   \n66172                      25.616667                       0.0   \n66175                      23.066667                       0.0   \n66295                      21.266667                       0.0   \n66317                      22.916667                       0.0   \n66364                      21.450000                       0.0   \n\n       RestaurantTotalErrorsToDateLag1                 Class  \n14                                 0.0  No Preventable Error  \n17                                 0.0  No Preventable Error  \n18                                 0.0  No Preventable Error  \n20                                 0.0  No Preventable Error  \n21                                 0.0  No Preventable Error  \n...                                ...                   ...  \n66172                              0.0  No Preventable Error  \n66175                              0.0  No Preventable Error  \n66295                              0.0  No Preventable Error  \n66317                              0.0  No Preventable Error  \n66364                              0.0  No Preventable Error  \n\n[21544 rows x 9 columns]",
      "text/html": "<div>\n<style scoped>\n    .dataframe tbody tr th:only-of-type {\n        vertical-align: middle;\n    }\n\n    .dataframe tbody tr th {\n        vertical-align: top;\n    }\n\n    .dataframe thead th {\n        text-align: right;\n    }\n</style>\n<table border=\"1\" class=\"dataframe\">\n  <thead>\n    <tr style=\"text-align: right;\">\n      <th></th>\n      <th>DURATION</th>\n      <th>Shift Hour Start</th>\n      <th>TotalWorkHoursToDate</th>\n      <th>RestaurantWorkHoursToDate</th>\n      <th>TotalWorkHoursInPrevious7Days</th>\n      <th>TotalWorkHoursInPrevious3Days</th>\n      <th>EmployeeErrorsToDateLag1</th>\n      <th>RestaurantTotalErrorsToDateLag1</th>\n      <th>Class</th>\n    </tr>\n  </thead>\n  <tbody>\n    <tr>\n      <th>14</th>\n      <td>11.000000</td>\n      <td>6</td>\n      <td>22.000000</td>\n      <td>22.000000</td>\n      <td>11.000000</td>\n      <td>11.000000</td>\n      <td>0.0</td>\n      <td>0.0</td>\n      <td>No Preventable Error</td>\n    </tr>\n    <tr>\n      <th>17</th>\n      <td>8.066667</td>\n      <td>6</td>\n      <td>50.066667</td>\n      <td>50.066667</td>\n      <td>8.066667</td>\n      <td>8.066667</td>\n      <td>0.0</td>\n      <td>0.0</td>\n      <td>No Preventable Error</td>\n    </tr>\n    <tr>\n      <th>18</th>\n      <td>6.016667</td>\n      <td>6</td>\n      <td>56.083333</td>\n      <td>56.083333</td>\n      <td>6.016667</td>\n      <td>6.016667</td>\n      <td>0.0</td>\n      <td>0.0</td>\n      <td>No Preventable Error</td>\n    </tr>\n    <tr>\n      <th>20</th>\n      <td>8.033333</td>\n      <td>6</td>\n      <td>72.166667</td>\n      <td>72.166667</td>\n      <td>8.033333</td>\n      <td>8.033333</td>\n      <td>0.0</td>\n      <td>0.0</td>\n      <td>No Preventable Error</td>\n    </tr>\n    <tr>\n      <th>21</th>\n      <td>8.000000</td>\n      <td>6</td>\n      <td>80.166667</td>\n      <td>80.166667</td>\n      <td>8.000000</td>\n      <td>8.000000</td>\n      <td>0.0</td>\n      <td>0.0</td>\n      <td>No Preventable Error</td>\n    </tr>\n    <tr>\n      <th>...</th>\n      <td>...</td>\n      <td>...</td>\n      <td>...</td>\n      <td>...</td>\n      <td>...</td>\n      <td>...</td>\n      <td>...</td>\n      <td>...</td>\n      <td>...</td>\n    </tr>\n    <tr>\n      <th>66172</th>\n      <td>8.550000</td>\n      <td>15</td>\n      <td>304.950000</td>\n      <td>304.950000</td>\n      <td>42.783333</td>\n      <td>25.616667</td>\n      <td>0.0</td>\n      <td>0.0</td>\n      <td>No Preventable Error</td>\n    </tr>\n    <tr>\n      <th>66175</th>\n      <td>5.916667</td>\n      <td>15</td>\n      <td>328.016667</td>\n      <td>328.016667</td>\n      <td>23.066667</td>\n      <td>23.066667</td>\n      <td>0.0</td>\n      <td>0.0</td>\n      <td>No Preventable Error</td>\n    </tr>\n    <tr>\n      <th>66295</th>\n      <td>11.533333</td>\n      <td>4</td>\n      <td>31.350000</td>\n      <td>31.350000</td>\n      <td>21.266667</td>\n      <td>21.266667</td>\n      <td>0.0</td>\n      <td>0.0</td>\n      <td>No Preventable Error</td>\n    </tr>\n    <tr>\n      <th>66317</th>\n      <td>11.700000</td>\n      <td>4</td>\n      <td>33.983333</td>\n      <td>33.983333</td>\n      <td>22.916667</td>\n      <td>22.916667</td>\n      <td>0.0</td>\n      <td>0.0</td>\n      <td>No Preventable Error</td>\n    </tr>\n    <tr>\n      <th>66364</th>\n      <td>12.750000</td>\n      <td>4</td>\n      <td>32.066667</td>\n      <td>32.066667</td>\n      <td>21.450000</td>\n      <td>21.450000</td>\n      <td>0.0</td>\n      <td>0.0</td>\n      <td>No Preventable Error</td>\n    </tr>\n  </tbody>\n</table>\n<p>21544 rows × 9 columns</p>\n</div>"
     },
     "execution_count": 146,
     "metadata": {},
     "output_type": "execute_result"
    }
   ],
   "source": [
    "final_output_df[final_output_df['Class'] == 'No Preventable Error']"
   ],
   "metadata": {
    "collapsed": false,
    "ExecuteTime": {
     "end_time": "2024-04-17T21:43:19.057307988Z",
     "start_time": "2024-04-17T21:43:17.830105665Z"
    }
   },
   "execution_count": 146
  },
  {
   "cell_type": "code",
   "outputs": [
    {
     "data": {
      "text/plain": "      DURATION  Shift Hour Start  TotalWorkHoursToDate  \\\n1496  8.583333                 6            381.850000   \n1873  8.650000                 6            865.050000   \n3728  8.633333                 6           1399.200000   \n4428  8.700000                 6           1403.650000   \n6750  8.216667                 6            427.716667   \n...        ...               ...                   ...   \n6842  7.966667                 6           1160.666667   \n6843  7.783333                 6           1168.450000   \n6844  7.650000                 6           1176.100000   \n6845  7.983333                 6           1184.083333   \n6846  7.583333                 6           1191.666667   \n\n      RestaurantWorkHoursToDate  TotalWorkHoursInPrevious7Days  \\\n1496                 381.850000                      55.383333   \n1873                 865.050000                      51.816667   \n3728                1399.200000                      52.033333   \n4428                1403.650000                      43.833333   \n6750                 427.716667                      61.466667   \n...                         ...                            ...   \n6842                1160.666667                      43.383333   \n6843                1168.450000                      51.166667   \n6844                1176.100000                      43.466667   \n6845                1184.083333                      39.050000   \n6846                1191.666667                      38.966667   \n\n      TotalWorkHoursInPrevious3Days  EmployeeErrorsToDateLag1  \\\n1496                      25.700000                       0.0   \n1873                       8.650000                       0.0   \n3728                      25.883333                       0.0   \n4428                      26.250000                       0.0   \n6750                      26.633333                       0.0   \n...                             ...                       ...   \n6842                      23.933333                       1.0   \n6843                      23.416667                       1.0   \n6844                      31.066667                       1.0   \n6845                      15.633333                       1.0   \n6846                      15.566667                       1.0   \n\n      RestaurantTotalErrorsToDateLag1                 Class  \n1496                              0.0     Preventable Error  \n1873                              0.0     Preventable Error  \n3728                              0.0     Preventable Error  \n4428                              0.0     Preventable Error  \n6750                              0.0     Preventable Error  \n...                               ...                   ...  \n6842                              1.0  No Preventable Error  \n6843                              1.0  No Preventable Error  \n6844                              1.0  No Preventable Error  \n6845                              1.0  No Preventable Error  \n6846                              1.0  No Preventable Error  \n\n[2060 rows x 9 columns]",
      "text/html": "<div>\n<style scoped>\n    .dataframe tbody tr th:only-of-type {\n        vertical-align: middle;\n    }\n\n    .dataframe tbody tr th {\n        vertical-align: top;\n    }\n\n    .dataframe thead th {\n        text-align: right;\n    }\n</style>\n<table border=\"1\" class=\"dataframe\">\n  <thead>\n    <tr style=\"text-align: right;\">\n      <th></th>\n      <th>DURATION</th>\n      <th>Shift Hour Start</th>\n      <th>TotalWorkHoursToDate</th>\n      <th>RestaurantWorkHoursToDate</th>\n      <th>TotalWorkHoursInPrevious7Days</th>\n      <th>TotalWorkHoursInPrevious3Days</th>\n      <th>EmployeeErrorsToDateLag1</th>\n      <th>RestaurantTotalErrorsToDateLag1</th>\n      <th>Class</th>\n    </tr>\n  </thead>\n  <tbody>\n    <tr>\n      <th>1496</th>\n      <td>8.583333</td>\n      <td>6</td>\n      <td>381.850000</td>\n      <td>381.850000</td>\n      <td>55.383333</td>\n      <td>25.700000</td>\n      <td>0.0</td>\n      <td>0.0</td>\n      <td>Preventable Error</td>\n    </tr>\n    <tr>\n      <th>1873</th>\n      <td>8.650000</td>\n      <td>6</td>\n      <td>865.050000</td>\n      <td>865.050000</td>\n      <td>51.816667</td>\n      <td>8.650000</td>\n      <td>0.0</td>\n      <td>0.0</td>\n      <td>Preventable Error</td>\n    </tr>\n    <tr>\n      <th>3728</th>\n      <td>8.633333</td>\n      <td>6</td>\n      <td>1399.200000</td>\n      <td>1399.200000</td>\n      <td>52.033333</td>\n      <td>25.883333</td>\n      <td>0.0</td>\n      <td>0.0</td>\n      <td>Preventable Error</td>\n    </tr>\n    <tr>\n      <th>4428</th>\n      <td>8.700000</td>\n      <td>6</td>\n      <td>1403.650000</td>\n      <td>1403.650000</td>\n      <td>43.833333</td>\n      <td>26.250000</td>\n      <td>0.0</td>\n      <td>0.0</td>\n      <td>Preventable Error</td>\n    </tr>\n    <tr>\n      <th>6750</th>\n      <td>8.216667</td>\n      <td>6</td>\n      <td>427.716667</td>\n      <td>427.716667</td>\n      <td>61.466667</td>\n      <td>26.633333</td>\n      <td>0.0</td>\n      <td>0.0</td>\n      <td>Preventable Error</td>\n    </tr>\n    <tr>\n      <th>...</th>\n      <td>...</td>\n      <td>...</td>\n      <td>...</td>\n      <td>...</td>\n      <td>...</td>\n      <td>...</td>\n      <td>...</td>\n      <td>...</td>\n      <td>...</td>\n    </tr>\n    <tr>\n      <th>6842</th>\n      <td>7.966667</td>\n      <td>6</td>\n      <td>1160.666667</td>\n      <td>1160.666667</td>\n      <td>43.383333</td>\n      <td>23.933333</td>\n      <td>1.0</td>\n      <td>1.0</td>\n      <td>No Preventable Error</td>\n    </tr>\n    <tr>\n      <th>6843</th>\n      <td>7.783333</td>\n      <td>6</td>\n      <td>1168.450000</td>\n      <td>1168.450000</td>\n      <td>51.166667</td>\n      <td>23.416667</td>\n      <td>1.0</td>\n      <td>1.0</td>\n      <td>No Preventable Error</td>\n    </tr>\n    <tr>\n      <th>6844</th>\n      <td>7.650000</td>\n      <td>6</td>\n      <td>1176.100000</td>\n      <td>1176.100000</td>\n      <td>43.466667</td>\n      <td>31.066667</td>\n      <td>1.0</td>\n      <td>1.0</td>\n      <td>No Preventable Error</td>\n    </tr>\n    <tr>\n      <th>6845</th>\n      <td>7.983333</td>\n      <td>6</td>\n      <td>1184.083333</td>\n      <td>1184.083333</td>\n      <td>39.050000</td>\n      <td>15.633333</td>\n      <td>1.0</td>\n      <td>1.0</td>\n      <td>No Preventable Error</td>\n    </tr>\n    <tr>\n      <th>6846</th>\n      <td>7.583333</td>\n      <td>6</td>\n      <td>1191.666667</td>\n      <td>1191.666667</td>\n      <td>38.966667</td>\n      <td>15.566667</td>\n      <td>1.0</td>\n      <td>1.0</td>\n      <td>No Preventable Error</td>\n    </tr>\n  </tbody>\n</table>\n<p>2060 rows × 9 columns</p>\n</div>"
     },
     "execution_count": 147,
     "metadata": {},
     "output_type": "execute_result"
    }
   ],
   "source": [
    "model_sample = pd.concat([error_sample, non_error_sample])\n",
    "model_sample "
   ],
   "metadata": {
    "collapsed": false,
    "ExecuteTime": {
     "end_time": "2024-04-17T21:43:19.144390259Z",
     "start_time": "2024-04-17T21:43:17.843267272Z"
    }
   },
   "execution_count": 147
  },
  {
   "cell_type": "code",
   "outputs": [],
   "source": [
    "# Convert 'Class' to binary where 'Preventable Error' = 1 and 'No Preventable Error' = 0\n",
    "final_output_df['Class'] = np.where(final_output_df['Class'] == 'Preventable Error', 1, 0)"
   ],
   "metadata": {
    "collapsed": false,
    "ExecuteTime": {
     "end_time": "2024-04-17T21:43:19.195442300Z",
     "start_time": "2024-04-17T21:43:17.868686531Z"
    }
   },
   "execution_count": 148
  },
  {
   "cell_type": "code",
   "outputs": [
    {
     "name": "stdout",
     "output_type": "stream",
     "text": [
      "              precision    recall  f1-score   support\n",
      "\n",
      "           0       1.00      0.74      0.85      6464\n",
      "           1       0.01      0.89      0.02        18\n",
      "\n",
      "    accuracy                           0.74      6482\n",
      "   macro avg       0.50      0.81      0.43      6482\n",
      "weighted avg       1.00      0.74      0.84      6482\n"
     ]
    }
   ],
   "source": [
    "from imblearn.over_sampling import SMOTE\n",
    "from sklearn.model_selection import train_test_split\n",
    "from sklearn.linear_model import LogisticRegression\n",
    "from sklearn.metrics import classification_report\n",
    "\n",
    "# Assuming 'Class' column is binary\n",
    "X = final_output_df.drop('Class', axis=1)\n",
    "y = final_output_df['Class']\n",
    "\n",
    "# Splitting data into training and test sets\n",
    "X_train, X_test, y_train, y_test = train_test_split(X, y, test_size=0.3, random_state=42)\n",
    "\n",
    "# Applying SMOTE\n",
    "smote = SMOTE(random_state=42)\n",
    "X_res, y_res = smote.fit_resample(X_train, y_train)\n",
    "\n",
    "# Training a logistic regression model\n",
    "model = LogisticRegression(max_iter=1000)\n",
    "model.fit(X_res, y_res)\n",
    "\n",
    "# Predicting and evaluating the model\n",
    "predictions = model.predict(X_test)\n",
    "print(classification_report(y_test, predictions))\n"
   ],
   "metadata": {
    "collapsed": false,
    "ExecuteTime": {
     "end_time": "2024-04-17T21:43:20.311181268Z",
     "start_time": "2024-04-17T21:43:17.888132053Z"
    }
   },
   "execution_count": 149
  },
  {
   "cell_type": "code",
   "outputs": [
    {
     "name": "stdout",
     "output_type": "stream",
     "text": [
      "Total 'predictions == 1': 1728\n",
      "Correct predictions (y_test == 1): 16 (0.93%)\n",
      "Incorrect predictions (y_test != 1): 1712 (99.07%)\n"
     ]
    }
   ],
   "source": [
    "# Convert X_test to DataFrame\n",
    "X_test_df = pd.DataFrame(X_test, columns=X.columns)\n",
    "\n",
    "# Add y_test and predictions to this DataFrame\n",
    "X_test_df['y_test'] = y_test.values\n",
    "X_test_df['predictions'] = predictions\n",
    "\n",
    "# Subset where predictions are 1\n",
    "predictions_1_df = X_test_df[X_test_df['predictions'] == 1]\n",
    "\n",
    "# Count where y_test also equals 1\n",
    "correct_predictions = predictions_1_df[predictions_1_df['y_test'] == 1].shape[0]\n",
    "\n",
    "# Count where y_test does not equal 1\n",
    "incorrect_predictions = predictions_1_df[predictions_1_df['y_test'] != 1].shape[0]\n",
    "\n",
    "# Total predictions of 1\n",
    "total_predictions_1 = predictions_1_df.shape[0]\n",
    "\n",
    "# Percentage where y_test also equals 1\n",
    "percentage_correct = (correct_predictions / total_predictions_1) * 100 if total_predictions_1 > 0 else 0\n",
    "\n",
    "# Percentage where y_test doesn't equal 1\n",
    "percentage_incorrect = (incorrect_predictions / total_predictions_1) * 100 if total_predictions_1 > 0 else 0\n",
    "\n",
    "# Print results\n",
    "print(f\"Total 'predictions == 1': {total_predictions_1}\")\n",
    "print(f\"Correct predictions (y_test == 1): {correct_predictions} ({percentage_correct:.2f}%)\")\n",
    "print(f\"Incorrect predictions (y_test != 1): {incorrect_predictions} ({percentage_incorrect:.2f}%)\")"
   ],
   "metadata": {
    "collapsed": false,
    "ExecuteTime": {
     "end_time": "2024-04-17T21:43:20.356514026Z",
     "start_time": "2024-04-17T21:43:19.136206922Z"
    }
   },
   "execution_count": 150
  },
  {
   "cell_type": "code",
   "outputs": [],
   "source": [],
   "metadata": {
    "collapsed": false,
    "ExecuteTime": {
     "end_time": "2024-04-17T21:43:20.394891304Z",
     "start_time": "2024-04-17T21:43:19.180928469Z"
    }
   },
   "execution_count": 150
  },
  {
   "cell_type": "code",
   "outputs": [
    {
     "name": "stdout",
     "output_type": "stream",
     "text": [
      "              precision    recall  f1-score   support\n",
      "\n",
      "           0       1.00      0.98      0.99      6464\n",
      "           1       0.03      0.17      0.04        18\n",
      "\n",
      "    accuracy                           0.98      6482\n",
      "   macro avg       0.51      0.57      0.52      6482\n",
      "weighted avg       0.99      0.98      0.99      6482\n"
     ]
    }
   ],
   "source": [
    "from imblearn.over_sampling import SMOTE\n",
    "from sklearn.model_selection import train_test_split\n",
    "from sklearn.metrics import classification_report\n",
    "import xgboost as xgb  # Import XGBoost\n",
    "\n",
    "# Assuming final_df is preloaded and 'Class' column is binary\n",
    "X = final_output_df.drop('Class', axis=1)\n",
    "y = final_output_df['Class']\n",
    "\n",
    "# Splitting data into training and test sets\n",
    "X_train, X_test, y_train, y_test = train_test_split(X, y, test_size=0.3, random_state=42)\n",
    "\n",
    "# Applying SMOTE to handle class imbalance\n",
    "smote = SMOTE(random_state=42)\n",
    "X_res, y_res = smote.fit_resample(X_train, y_train)\n",
    "\n",
    "# Training an XGBoost model\n",
    "model = xgb.XGBClassifier(use_label_encoder=False, eval_metric='mlogloss')  # Configure to avoid warnings\n",
    "model.fit(X_res, y_res)\n",
    "\n",
    "# Predicting and evaluating the model\n",
    "predictions = model.predict(X_test)\n",
    "print(classification_report(y_test, predictions))"
   ],
   "metadata": {
    "collapsed": false,
    "ExecuteTime": {
     "end_time": "2024-04-17T21:43:22.036276355Z",
     "start_time": "2024-04-17T21:43:19.193421900Z"
    }
   },
   "execution_count": 151
  },
  {
   "cell_type": "code",
   "outputs": [
    {
     "name": "stdout",
     "output_type": "stream",
     "text": [
      "Total 'predictions == 1': 119\n",
      "Correct predictions (y_test == 1): 3 (2.52%)\n",
      "Incorrect predictions (y_test != 1): 116 (97.48%)\n"
     ]
    }
   ],
   "source": [
    "# Convert X_test to DataFrame\n",
    "X_test_df = pd.DataFrame(X_test, columns=X.columns)\n",
    "\n",
    "# Add y_test and predictions to this DataFrame\n",
    "X_test_df['y_test'] = y_test.values\n",
    "X_test_df['predictions'] = predictions\n",
    "\n",
    "# Subset where predictions are 1\n",
    "predictions_1_df = X_test_df[X_test_df['predictions'] == 1]\n",
    "\n",
    "# Count where y_test also equals 1\n",
    "correct_predictions = predictions_1_df[predictions_1_df['y_test'] == 1].shape[0]\n",
    "\n",
    "# Count where y_test does not equal 1\n",
    "incorrect_predictions = predictions_1_df[predictions_1_df['y_test'] != 1].shape[0]\n",
    "\n",
    "# Total predictions of 1\n",
    "total_predictions_1 = predictions_1_df.shape[0]\n",
    "\n",
    "# Percentage where y_test also equals 1\n",
    "percentage_correct = (correct_predictions / total_predictions_1) * 100 if total_predictions_1 > 0 else 0\n",
    "\n",
    "# Percentage where y_test doesn't equal 1\n",
    "percentage_incorrect = (incorrect_predictions / total_predictions_1) * 100 if total_predictions_1 > 0 else 0\n",
    "\n",
    "# Print results\n",
    "print(f\"Total 'predictions == 1': {total_predictions_1}\")\n",
    "print(f\"Correct predictions (y_test == 1): {correct_predictions} ({percentage_correct:.2f}%)\")\n",
    "print(f\"Incorrect predictions (y_test != 1): {incorrect_predictions} ({percentage_incorrect:.2f}%)\")"
   ],
   "metadata": {
    "collapsed": false,
    "ExecuteTime": {
     "end_time": "2024-04-17T21:43:22.088914241Z",
     "start_time": "2024-04-17T21:43:22.034175133Z"
    }
   },
   "execution_count": 152
  },
  {
   "cell_type": "markdown",
   "source": [
    "# 5. Key Findings"
   ],
   "metadata": {
    "collapsed": false
   }
  },
  {
   "cell_type": "markdown",
   "source": [
    "## Raw Findings"
   ],
   "metadata": {
    "collapsed": false
   }
  },
  {
   "cell_type": "raw",
   "source": [
    "1. Hypothesis Testing (Subject to slight change on a given run)\n",
    "Results for Shift Hour Start:\n",
    "  t-statistic: -4.114964228838617, p-value: 3.877059601621461e-05\n",
    "  Reject the null hypothesis: there is a significant difference between the groups.\n",
    "\n",
    "\n",
    "Results for TotalWorkHoursToDate:\n",
    "  t-statistic: 6.086727131551202, p-value: 1.1587076272417464e-09\n",
    "  Reject the null hypothesis: there is a significant difference between the groups.\n",
    "\n",
    "\n",
    "Results for RestaurantWorkHoursToDate:\n",
    "  t-statistic: 6.086727131551202, p-value: 1.1587076272417464e-09\n",
    "  Reject the null hypothesis: there is a significant difference between the groups.\n",
    "\n",
    "\n",
    "Results for TotalWorkHoursInPrevious7Days:\n",
    "  t-statistic: 11.649240388393197, p-value: 2.483590411438412e-31\n",
    "  Reject the null hypothesis: there is a significant difference between the groups.\n",
    "\n",
    "\n",
    "Results for TotalWorkHoursInPrevious3Days:\n",
    "  t-statistic: 8.483967426927492, p-value: 2.220447565709251e-17\n",
    "  Reject the null hypothesis: there is a significant difference between the groups.\n",
    "  \n",
    "\n",
    "2. Logistic Regression\n",
    "\n",
    "Test Data\n",
    "    Total (y_test == 1): 18\n",
    "    Recall: 16/18\n",
    "    Total 'predictions == 1': 1728\n",
    "    Correct predictions (y_test == 1): 16 (0.93%)\n",
    "    Incorrect predictions (y_test != 1): 1712 (99.07%)\n",
    "\n",
    "Strong recall of logistic regression with relatively low incorrect predictions can serve as a basis of understanding key factors that can be accounted for to reduce errors in employee shifts"
   ],
   "metadata": {
    "collapsed": false
   }
  },
  {
   "cell_type": "markdown",
   "source": [
    "## Summary of Findings from Hypothesis Testing and Logistic Regression Analysis"
   ],
   "metadata": {
    "collapsed": false
   }
  },
  {
   "cell_type": "raw",
   "source": [
    "The analysis focuses on identifying factors that can predict whether an employee's work shift in a restaurant will result in a \"Preventable Error\" (classified as 1) or \"No Preventable Error\" (classified as 0). Here's a detailed summary of the findings from both hypothesis testing and logistic regression:\n",
    "\n",
    "Hypothesis Testing Results\n",
    "\n",
    "The hypothesis testing conducted on various shift-related metrics indicates significant differences between shifts resulting in preventable errors versus those without errors:\n",
    "\n",
    "    Shift Hour Start: The negative t-statistic suggests that shifts starting at certain hours are significantly associated with fewer errors, indicating specific times may be riskier or safer for errors.\n",
    "    Total Work Hours to Date: Both 'TotalWorkHoursToDate' and 'RestaurantWorkHoursToDate' showed a positive t-statistic, indicating that higher cumulative work hours are associated with a greater likelihood of errors. This suggests that fatigue or complacency might increase error rates.\n",
    "    Work Hours in Recent Days: Both 'TotalWorkHoursInPrevious7Days' and 'TotalWorkHoursInPrevious3Days' have very high t-statistics with extremely low p-values, reinforcing that more hours worked in the days leading up to a shift significantly increase the risk of errors. This effect is more pronounced with a shorter look-back period (3 days vs. 7 days).\n",
    "\n",
    "Logistic Regression Performance\n",
    "\n",
    "The logistic regression model, which was trained to predict the occurrence of errors, shows strong recall but with a high rate of false positives:\n",
    "\n",
    "    Recall: High recall (16 out of 18 true positives were correctly identified) indicates the model is effective in identifying most shifts where errors occur.\n",
    "    Precision: The precision is very low, as only 16 out of 1728 predicted positives are true positives. This implies a high rate of false positives (1712 out of 1728), suggesting the model is over-predicting the occurrence of errors.\n",
    "\n",
    "Implications for Predicting Employee Shift Errors\n",
    "\n",
    "    Shift Timing: Understanding which hours are more prone to errors can help in scheduling or in implementing specific checks or support during these times.\n",
    "    Monitoring Work Hours: Keeping track of total work hours and hours worked in the days immediately before a shift can be crucial. Implementing limits or extra precautions after certain thresholds may help mitigate risk.\n",
    "    Model Usage: Despite its high recall, the logistic regression model's utility is currently limited by its low precision. However, it still serves as a valuable tool for identifying potential error-prone shifts. Enhancements in model specificity or supplementary decision rules could reduce false positives.\n",
    "    Preventive Measures: Based on the model's insights, adjustments in shift scheduling during critical hours or after high cumulative work hours could be considered to reduce preventable errors.\n",
    "    "
   ],
   "metadata": {
    "collapsed": false
   }
  }
 ]
}
